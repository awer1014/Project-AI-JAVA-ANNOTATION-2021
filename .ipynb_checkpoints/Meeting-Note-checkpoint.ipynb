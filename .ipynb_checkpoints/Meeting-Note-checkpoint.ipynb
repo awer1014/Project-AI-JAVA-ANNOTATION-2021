{
 "cells": [
  {
   "cell_type": "code",
   "execution_count": null,
   "metadata": {},
   "outputs": [],
   "source": [
    "'''\n",
    "MM/DD issue:\n",
    "    filename:\n",
    "        name:\n",
    "            change:\n",
    "            issue:\n",
    "'''"
   ]
  },
  {
   "cell_type": "code",
   "execution_count": null,
   "metadata": {},
   "outputs": [],
   "source": [
    "'''\n",
    "MM/DD work:\n",
    "    filename:\n",
    "        name:\n",
    "            detail:\n",
    "'''"
   ]
  },
  {
   "cell_type": "code",
   "execution_count": null,
   "metadata": {},
   "outputs": [],
   "source": [
    "'''\n",
    "8/23 issue:\n",
    "    file name:\n",
    "        main: (slove)\n",
    "            change: \n",
    "                both loop file dir cahnge to \"str(i)\"--->org is: \"case[loop+i]\" \n",
    "            issue:\n",
    "                line 220: x_train, x_test, y_train, y_test = train_test_split(x, y, test_size = 0.1, random_state=42)\n",
    "                Found input variables with inconsistent numbers of samples: [101000, 50000]\n",
    "\n",
    "8/23 issue:\n",
    "    file name:                \n",
    "        data generator: (solve)\n",
    "            prob:\n",
    "                when getting data4 data, data_id will out of range\n",
    "                error message : \"list index out of range\" in databuffer line: 65 return data_block[self.__get_data_idx(dataID)]\n",
    "            quest:\n",
    "                why:\n",
    "                    __get_data_idx() funct need to return with %\n",
    "                    __data_generation return with x1, [y1] + y2\n",
    "\n",
    "                \n",
    "'''"
   ]
  },
  {
   "cell_type": "code",
   "execution_count": null,
   "metadata": {},
   "outputs": [],
   "source": [
    "'''\n",
    "8/25 work:\n",
    "    file_name:\n",
    "        main:\n",
    "            detail:\n",
    "                model para street test\n",
    "        databuffer:\n",
    "            detail:\n",
    "                test model training data token limit\n",
    "'''"
   ]
  },
  {
   "cell_type": "code",
   "execution_count": null,
   "metadata": {},
   "outputs": [],
   "source": [
    "'''\n",
    "8/26 issue:\n",
    "    file name:                \n",
    "        dara buffer: \n",
    "            prob:\n",
    "                cannot find max_max_lines, max_lbs\n",
    "            fix:\n",
    "                add self.max_line = max_line\n",
    "                add self.max_lbs = max_lbs\n",
    "        data generator2-2:\n",
    "            prob:\n",
    "                when data gen line 65 use data_generation\n",
    "                come up with \"data buffer\" line 21, message \"unsupported operand type(s) for //: 'list' and 'int'\"\n",
    "\n",
    "'''"
   ]
  }
 ],
 "metadata": {
  "kernelspec": {
   "display_name": "Python 3",
   "language": "python",
   "name": "python3"
  },
  "language_info": {
   "codemirror_mode": {
    "name": "ipython",
    "version": 3
   },
   "file_extension": ".py",
   "mimetype": "text/x-python",
   "name": "python",
   "nbconvert_exporter": "python",
   "pygments_lexer": "ipython3",
   "version": "3.8.3"
  }
 },
 "nbformat": 4,
 "nbformat_minor": 4
}
