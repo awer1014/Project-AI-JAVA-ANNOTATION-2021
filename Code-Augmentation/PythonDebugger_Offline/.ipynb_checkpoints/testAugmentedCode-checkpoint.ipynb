{
 "cells": [
  {
   "cell_type": "code",
   "execution_count": 1,
   "metadata": {},
   "outputs": [],
   "source": [
    "import os\n",
    "import python_debugger as pyd\n",
    "import javalang\n",
    "import xml.etree.ElementTree as ET\n",
    "import numpy as np"
   ]
  },
  {
   "cell_type": "code",
   "execution_count": 2,
   "metadata": {},
   "outputs": [],
   "source": [
    "def listdir_fullpath(d):\n",
    "    return [f for f in os.listdir(d)]"
   ]
  },
  {
   "cell_type": "code",
   "execution_count": 3,
   "metadata": {},
   "outputs": [],
   "source": [
    "def augmentCode(sourcefileX, changeVariable,permuStatement, task=1 ):\n",
    "    data=pyd.readJavaFile(sourcefileX)\n",
    "    tree = javalang.parse.parse(data)\n",
    "    newCode,_, permutation = pyd.AST(tree).getAugmentedCode(task = task, changeVariable=changeVariable, permuStatement=permuStatement)\n",
    "    return newCode,permutation"
   ]
  },
  {
   "cell_type": "code",
   "execution_count": 4,
   "metadata": {},
   "outputs": [],
   "source": [
    "def inputGenerate(list_newCode,copyNum,txtfiledir,case):\n",
    "    copyfiledir = txtfiledir + \"\\\\\" + str(copyNum)  #create txt case/0 dir, e.g. XX/CASE/0\n",
    "    if not os.path.exists(copyfiledir):\n",
    "        os.mkdir(copyfiledir)\n",
    "        f_input=open(case,'w') #寫檔\n",
    "        f_input.write(\" <BOC> \")\n",
    "        for newCode in list_newCode:\n",
    "            NEWLINE = \t\"abcdefgijkoooopppp\"\n",
    "            for content in newCode:\n",
    "                print(content)\n",
    "                f_input.write(content)\n",
    "                if(content==NEWLINE):\n",
    "                    f_input.write(\" <CR> \")\n",
    "            f_input.write(\" <EOC> \")\n",
    "        f_input.close()"
   ]
  },
  {
   "cell_type": "code",
   "execution_count": 5,
   "metadata": {},
   "outputs": [],
   "source": [
    "def changeLineBlock(begin, end, permutation):\n",
    "    permu_lineblock = org_lineblock = [value for value in range(begin, end+1)]#make permu_lineblock get permutation value    \n",
    "    for i in range(len(org_lineblock)):\n",
    "        permu_lineblock[i] = permutation[permu_lineblock[i]]    \n",
    "    permu_lineblock.sort()#sort permu\n",
    "    line = [] \n",
    "    lines = []\n",
    "    last_permu = (len(permu_lineblock)-1)\n",
    "    for i in range(len(permu_lineblock)):\n",
    "        if (i == 0):\n",
    "            line.append(permu_lineblock[i])\n",
    "            if (permu_lineblock[i] == permu_lineblock[last_permu]):\n",
    "                lines.append(list(line))\n",
    "                line.clear()\n",
    "        elif (permu_lineblock[i] == (permu_lineblock[i-1]+1) ):\n",
    "            line.append(permu_lineblock[i])\n",
    "            if (permu_lineblock[i] == permu_lineblock[last_permu]):\n",
    "                lines.append(list(line))\n",
    "                line.clear()\n",
    "        elif (permu_lineblock[i] != (permu_lineblock[i-1]+1) ):\n",
    "            lines.append(list(line))\n",
    "            line.clear()\n",
    "            line.append(permu_lineblock[i])\n",
    "            if (permu_lineblock[i] == permu_lineblock[last_permu]):\n",
    "                lines.append(list(line))\n",
    "                line.clear()\n",
    "        else:\n",
    "            line.append(permu_lineblock[i])\n",
    "            lines.append(line)\n",
    "            line.clear()\n",
    "    return lines"
   ]
  },
  {
   "cell_type": "code",
   "execution_count": 6,
   "metadata": {},
   "outputs": [],
   "source": [
    "def xmlGenerate(src_dict,copyNum,xmlfiledir,case):\n",
    "    copyfiledir = txtfiledir + \"\\\\\" + str(copyNum)  #create txt case/0 dir, e.g. XX/CASE/0\n",
    "    if not os.path.exists(copyfiledir):\n",
    "        os.mkdir(copyfiledir)\n",
    "        tree = ET.parse(\"test.xml\")#抓到xml檔\n",
    "        root = tree.getroot()#找到根節點\n",
    "        for Linelist in root.iter(\"Linelist\"):# 尋找 Linelist 節點\n",
    "            for line in Linelist.iter(\"Line\"):#在Linelist 尋找 Line 節點\n",
    "                old_begin=line.get(\"Begin\")# 取得節點指定屬性質\n",
    "                old_end=line.get(\"End\")\n",
    "                src=line.get(\"src\")\n",
    "                print(\"src\",src)\n",
    "                line_blocks=changeLineBlock(old_begin,old_end,src_dict[\"src\"])\n",
    "                for line_block in line_blocks:\n",
    "                    element=Element('line',{'src':src},{'End':line_block[1]},{'Begin':line_block[0]})\n",
    "                    Linelist.append(element)\n",
    "        tree.write(\"output.xml\")"
   ]
  },
  {
   "cell_type": "code",
   "execution_count": 7,
   "metadata": {},
   "outputs": [],
   "source": [
    "if __name__ == '__main__' :\n",
    "    source_dir = \"NormalizedCODES\" #the source codes\n",
    "    dest_dir = \"AugmentedCODES\" #store the augmented files\n",
    "    txt_dir = \"InputTxt\"\n",
    "    xml_dir = \"OutputXml\"\n",
    "    cases = listdir_fullpath(source_dir)\n",
    "    copyNum = 1\n",
    "    for case in cases:\n",
    "        list_newCode=[]\n",
    "        src_dict={}\n",
    "        sourcefiledir = source_dir + \"\\\\\" + case\n",
    "        destfiledir = dest_dir + \"\\\\\" + case\n",
    "        if not os.path.exists(destfiledir):\n",
    "            os.mkdir(destfiledir)  #create dest case dir, e.g. XX/CASE\n",
    "        txtfiledir = txt_dir + \"\\\\\" + case\n",
    "        if not os.path.exists(txtfiledir):\n",
    "            os.mkdir(txtfiledir)  #create txt case dir, e.g. XX/CASE\n",
    "        xmlfiledir = xml_dir + \"\\\\\" + case\n",
    "        if not os.path.exists(xmlfiledir):\n",
    "            os.mkdir(xmlfiledir)  #create xml case dir, e.g. XX/CASE\n",
    "        sourcefiles = listdir_fullpath(sourcefiledir)\n",
    "        for sourcefile in sourcefiles: # .java\n",
    "            for i in range(copyNum):\n",
    "                print(\"Augmenting case : \", case, \"sourcefile: \",sourcefile, \" copy num: \", i, \" ......\") \n",
    "                copyfiledir = destfiledir + \"\\\\\" + str(i)  #create dest case/0 dir, e.g. XX/CASE/0\n",
    "                if not os.path.exists(copyfiledir):\n",
    "                    os.mkdir(copyfiledir)  #create dest case/0 dir\n",
    "                    destfile = copyfiledir + \"\\\\\" + sourcefile\n",
    "                    print(\"destfile:\",destfile)\n",
    "                    newCode, permutation = augmentCode(sourcefile, True, True, 1)\n",
    "                    pyd.write_to_file(newCode, destfile)\n",
    "                    \n",
    "        for i in range(copyNum):\n",
    "            for sourcefile in sourcefiles:\n",
    "                newCode, permutation = augmentCode(sourcefile, True, True, 1)\n",
    "                list_newCode.append(newCode)\n",
    "                #print(\"list_newCode\",list_newCode)\n",
    "                src_dict[\"sourcefile\"]=permutation\n",
    "                #print(src_dict[\"sourcefile\"])\n",
    "            inputGenerate(list_newCode,copyNum,txtfiledir,case)\n",
    "            xmlGenerate(src_dict,copyNum,xmlfiledir,case)\n",
    "        "
   ]
  },
  {
   "cell_type": "code",
   "execution_count": null,
   "metadata": {},
   "outputs": [],
   "source": []
  },
  {
   "cell_type": "code",
   "execution_count": null,
   "metadata": {},
   "outputs": [],
   "source": []
  }
 ],
 "metadata": {
  "kernelspec": {
   "display_name": "Python 3",
   "language": "python",
   "name": "python3"
  },
  "language_info": {
   "codemirror_mode": {
    "name": "ipython",
    "version": 3
   },
   "file_extension": ".py",
   "mimetype": "text/x-python",
   "name": "python",
   "nbconvert_exporter": "python",
   "pygments_lexer": "ipython3",
   "version": "3.8.3"
  }
 },
 "nbformat": 4,
 "nbformat_minor": 4
}
