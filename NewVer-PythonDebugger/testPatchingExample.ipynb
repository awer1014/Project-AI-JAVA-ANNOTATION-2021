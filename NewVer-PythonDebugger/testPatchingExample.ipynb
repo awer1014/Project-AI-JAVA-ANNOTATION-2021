{
 "cells": [
  {
   "cell_type": "code",
   "execution_count": 1,
   "metadata": {},
   "outputs": [
    {
     "name": "stdout",
     "output_type": "stream",
     "text": [
      "src_filename:  SourceCODES\\633\\KKBox.java\n",
      "Augmenting case :  633 normalized_filename:  NormalizedCODES\\633\\KKBox.java  copy num:  0  ......\n",
      "src_filename:  SourceCODES\\732\\input.java\n",
      "Augmenting case :  732 normalized_filename:  NormalizedCODES\\732\\input.java  copy num:  0  ......\n",
      "src_filename:  SourceCODES\\732\\keeper.java\n",
      "Augmenting case :  732 normalized_filename:  NormalizedCODES\\732\\keeper.java  copy num:  0  ......\n",
      "src_filename:  SourceCODES\\732\\pet.java\n",
      "Augmenting case :  732 normalized_filename:  NormalizedCODES\\732\\pet.java  copy num:  0  ......\n"
     ]
    }
   ],
   "source": [
    "import javalang\n",
    "import os\n",
    "import chardet\n",
    "import Depatch as dp\n",
    "import python_debugger as pyd\n",
    "import random\n",
    "import testNormalizeCode as nor\n",
    "import testAugmentedCode as aug\n",
    "\n",
    "def listdir_fullpath(d):\n",
    "    return [f for f in os.listdir(d)]\n",
    "\n",
    "def myprint( *args):\n",
    "        if (DEBUG):\n",
    "                print(*args)\n",
    "\n",
    "DEBUG=False\n",
    "if __name__ == '__main__' :\n",
    "    SourceDir = \"SourceCODES\" #already created\n",
    "    PatchedDir = \"PatchCODES\"  #already created\n",
    "    NormalizedDir = \"NormalizedCODES\"  #auto created if not exist\n",
    "    PatchBackDir =  \"PatchBackCODES\" #auto created if not exist\n",
    "    \n",
    "    copyNum = 1 #擴增次數\n",
    "    cases = listdir_fullpath(SourceDir)\n",
    "    for case in cases:\n",
    "        sourcefiledir = SourceDir + \"\\\\\" + case\n",
    "        pachedfiledir = PatchedDir + \"\\\\\" + case\n",
    "        normalfiledir = NormalizedDir + \"\\\\\" + case\n",
    "        patchbackfiledir = PatchBackDir + \"\\\\\" + case\n",
    "        if not os.path.exists(normalfiledir):\n",
    "            os.mkdir(normalfiledir)  #create patchbackfiledir case dir\n",
    "        if not os.path.exists(patchbackfiledir):\n",
    "            os.mkdir(patchbackfiledir)  #create patchbackfiledir case dir\n",
    "        sourcefiles = listdir_fullpath(sourcefiledir)\n",
    "        for sourcefile in sourcefiles:\n",
    "            if not sourcefile.lower().endswith(\".java\"): continue\n",
    "            src_filename = sourcefiledir + \"\\\\\" + sourcefile\n",
    "            patched_filename = pachedfiledir + \"\\\\\" + sourcefile\n",
    "            normalized_filename = normalfiledir + \"\\\\\" + sourcefile\n",
    "            print(\"src_filename: \", src_filename)\n",
    "            #Step 1. compute normalized code\n",
    "            newCode = nor.normalizeCode(patched_filename) #normalized code\n",
    "            myprint(\"normalized code: \", newCode)\n",
    "            pyd.write_to_file(newCode, normalized_filename) #save to normalized code dir\n",
    "            #pyd.write_to_file(newCode, patched_filename) #save to patched file code dir (怕正規化後與程式有差異)\n",
    "\n",
    "            #Step 2. compute patching rules \n",
    "            src_code = pyd.readJavaFile(src_filename) #read syntatic-error code from SourceDir\n",
    "            #怕正規化後與程式有差異(例如，算數運算式)，所以用正規化後的程式\n",
    "            patchRule =  dp.getTransformRule(normalized_filename, src_filename) #(error-free code, buggy code)\n",
    "            myprint(patchRule)\n",
    "            \n",
    "\n",
    "            #Step 3. get patched back code \n",
    "            for i in range(copyNum):\n",
    "                print(\"Augmenting case : \", case, \"normalized_filename: \",normalized_filename, \" copy num: \", i, \" ......\") \n",
    "                copyfiledir = patchbackfiledir + \"\\\\\" + str(i)  #create dest case/0 dir, e.g. XX/CASE/0\n",
    "                if not os.path.exists(copyfiledir):\n",
    "                    os.mkdir(copyfiledir)  #create dest case/0 dir\n",
    "                patchback_filename = copyfiledir + \"\\\\\" + sourcefile\n",
    "                transed_code =dp.transformJavaCode( patchRule, normalized_filename, True, True, task=2 ) #back to syntatic-error with normalized code\n",
    "                pyd.write_to_file(transed_code, patchback_filename) #save to normalized code dir\n",
    "\n"
   ]
  }
 ],
 "metadata": {
  "kernelspec": {
   "display_name": "Python 3",
   "language": "python",
   "name": "python3"
  },
  "language_info": {
   "codemirror_mode": {
    "name": "ipython",
    "version": 3
   },
   "file_extension": ".py",
   "mimetype": "text/x-python",
   "name": "python",
   "nbconvert_exporter": "python",
   "pygments_lexer": "ipython3",
   "version": "3.8.3"
  }
 },
 "nbformat": 4,
 "nbformat_minor": 4
}
