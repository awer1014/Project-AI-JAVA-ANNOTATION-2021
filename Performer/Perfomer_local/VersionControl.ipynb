{
 "cells": [
  {
   "cell_type": "code",
   "execution_count": null,
   "id": "89c18746",
   "metadata": {},
   "outputs": [],
   "source": [
    "#TF and Keras Version Control\n",
    "'''\n",
    "1.Install Visual Studio 2019 for core complier\n",
    "2.Install CUDA 11.2.0\n",
    "3.Insatll cuDnn 8.0 (still have some issue on it, try cpu frist)\n",
    "4.GPU driver require CUDA Version 11.2 rec 461.09\n",
    "'''\n",
    "#\n",
    "#Please follow the following instruction"
   ]
  },
  {
   "cell_type": "code",
   "execution_count": 14,
   "id": "80209137",
   "metadata": {},
   "outputs": [
    {
     "name": "stdout",
     "output_type": "stream",
     "text": [
      "Collecting tensorflow==2.5.0rc0\n",
      "  Using cached tensorflow-2.5.0rc0-cp38-cp38-win_amd64.whl (422.5 MB)\n",
      "Collecting h5py~=3.1.0\n",
      "  Using cached h5py-3.1.0-cp38-cp38-win_amd64.whl (2.7 MB)\n",
      "Collecting tensorboard~=2.4\n"
     ]
    },
    {
     "name": "stderr",
     "output_type": "stream",
     "text": [
      "ERROR: Could not install packages due to an OSError: [WinError 5] Access is denied: 'C:\\\\ProgramData\\\\Anaconda3\\\\Lib\\\\site-packages\\\\urllib3\\\\__init__.py'\n",
      "Consider using the `--user` option or check the permissions.\n",
      "\n"
     ]
    },
    {
     "name": "stdout",
     "output_type": "stream",
     "text": [
      "  Using cached tensorboard-2.5.0-py3-none-any.whl (6.0 MB)\n",
      "Collecting numpy~=1.19.2\n",
      "  Using cached numpy-1.19.5-cp38-cp38-win_amd64.whl (13.3 MB)\n",
      "Collecting grpcio~=1.34.0\n",
      "  Using cached grpcio-1.34.1-cp38-cp38-win_amd64.whl (2.9 MB)\n",
      "Collecting tf-estimator-nightly==2.5.0.dev2021032501\n",
      "  Using cached tf_estimator_nightly-2.5.0.dev2021032501-py2.py3-none-any.whl (462 kB)\n",
      "Collecting six~=1.15.0\n",
      "  Using cached six-1.15.0-py2.py3-none-any.whl (10 kB)\n",
      "Collecting wheel~=0.35\n",
      "  Using cached wheel-0.36.2-py2.py3-none-any.whl (35 kB)\n",
      "Collecting typing-extensions~=3.7.4\n",
      "  Using cached typing_extensions-3.7.4.3-py3-none-any.whl (22 kB)\n",
      "Collecting astunparse~=1.6.3\n",
      "  Using cached astunparse-1.6.3-py2.py3-none-any.whl (12 kB)\n",
      "Collecting opt-einsum~=3.3.0\n",
      "  Using cached opt_einsum-3.3.0-py3-none-any.whl (65 kB)\n",
      "Collecting google-pasta~=0.2\n",
      "  Using cached google_pasta-0.2.0-py3-none-any.whl (57 kB)\n",
      "Collecting wrapt~=1.12.1\n",
      "  Using cached wrapt-1.12.1-py3-none-any.whl\n",
      "Collecting flatbuffers~=1.12.0\n",
      "  Using cached flatbuffers-1.12-py2.py3-none-any.whl (15 kB)\n",
      "Collecting keras-nightly~=2.5.0.dev\n",
      "  Using cached keras_nightly-2.5.0.dev2021032900-py2.py3-none-any.whl (1.2 MB)\n",
      "Collecting termcolor~=1.1.0\n",
      "  Using cached termcolor-1.1.0-py3-none-any.whl\n",
      "Collecting keras-preprocessing~=1.1.2\n",
      "  Using cached Keras_Preprocessing-1.1.2-py2.py3-none-any.whl (42 kB)\n",
      "Collecting absl-py~=0.10\n",
      "  Using cached absl_py-0.13.0-py3-none-any.whl (132 kB)\n",
      "Collecting gast==0.4.0\n",
      "  Using cached gast-0.4.0-py3-none-any.whl (9.8 kB)\n",
      "Collecting protobuf>=3.9.2\n",
      "  Using cached protobuf-3.17.3-py2.py3-none-any.whl (173 kB)\n",
      "Collecting tensorboard-plugin-wit>=1.6.0\n",
      "  Using cached tensorboard_plugin_wit-1.8.0-py3-none-any.whl (781 kB)\n",
      "Collecting setuptools>=41.0.0\n",
      "  Using cached setuptools-57.0.0-py3-none-any.whl (821 kB)\n",
      "Collecting markdown>=2.6.8\n",
      "  Using cached Markdown-3.3.4-py3-none-any.whl (97 kB)\n",
      "Collecting requests<3,>=2.21.0\n",
      "  Using cached requests-2.25.1-py2.py3-none-any.whl (61 kB)\n",
      "Collecting tensorboard-data-server<0.7.0,>=0.6.0\n",
      "  Using cached tensorboard_data_server-0.6.1-py3-none-any.whl (2.4 kB)\n",
      "Collecting google-auth-oauthlib<0.5,>=0.4.1\n",
      "  Using cached google_auth_oauthlib-0.4.4-py2.py3-none-any.whl (18 kB)\n",
      "Collecting google-auth<2,>=1.6.3\n",
      "  Using cached google_auth-1.32.0-py2.py3-none-any.whl (147 kB)\n",
      "Collecting werkzeug>=0.11.15\n",
      "  Using cached Werkzeug-2.0.1-py3-none-any.whl (288 kB)\n",
      "Collecting pyasn1-modules>=0.2.1\n",
      "  Using cached pyasn1_modules-0.2.8-py2.py3-none-any.whl (155 kB)\n",
      "Collecting rsa<5,>=3.1.4\n",
      "  Using cached rsa-4.7.2-py3-none-any.whl (34 kB)\n",
      "Collecting cachetools<5.0,>=2.0.0\n",
      "  Using cached cachetools-4.2.2-py3-none-any.whl (11 kB)\n",
      "Collecting requests-oauthlib>=0.7.0\n",
      "  Using cached requests_oauthlib-1.3.0-py2.py3-none-any.whl (23 kB)\n",
      "Collecting pyasn1<0.5.0,>=0.4.6\n",
      "  Using cached pyasn1-0.4.8-py2.py3-none-any.whl (77 kB)\n",
      "Collecting certifi>=2017.4.17\n",
      "  Using cached certifi-2021.5.30-py2.py3-none-any.whl (145 kB)\n",
      "Collecting urllib3<1.27,>=1.21.1\n",
      "  Using cached urllib3-1.26.6-py2.py3-none-any.whl (138 kB)\n",
      "Collecting idna<3,>=2.5\n",
      "  Using cached idna-2.10-py2.py3-none-any.whl (58 kB)\n",
      "Collecting chardet<5,>=3.0.2\n",
      "  Using cached chardet-4.0.0-py2.py3-none-any.whl (178 kB)\n",
      "Collecting oauthlib>=3.0.0\n",
      "  Using cached oauthlib-3.1.1-py2.py3-none-any.whl (146 kB)\n",
      "Installing collected packages: urllib3, pyasn1, idna, chardet, certifi, six, setuptools, rsa, requests, pyasn1-modules, oauthlib, cachetools, requests-oauthlib, google-auth, wheel, werkzeug, tensorboard-plugin-wit, tensorboard-data-server, protobuf, numpy, markdown, grpcio, google-auth-oauthlib, absl-py, wrapt, typing-extensions, tf-estimator-nightly, termcolor, tensorboard, opt-einsum, keras-preprocessing, keras-nightly, h5py, google-pasta, gast, flatbuffers, astunparse, tensorflow\n",
      "  Attempting uninstall: urllib3\n",
      "    Found existing installation: urllib3 1.26.6\n",
      "    Uninstalling urllib3-1.26.6:\n",
      "      Successfully uninstalled urllib3-1.26.6\n",
      "  Rolling back uninstall of urllib3\n",
      "  Moving to c:\\users\\w.r_chen\\appdata\\roaming\\python\\python38\\site-packages\\urllib3-1.26.6.dist-info\\\n",
      "   from C:\\Users\\W.R_Chen\\AppData\\Roaming\\Python\\Python38\\site-packages\\~rllib3-1.26.6.dist-info\n",
      "  Moving to c:\\users\\w.r_chen\\appdata\\roaming\\python\\python38\\site-packages\\urllib3\\\n",
      "   from C:\\Users\\W.R_Chen\\AppData\\Roaming\\Python\\Python38\\site-packages\\~rllib3\n"
     ]
    }
   ],
   "source": [
    "# encoding: utf-8\n",
    "!pip install tensorflow==2.5.0rc0 --upgrade --force-reinstall\n",
    "#!pip install tensorflow"
   ]
  },
  {
   "cell_type": "code",
   "execution_count": 11,
   "id": "5de61a98",
   "metadata": {},
   "outputs": [
    {
     "name": "stdout",
     "output_type": "stream",
     "text": [
      "Collecting tensorflow-gpu==2.5.0rc0\n",
      "  Using cached tensorflow_gpu-2.5.0rc0-cp38-cp38-win_amd64.whl (422.5 MB)\n",
      "Requirement already satisfied: numpy~=1.19.2 in c:\\users\\w.r_chen\\appdata\\roaming\\python\\python38\\site-packages (from tensorflow-gpu==2.5.0rc0) (1.19.5)\n",
      "Requirement already satisfied: h5py~=3.1.0 in c:\\users\\w.r_chen\\appdata\\roaming\\python\\python38\\site-packages (from tensorflow-gpu==2.5.0rc0) (3.1.0)\n",
      "Requirement already satisfied: keras-preprocessing~=1.1.2 in c:\\users\\w.r_chen\\appdata\\roaming\\python\\python38\\site-packages (from tensorflow-gpu==2.5.0rc0) (1.1.2)\n",
      "Requirement already satisfied: astunparse~=1.6.3 in c:\\users\\w.r_chen\\appdata\\roaming\\python\\python38\\site-packages (from tensorflow-gpu==2.5.0rc0) (1.6.3)\n",
      "Requirement already satisfied: termcolor~=1.1.0 in c:\\users\\w.r_chen\\appdata\\roaming\\python\\python38\\site-packages (from tensorflow-gpu==2.5.0rc0) (1.1.0)\n",
      "Requirement already satisfied: protobuf>=3.9.2 in c:\\users\\w.r_chen\\appdata\\roaming\\python\\python38\\site-packages (from tensorflow-gpu==2.5.0rc0) (3.17.3)\n",
      "Requirement already satisfied: typing-extensions~=3.7.4 in c:\\programdata\\anaconda3\\lib\\site-packages (from tensorflow-gpu==2.5.0rc0) (3.7.4.3)\n",
      "Requirement already satisfied: tf-estimator-nightly==2.5.0.dev2021032501 in c:\\users\\w.r_chen\\appdata\\roaming\\python\\python38\\site-packages (from tensorflow-gpu==2.5.0rc0) (2.5.0.dev2021032501)\n",
      "Requirement already satisfied: absl-py~=0.10 in c:\\users\\w.r_chen\\appdata\\roaming\\python\\python38\\site-packages (from tensorflow-gpu==2.5.0rc0) (0.13.0)\n",
      "Requirement already satisfied: wrapt~=1.12.1 in c:\\programdata\\anaconda3\\lib\\site-packages (from tensorflow-gpu==2.5.0rc0) (1.12.1)\n",
      "Requirement already satisfied: gast==0.4.0 in c:\\users\\w.r_chen\\appdata\\roaming\\python\\python38\\site-packages (from tensorflow-gpu==2.5.0rc0) (0.4.0)\n",
      "Requirement already satisfied: grpcio~=1.34.0 in c:\\users\\w.r_chen\\appdata\\roaming\\python\\python38\\site-packages (from tensorflow-gpu==2.5.0rc0) (1.34.1)\n",
      "Requirement already satisfied: wheel~=0.35 in c:\\users\\w.r_chen\\appdata\\roaming\\python\\python38\\site-packages (from tensorflow-gpu==2.5.0rc0) (0.36.2)\n",
      "Requirement already satisfied: keras-nightly~=2.5.0.dev in c:\\users\\w.r_chen\\appdata\\roaming\\python\\python38\\site-packages (from tensorflow-gpu==2.5.0rc0) (2.5.0.dev2021032900)\n",
      "Requirement already satisfied: tensorboard~=2.4 in c:\\users\\w.r_chen\\appdata\\roaming\\python\\python38\\site-packages (from tensorflow-gpu==2.5.0rc0) (2.5.0)\n",
      "Requirement already satisfied: google-pasta~=0.2 in c:\\users\\w.r_chen\\appdata\\roaming\\python\\python38\\site-packages (from tensorflow-gpu==2.5.0rc0) (0.2.0)\n",
      "Requirement already satisfied: flatbuffers~=1.12.0 in c:\\users\\w.r_chen\\appdata\\roaming\\python\\python38\\site-packages (from tensorflow-gpu==2.5.0rc0) (1.12)\n",
      "Requirement already satisfied: six~=1.15.0 in c:\\users\\w.r_chen\\appdata\\roaming\\python\\python38\\site-packages (from tensorflow-gpu==2.5.0rc0) (1.15.0)\n",
      "Requirement already satisfied: opt-einsum~=3.3.0 in c:\\users\\w.r_chen\\appdata\\roaming\\python\\python38\\site-packages (from tensorflow-gpu==2.5.0rc0) (3.3.0)\n",
      "Requirement already satisfied: werkzeug>=0.11.15 in c:\\users\\w.r_chen\\appdata\\roaming\\python\\python38\\site-packages (from tensorboard~=2.4->tensorflow-gpu==2.5.0rc0) (2.0.1)\n",
      "Requirement already satisfied: tensorboard-plugin-wit>=1.6.0 in c:\\users\\w.r_chen\\appdata\\roaming\\python\\python38\\site-packages (from tensorboard~=2.4->tensorflow-gpu==2.5.0rc0) (1.8.0)\n",
      "Requirement already satisfied: markdown>=2.6.8 in c:\\users\\w.r_chen\\appdata\\roaming\\python\\python38\\site-packages (from tensorboard~=2.4->tensorflow-gpu==2.5.0rc0) (3.3.4)\n",
      "Requirement already satisfied: setuptools>=41.0.0 in c:\\users\\w.r_chen\\appdata\\roaming\\python\\python38\\site-packages (from tensorboard~=2.4->tensorflow-gpu==2.5.0rc0) (57.0.0)\n",
      "Requirement already satisfied: tensorboard-data-server<0.7.0,>=0.6.0 in c:\\users\\w.r_chen\\appdata\\roaming\\python\\python38\\site-packages (from tensorboard~=2.4->tensorflow-gpu==2.5.0rc0) (0.6.1)\n",
      "Requirement already satisfied: google-auth-oauthlib<0.5,>=0.4.1 in c:\\users\\w.r_chen\\appdata\\roaming\\python\\python38\\site-packages (from tensorboard~=2.4->tensorflow-gpu==2.5.0rc0) (0.4.4)\n",
      "Requirement already satisfied: requests<3,>=2.21.0 in c:\\users\\w.r_chen\\appdata\\roaming\\python\\python38\\site-packages (from tensorboard~=2.4->tensorflow-gpu==2.5.0rc0) (2.25.1)\n",
      "Requirement already satisfied: google-auth<2,>=1.6.3 in c:\\users\\w.r_chen\\appdata\\roaming\\python\\python38\\site-packages (from tensorboard~=2.4->tensorflow-gpu==2.5.0rc0) (1.32.0)\n",
      "Requirement already satisfied: cachetools<5.0,>=2.0.0 in c:\\users\\w.r_chen\\appdata\\roaming\\python\\python38\\site-packages (from google-auth<2,>=1.6.3->tensorboard~=2.4->tensorflow-gpu==2.5.0rc0) (4.2.2)\n",
      "Requirement already satisfied: pyasn1-modules>=0.2.1 in c:\\users\\w.r_chen\\appdata\\roaming\\python\\python38\\site-packages (from google-auth<2,>=1.6.3->tensorboard~=2.4->tensorflow-gpu==2.5.0rc0) (0.2.8)\n",
      "Requirement already satisfied: rsa<5,>=3.1.4 in c:\\users\\w.r_chen\\appdata\\roaming\\python\\python38\\site-packages (from google-auth<2,>=1.6.3->tensorboard~=2.4->tensorflow-gpu==2.5.0rc0) (4.7.2)\n",
      "Requirement already satisfied: requests-oauthlib>=0.7.0 in c:\\users\\w.r_chen\\appdata\\roaming\\python\\python38\\site-packages (from google-auth-oauthlib<0.5,>=0.4.1->tensorboard~=2.4->tensorflow-gpu==2.5.0rc0) (1.3.0)\n",
      "Requirement already satisfied: pyasn1<0.5.0,>=0.4.6 in c:\\users\\w.r_chen\\appdata\\roaming\\python\\python38\\site-packages (from pyasn1-modules>=0.2.1->google-auth<2,>=1.6.3->tensorboard~=2.4->tensorflow-gpu==2.5.0rc0) (0.4.8)\n",
      "Requirement already satisfied: urllib3<1.27,>=1.21.1 in c:\\users\\w.r_chen\\appdata\\roaming\\python\\python38\\site-packages (from requests<3,>=2.21.0->tensorboard~=2.4->tensorflow-gpu==2.5.0rc0) (1.26.6)\n",
      "Requirement already satisfied: chardet<5,>=3.0.2 in c:\\users\\w.r_chen\\appdata\\roaming\\python\\python38\\site-packages (from requests<3,>=2.21.0->tensorboard~=2.4->tensorflow-gpu==2.5.0rc0) (4.0.0)\n",
      "Requirement already satisfied: certifi>=2017.4.17 in c:\\users\\w.r_chen\\appdata\\roaming\\python\\python38\\site-packages (from requests<3,>=2.21.0->tensorboard~=2.4->tensorflow-gpu==2.5.0rc0) (2021.5.30)\n",
      "Requirement already satisfied: idna<3,>=2.5 in c:\\users\\w.r_chen\\appdata\\roaming\\python\\python38\\site-packages (from requests<3,>=2.21.0->tensorboard~=2.4->tensorflow-gpu==2.5.0rc0) (2.10)\n",
      "Requirement already satisfied: oauthlib>=3.0.0 in c:\\users\\w.r_chen\\appdata\\roaming\\python\\python38\\site-packages (from requests-oauthlib>=0.7.0->google-auth-oauthlib<0.5,>=0.4.1->tensorboard~=2.4->tensorflow-gpu==2.5.0rc0) (3.1.1)\n",
      "Installing collected packages: tensorflow-gpu\n",
      "Successfully installed tensorflow-gpu-2.5.0rc0\n"
     ]
    }
   ],
   "source": [
    "#!pip install tensorflow-gpu==2.5.0rc0\n",
    "!pip install --upgrade tensorflow-gpu==2.5.0rc0 "
   ]
  },
  {
   "cell_type": "code",
   "execution_count": 12,
   "id": "05012e3b",
   "metadata": {},
   "outputs": [
    {
     "name": "stdout",
     "output_type": "stream",
     "text": [
      "Collecting keras==2.4.3\n",
      "  Using cached Keras-2.4.3-py2.py3-none-any.whl (36 kB)\n",
      "Requirement already satisfied: pyyaml in c:\\users\\w.r_chen\\appdata\\roaming\\python\\python38\\site-packages (from keras==2.4.3) (5.4.1)\n",
      "Requirement already satisfied: numpy>=1.9.1 in c:\\users\\w.r_chen\\appdata\\roaming\\python\\python38\\site-packages (from keras==2.4.3) (1.19.5)\n",
      "Requirement already satisfied: scipy>=0.14 in c:\\users\\w.r_chen\\appdata\\roaming\\python\\python38\\site-packages (from keras==2.4.3) (1.6.3)\n",
      "Requirement already satisfied: h5py in c:\\users\\w.r_chen\\appdata\\roaming\\python\\python38\\site-packages (from keras==2.4.3) (3.1.0)\n",
      "Installing collected packages: keras\n",
      "Successfully installed keras-2.4.3\n",
      "2.5.0\n"
     ]
    }
   ],
   "source": [
    "#!pip install keras --user --upgrade --force-reinstall for getting right version\n",
    "!pip install keras==2.4.3\n",
    "import keras\n",
    "print(keras.__version__)"
   ]
  },
  {
   "cell_type": "code",
   "execution_count": 13,
   "id": "d96881b1",
   "metadata": {
    "scrolled": true
   },
   "outputs": [
    {
     "name": "stdout",
     "output_type": "stream",
     "text": [
      "Collecting keras==2.5.0rc0\n",
      "  Using cached keras-2.5.0rc0-py2.py3-none-any.whl (1.2 MB)\n",
      "Installing collected packages: keras\n",
      "  Attempting uninstall: keras\n",
      "    Found existing installation: Keras 2.4.3\n",
      "    Uninstalling Keras-2.4.3:\n",
      "      Successfully uninstalled Keras-2.4.3\n",
      "Successfully installed keras-2.5.0rc0\n",
      "2.5.0\n"
     ]
    }
   ],
   "source": [
    "#keep doing that\n",
    "!pip install keras==2.5.0rc0\n",
    "import keras\n",
    "print(keras.__version__)\n",
    "#stop at here"
   ]
  },
  {
   "cell_type": "code",
   "execution_count": 1,
   "id": "06730e52",
   "metadata": {},
   "outputs": [
    {
     "name": "stdout",
     "output_type": "stream",
     "text": [
      "Collecting keras==2.4.3\n",
      "  Using cached Keras-2.4.3-py2.py3-none-any.whl (36 kB)\n",
      "Requirement already satisfied: h5py in c:\\users\\w.r_chen\\appdata\\roaming\\python\\python38\\site-packages (from keras==2.4.3) (3.1.0)\n",
      "Requirement already satisfied: pyyaml in c:\\users\\w.r_chen\\appdata\\roaming\\python\\python38\\site-packages (from keras==2.4.3) (5.4.1)\n",
      "Requirement already satisfied: scipy>=0.14 in c:\\users\\w.r_chen\\appdata\\roaming\\python\\python38\\site-packages (from keras==2.4.3) (1.6.3)\n",
      "Requirement already satisfied: numpy>=1.9.1 in c:\\users\\w.r_chen\\appdata\\roaming\\python\\python38\\site-packages (from keras==2.4.3) (1.19.5)\n",
      "Installing collected packages: keras\n",
      "  Attempting uninstall: keras\n",
      "    Found existing installation: keras 2.5.0rc0\n",
      "    Uninstalling keras-2.5.0rc0:\n",
      "      Successfully uninstalled keras-2.5.0rc0\n",
      "Successfully installed keras-2.4.3\n",
      "INFO:tensorflow:Enabling eager execution\n",
      "INFO:tensorflow:Enabling v2 tensorshape\n",
      "INFO:tensorflow:Enabling resource variables\n",
      "INFO:tensorflow:Enabling tensor equality\n",
      "INFO:tensorflow:Enabling control flow v2\n",
      "2.5.0\n"
     ]
    }
   ],
   "source": [
    "#reset and run this\n",
    "#!pip install keras --user --upgrade --force-reinstall\n",
    "!pip install keras==2.4.3\n",
    "import keras\n",
    "print(keras.__version__)"
   ]
  },
  {
   "cell_type": "code",
   "execution_count": 2,
   "id": "0e65b39b",
   "metadata": {},
   "outputs": [
    {
     "name": "stdout",
     "output_type": "stream",
     "text": [
      "Collecting keras-pos-embd\n",
      "  Downloading keras-pos-embd-0.12.0.tar.gz (6.0 kB)\n",
      "Requirement already satisfied: numpy in c:\\users\\w.r_chen\\appdata\\roaming\\python\\python38\\site-packages (from keras-pos-embd) (1.19.5)\n",
      "Requirement already satisfied: Keras in c:\\programdata\\anaconda3\\lib\\site-packages (from keras-pos-embd) (2.4.3)\n",
      "Requirement already satisfied: h5py in c:\\users\\w.r_chen\\appdata\\roaming\\python\\python38\\site-packages (from Keras->keras-pos-embd) (3.1.0)\n",
      "Requirement already satisfied: scipy>=0.14 in c:\\users\\w.r_chen\\appdata\\roaming\\python\\python38\\site-packages (from Keras->keras-pos-embd) (1.6.3)\n",
      "Requirement already satisfied: pyyaml in c:\\users\\w.r_chen\\appdata\\roaming\\python\\python38\\site-packages (from Keras->keras-pos-embd) (5.4.1)\n",
      "Building wheels for collected packages: keras-pos-embd\n",
      "  Building wheel for keras-pos-embd (setup.py): started\n",
      "  Building wheel for keras-pos-embd (setup.py): finished with status 'done'\n",
      "  Created wheel for keras-pos-embd: filename=keras_pos_embd-0.12.0-py3-none-any.whl size=7470 sha256=afec9a07d6465cebbf92f3e5862883bb0f3b533e5b5aa88c6b3cb87fc566384d\n",
      "  Stored in directory: c:\\users\\w.r_chen\\appdata\\local\\pip\\cache\\wheels\\c0\\b7\\8f\\ef4ba34a4f7e8154c0837151d60744a5521bbd2545282a6f08\n",
      "Successfully built keras-pos-embd\n",
      "Installing collected packages: keras-pos-embd\n",
      "Successfully installed keras-pos-embd-0.12.0\n",
      "Collecting keras-multi-head\n",
      "  Downloading keras-multi-head-0.28.0.tar.gz (14 kB)\n",
      "Requirement already satisfied: numpy in c:\\users\\w.r_chen\\appdata\\roaming\\python\\python38\\site-packages (from keras-multi-head) (1.19.5)\n",
      "Requirement already satisfied: Keras in c:\\programdata\\anaconda3\\lib\\site-packages (from keras-multi-head) (2.4.3)\n",
      "Collecting keras-self-attention>=0.50.0\n",
      "  Downloading keras-self-attention-0.50.0.tar.gz (12 kB)\n",
      "Requirement already satisfied: h5py in c:\\users\\w.r_chen\\appdata\\roaming\\python\\python38\\site-packages (from Keras->keras-multi-head) (3.1.0)\n",
      "Requirement already satisfied: pyyaml in c:\\users\\w.r_chen\\appdata\\roaming\\python\\python38\\site-packages (from Keras->keras-multi-head) (5.4.1)\n",
      "Requirement already satisfied: scipy>=0.14 in c:\\users\\w.r_chen\\appdata\\roaming\\python\\python38\\site-packages (from Keras->keras-multi-head) (1.6.3)\n",
      "Building wheels for collected packages: keras-multi-head, keras-self-attention\n",
      "  Building wheel for keras-multi-head (setup.py): started\n",
      "  Building wheel for keras-multi-head (setup.py): finished with status 'done'\n",
      "  Created wheel for keras-multi-head: filename=keras_multi_head-0.28.0-py3-none-any.whl size=15560 sha256=c4593e673f61fb9e816d3b297f99b68a96d84f3ee505ed8444193e1fc1ee7f2f\n",
      "  Stored in directory: c:\\users\\w.r_chen\\appdata\\local\\pip\\cache\\wheels\\eb\\cd\\c0\\b5cc0768484f702e7a5a9a54854821159947043217990cc025\n",
      "  Building wheel for keras-self-attention (setup.py): started\n",
      "  Building wheel for keras-self-attention (setup.py): finished with status 'done'\n",
      "  Created wheel for keras-self-attention: filename=keras_self_attention-0.50.0-py3-none-any.whl size=19415 sha256=9bdad5219b981680e57fff6e7d75c74d211667c6bc147fadc49e8a54eb33b71a\n",
      "  Stored in directory: c:\\users\\w.r_chen\\appdata\\local\\pip\\cache\\wheels\\dc\\33\\4c\\0429815c6d822ce17fc32b0809659e4a083b7e05fc26699450\n",
      "Successfully built keras-multi-head keras-self-attention\n",
      "Installing collected packages: keras-self-attention, keras-multi-head\n",
      "Successfully installed keras-multi-head-0.28.0 keras-self-attention-0.50.0\n",
      "Collecting keras-embed-sim\n",
      "  Downloading keras-embed-sim-0.9.0.tar.gz (4.1 kB)\n",
      "Requirement already satisfied: numpy in c:\\users\\w.r_chen\\appdata\\roaming\\python\\python38\\site-packages (from keras-embed-sim) (1.19.5)\n",
      "Requirement already satisfied: Keras in c:\\programdata\\anaconda3\\lib\\site-packages (from keras-embed-sim) (2.4.3)\n",
      "Requirement already satisfied: scipy>=0.14 in c:\\users\\w.r_chen\\appdata\\roaming\\python\\python38\\site-packages (from Keras->keras-embed-sim) (1.6.3)\n",
      "Requirement already satisfied: pyyaml in c:\\users\\w.r_chen\\appdata\\roaming\\python\\python38\\site-packages (from Keras->keras-embed-sim) (5.4.1)\n",
      "Requirement already satisfied: h5py in c:\\users\\w.r_chen\\appdata\\roaming\\python\\python38\\site-packages (from Keras->keras-embed-sim) (3.1.0)\n",
      "Building wheels for collected packages: keras-embed-sim\n",
      "  Building wheel for keras-embed-sim (setup.py): started\n",
      "  Building wheel for keras-embed-sim (setup.py): finished with status 'done'\n",
      "  Created wheel for keras-embed-sim: filename=keras_embed_sim-0.9.0-py3-none-any.whl size=4506 sha256=54f948d4c66bb90e07561cb158f7aa1ad9fd9ff0fb6b603a3e564c7b5d13c8e9\n",
      "  Stored in directory: c:\\users\\w.r_chen\\appdata\\local\\pip\\cache\\wheels\\27\\20\\08\\4d24796fdf8219bdd7c108bd7aa94b83bbe2500bd695a9f710\n",
      "Successfully built keras-embed-sim\n",
      "Installing collected packages: keras-embed-sim\n",
      "Successfully installed keras-embed-sim-0.9.0\n"
     ]
    }
   ],
   "source": [
    "!pip install keras-pos-embd \n",
    "!pip install keras-multi-head \n",
    "!pip install keras-embed-sim "
   ]
  }
 ],
 "metadata": {
  "kernelspec": {
   "display_name": "Python 3",
   "language": "python",
   "name": "python3"
  },
  "language_info": {
   "codemirror_mode": {
    "name": "ipython",
    "version": 3
   },
   "file_extension": ".py",
   "mimetype": "text/x-python",
   "name": "python",
   "nbconvert_exporter": "python",
   "pygments_lexer": "ipython3",
   "version": "3.8.8"
  }
 },
 "nbformat": 4,
 "nbformat_minor": 5
}
