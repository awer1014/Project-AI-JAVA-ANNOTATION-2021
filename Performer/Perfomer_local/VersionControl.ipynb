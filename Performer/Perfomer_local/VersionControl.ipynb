{
 "cells": [
  {
   "cell_type": "code",
   "execution_count": null,
   "id": "89c18746",
   "metadata": {},
   "outputs": [],
   "source": [
    "#TF and Keras Version Control\n",
    "'''\n",
    "1.Install Visual Studio 2019 for core complier\n",
    "2.Install CUDA 11.2.0\n",
    "3.Insatll cuDnn 8.0 (still have some issue on it, try cpu frist)\n",
    "4.GPU driver require CUDA Version 11.2 rec 461.09\n",
    "'''\n",
    "#\n",
    "#Please follow the following instruction"
   ]
  },
  {
   "cell_type": "code",
   "execution_count": 1,
   "id": "80209137",
   "metadata": {},
   "outputs": [
    {
     "name": "stdout",
     "output_type": "stream",
     "text": [
      "Requirement already satisfied: tensorflow==2.5.0rc0 in c:\\programdata\\anaconda3\\lib\\site-packages (2.5.0rc0)\n",
      "Requirement already satisfied: typing-extensions~=3.7.4 in c:\\programdata\\anaconda3\\lib\\site-packages (from tensorflow==2.5.0rc0) (3.7.4.3)\n",
      "Requirement already satisfied: tf-estimator-nightly==2.5.0.dev2021032501 in c:\\users\\w.r_chen\\appdata\\roaming\\python\\python38\\site-packages (from tensorflow==2.5.0rc0) (2.5.0.dev2021032501)\n",
      "Requirement already satisfied: astunparse~=1.6.3 in c:\\users\\w.r_chen\\appdata\\roaming\\python\\python38\\site-packages (from tensorflow==2.5.0rc0) (1.6.3)\n",
      "Requirement already satisfied: six~=1.15.0 in c:\\users\\w.r_chen\\appdata\\roaming\\python\\python38\\site-packages (from tensorflow==2.5.0rc0) (1.15.0)\n",
      "Requirement already satisfied: google-pasta~=0.2 in c:\\users\\w.r_chen\\appdata\\roaming\\python\\python38\\site-packages (from tensorflow==2.5.0rc0) (0.2.0)\n",
      "Requirement already satisfied: opt-einsum~=3.3.0 in c:\\users\\w.r_chen\\appdata\\roaming\\python\\python38\\site-packages (from tensorflow==2.5.0rc0) (3.3.0)\n",
      "Requirement already satisfied: numpy~=1.19.2 in c:\\users\\w.r_chen\\appdata\\roaming\\python\\python38\\site-packages (from tensorflow==2.5.0rc0) (1.19.5)\n",
      "Requirement already satisfied: wrapt~=1.12.1 in c:\\programdata\\anaconda3\\lib\\site-packages (from tensorflow==2.5.0rc0) (1.12.1)\n",
      "Requirement already satisfied: wheel~=0.35 in c:\\users\\w.r_chen\\appdata\\roaming\\python\\python38\\site-packages (from tensorflow==2.5.0rc0) (0.36.2)\n",
      "Requirement already satisfied: flatbuffers~=1.12.0 in c:\\users\\w.r_chen\\appdata\\roaming\\python\\python38\\site-packages (from tensorflow==2.5.0rc0) (1.12)\n",
      "Requirement already satisfied: h5py~=3.1.0 in c:\\users\\w.r_chen\\appdata\\roaming\\python\\python38\\site-packages (from tensorflow==2.5.0rc0) (3.1.0)\n",
      "Requirement already satisfied: absl-py~=0.10 in c:\\users\\w.r_chen\\appdata\\roaming\\python\\python38\\site-packages (from tensorflow==2.5.0rc0) (0.13.0)\n",
      "Requirement already satisfied: gast==0.4.0 in c:\\users\\w.r_chen\\appdata\\roaming\\python\\python38\\site-packages (from tensorflow==2.5.0rc0) (0.4.0)\n",
      "Requirement already satisfied: termcolor~=1.1.0 in c:\\users\\w.r_chen\\appdata\\roaming\\python\\python38\\site-packages (from tensorflow==2.5.0rc0) (1.1.0)\n",
      "Requirement already satisfied: keras-preprocessing~=1.1.2 in c:\\users\\w.r_chen\\appdata\\roaming\\python\\python38\\site-packages (from tensorflow==2.5.0rc0) (1.1.2)\n",
      "Requirement already satisfied: grpcio~=1.34.0 in c:\\users\\w.r_chen\\appdata\\roaming\\python\\python38\\site-packages (from tensorflow==2.5.0rc0) (1.34.1)\n",
      "Requirement already satisfied: tensorboard~=2.4 in c:\\users\\w.r_chen\\appdata\\roaming\\python\\python38\\site-packages (from tensorflow==2.5.0rc0) (2.5.0)\n",
      "Requirement already satisfied: keras-nightly~=2.5.0.dev in c:\\users\\w.r_chen\\appdata\\roaming\\python\\python38\\site-packages (from tensorflow==2.5.0rc0) (2.5.0.dev2021032900)\n",
      "Requirement already satisfied: protobuf>=3.9.2 in c:\\users\\w.r_chen\\appdata\\roaming\\python\\python38\\site-packages (from tensorflow==2.5.0rc0) (3.17.3)\n",
      "Requirement already satisfied: google-auth<2,>=1.6.3 in c:\\users\\w.r_chen\\appdata\\roaming\\python\\python38\\site-packages (from tensorboard~=2.4->tensorflow==2.5.0rc0) (1.32.0)\n",
      "Requirement already satisfied: tensorboard-plugin-wit>=1.6.0 in c:\\users\\w.r_chen\\appdata\\roaming\\python\\python38\\site-packages (from tensorboard~=2.4->tensorflow==2.5.0rc0) (1.8.0)\n",
      "Requirement already satisfied: setuptools>=41.0.0 in c:\\users\\w.r_chen\\appdata\\roaming\\python\\python38\\site-packages (from tensorboard~=2.4->tensorflow==2.5.0rc0) (57.0.0)\n",
      "Requirement already satisfied: markdown>=2.6.8 in c:\\users\\w.r_chen\\appdata\\roaming\\python\\python38\\site-packages (from tensorboard~=2.4->tensorflow==2.5.0rc0) (3.3.4)\n",
      "Requirement already satisfied: requests<3,>=2.21.0 in c:\\users\\w.r_chen\\appdata\\roaming\\python\\python38\\site-packages (from tensorboard~=2.4->tensorflow==2.5.0rc0) (2.25.1)\n",
      "Requirement already satisfied: tensorboard-data-server<0.7.0,>=0.6.0 in c:\\users\\w.r_chen\\appdata\\roaming\\python\\python38\\site-packages (from tensorboard~=2.4->tensorflow==2.5.0rc0) (0.6.1)\n",
      "Requirement already satisfied: google-auth-oauthlib<0.5,>=0.4.1 in c:\\users\\w.r_chen\\appdata\\roaming\\python\\python38\\site-packages (from tensorboard~=2.4->tensorflow==2.5.0rc0) (0.4.4)\n",
      "Requirement already satisfied: werkzeug>=0.11.15 in c:\\users\\w.r_chen\\appdata\\roaming\\python\\python38\\site-packages (from tensorboard~=2.4->tensorflow==2.5.0rc0) (2.0.1)\n",
      "Requirement already satisfied: rsa<5,>=3.1.4 in c:\\users\\w.r_chen\\appdata\\roaming\\python\\python38\\site-packages (from google-auth<2,>=1.6.3->tensorboard~=2.4->tensorflow==2.5.0rc0) (4.7.2)\n",
      "Requirement already satisfied: pyasn1-modules>=0.2.1 in c:\\users\\w.r_chen\\appdata\\roaming\\python\\python38\\site-packages (from google-auth<2,>=1.6.3->tensorboard~=2.4->tensorflow==2.5.0rc0) (0.2.8)\n",
      "Requirement already satisfied: cachetools<5.0,>=2.0.0 in c:\\users\\w.r_chen\\appdata\\roaming\\python\\python38\\site-packages (from google-auth<2,>=1.6.3->tensorboard~=2.4->tensorflow==2.5.0rc0) (4.2.2)\n",
      "Requirement already satisfied: requests-oauthlib>=0.7.0 in c:\\users\\w.r_chen\\appdata\\roaming\\python\\python38\\site-packages (from google-auth-oauthlib<0.5,>=0.4.1->tensorboard~=2.4->tensorflow==2.5.0rc0) (1.3.0)\n",
      "Requirement already satisfied: pyasn1<0.5.0,>=0.4.6 in c:\\users\\w.r_chen\\appdata\\roaming\\python\\python38\\site-packages (from pyasn1-modules>=0.2.1->google-auth<2,>=1.6.3->tensorboard~=2.4->tensorflow==2.5.0rc0) (0.4.8)\n",
      "Requirement already satisfied: idna<3,>=2.5 in c:\\users\\w.r_chen\\appdata\\roaming\\python\\python38\\site-packages (from requests<3,>=2.21.0->tensorboard~=2.4->tensorflow==2.5.0rc0) (2.10)\n",
      "Requirement already satisfied: urllib3<1.27,>=1.21.1 in c:\\users\\w.r_chen\\appdata\\roaming\\python\\python38\\site-packages (from requests<3,>=2.21.0->tensorboard~=2.4->tensorflow==2.5.0rc0) (1.26.6)\n",
      "Requirement already satisfied: chardet<5,>=3.0.2 in c:\\users\\w.r_chen\\appdata\\roaming\\python\\python38\\site-packages (from requests<3,>=2.21.0->tensorboard~=2.4->tensorflow==2.5.0rc0) (4.0.0)\n",
      "Requirement already satisfied: certifi>=2017.4.17 in c:\\users\\w.r_chen\\appdata\\roaming\\python\\python38\\site-packages (from requests<3,>=2.21.0->tensorboard~=2.4->tensorflow==2.5.0rc0) (2021.5.30)\n",
      "Requirement already satisfied: oauthlib>=3.0.0 in c:\\users\\w.r_chen\\appdata\\roaming\\python\\python38\\site-packages (from requests-oauthlib>=0.7.0->google-auth-oauthlib<0.5,>=0.4.1->tensorboard~=2.4->tensorflow==2.5.0rc0) (3.1.1)\n"
     ]
    }
   ],
   "source": [
    "# encoding: utf-8\n",
    "!pip install tensorflow==2.5.0rc0 \n",
    "#--upgrade --force-reinstall\n",
    "#!pip install tensorflow"
   ]
  },
  {
   "cell_type": "code",
   "execution_count": 2,
   "id": "5de61a98",
   "metadata": {},
   "outputs": [
    {
     "name": "stdout",
     "output_type": "stream",
     "text": [
      "Collecting tensorflow-gpu==2.5.0rc0\n",
      "  Using cached tensorflow_gpu-2.5.0rc0-cp38-cp38-win_amd64.whl (422.5 MB)\n",
      "Requirement already satisfied: six~=1.15.0 in c:\\users\\w.r_chen\\appdata\\roaming\\python\\python38\\site-packages (from tensorflow-gpu==2.5.0rc0) (1.15.0)\n",
      "Requirement already satisfied: numpy~=1.19.2 in c:\\users\\w.r_chen\\appdata\\roaming\\python\\python38\\site-packages (from tensorflow-gpu==2.5.0rc0) (1.19.5)\n",
      "Requirement already satisfied: keras-nightly~=2.5.0.dev in c:\\users\\w.r_chen\\appdata\\roaming\\python\\python38\\site-packages (from tensorflow-gpu==2.5.0rc0) (2.5.0.dev2021032900)\n",
      "Requirement already satisfied: astunparse~=1.6.3 in c:\\users\\w.r_chen\\appdata\\roaming\\python\\python38\\site-packages (from tensorflow-gpu==2.5.0rc0) (1.6.3)\n",
      "Requirement already satisfied: flatbuffers~=1.12.0 in c:\\users\\w.r_chen\\appdata\\roaming\\python\\python38\\site-packages (from tensorflow-gpu==2.5.0rc0) (1.12)\n",
      "Requirement already satisfied: termcolor~=1.1.0 in c:\\users\\w.r_chen\\appdata\\roaming\\python\\python38\\site-packages (from tensorflow-gpu==2.5.0rc0) (1.1.0)\n",
      "Requirement already satisfied: keras-preprocessing~=1.1.2 in c:\\users\\w.r_chen\\appdata\\roaming\\python\\python38\\site-packages (from tensorflow-gpu==2.5.0rc0) (1.1.2)\n",
      "Requirement already satisfied: h5py~=3.1.0 in c:\\users\\w.r_chen\\appdata\\roaming\\python\\python38\\site-packages (from tensorflow-gpu==2.5.0rc0) (3.1.0)\n",
      "Requirement already satisfied: protobuf>=3.9.2 in c:\\users\\w.r_chen\\appdata\\roaming\\python\\python38\\site-packages (from tensorflow-gpu==2.5.0rc0) (3.17.3)\n",
      "Requirement already satisfied: wheel~=0.35 in c:\\users\\w.r_chen\\appdata\\roaming\\python\\python38\\site-packages (from tensorflow-gpu==2.5.0rc0) (0.36.2)\n",
      "Requirement already satisfied: absl-py~=0.10 in c:\\users\\w.r_chen\\appdata\\roaming\\python\\python38\\site-packages (from tensorflow-gpu==2.5.0rc0) (0.13.0)\n",
      "Requirement already satisfied: opt-einsum~=3.3.0 in c:\\users\\w.r_chen\\appdata\\roaming\\python\\python38\\site-packages (from tensorflow-gpu==2.5.0rc0) (3.3.0)\n",
      "Requirement already satisfied: typing-extensions~=3.7.4 in c:\\programdata\\anaconda3\\lib\\site-packages (from tensorflow-gpu==2.5.0rc0) (3.7.4.3)\n",
      "Requirement already satisfied: tf-estimator-nightly==2.5.0.dev2021032501 in c:\\users\\w.r_chen\\appdata\\roaming\\python\\python38\\site-packages (from tensorflow-gpu==2.5.0rc0) (2.5.0.dev2021032501)\n",
      "Requirement already satisfied: wrapt~=1.12.1 in c:\\programdata\\anaconda3\\lib\\site-packages (from tensorflow-gpu==2.5.0rc0) (1.12.1)\n",
      "Requirement already satisfied: google-pasta~=0.2 in c:\\users\\w.r_chen\\appdata\\roaming\\python\\python38\\site-packages (from tensorflow-gpu==2.5.0rc0) (0.2.0)\n",
      "Requirement already satisfied: grpcio~=1.34.0 in c:\\users\\w.r_chen\\appdata\\roaming\\python\\python38\\site-packages (from tensorflow-gpu==2.5.0rc0) (1.34.1)\n",
      "Requirement already satisfied: tensorboard~=2.4 in c:\\users\\w.r_chen\\appdata\\roaming\\python\\python38\\site-packages (from tensorflow-gpu==2.5.0rc0) (2.5.0)\n",
      "Requirement already satisfied: gast==0.4.0 in c:\\users\\w.r_chen\\appdata\\roaming\\python\\python38\\site-packages (from tensorflow-gpu==2.5.0rc0) (0.4.0)\n",
      "Requirement already satisfied: setuptools>=41.0.0 in c:\\users\\w.r_chen\\appdata\\roaming\\python\\python38\\site-packages (from tensorboard~=2.4->tensorflow-gpu==2.5.0rc0) (57.0.0)\n",
      "Requirement already satisfied: werkzeug>=0.11.15 in c:\\users\\w.r_chen\\appdata\\roaming\\python\\python38\\site-packages (from tensorboard~=2.4->tensorflow-gpu==2.5.0rc0) (2.0.1)\n",
      "Requirement already satisfied: tensorboard-plugin-wit>=1.6.0 in c:\\users\\w.r_chen\\appdata\\roaming\\python\\python38\\site-packages (from tensorboard~=2.4->tensorflow-gpu==2.5.0rc0) (1.8.0)\n",
      "Requirement already satisfied: tensorboard-data-server<0.7.0,>=0.6.0 in c:\\users\\w.r_chen\\appdata\\roaming\\python\\python38\\site-packages (from tensorboard~=2.4->tensorflow-gpu==2.5.0rc0) (0.6.1)\n",
      "Requirement already satisfied: google-auth-oauthlib<0.5,>=0.4.1 in c:\\users\\w.r_chen\\appdata\\roaming\\python\\python38\\site-packages (from tensorboard~=2.4->tensorflow-gpu==2.5.0rc0) (0.4.4)"
     ]
    },
    {
     "name": "stderr",
     "output_type": "stream",
     "text": [
      "ERROR: Could not install packages due to an OSError: [WinError 5] Access is denied: 'C:\\\\ProgramData\\\\Anaconda3\\\\Lib\\\\site-packages\\\\tensorflow\\\\lite\\\\experimental\\\\microfrontend\\\\python\\\\ops\\\\_audio_microfrontend_op.so'\n",
      "Consider using the `--user` option or check the permissions.\n",
      "\n"
     ]
    },
    {
     "name": "stdout",
     "output_type": "stream",
     "text": [
      "\n",
      "Requirement already satisfied: markdown>=2.6.8 in c:\\users\\w.r_chen\\appdata\\roaming\\python\\python38\\site-packages (from tensorboard~=2.4->tensorflow-gpu==2.5.0rc0) (3.3.4)\n",
      "Requirement already satisfied: requests<3,>=2.21.0 in c:\\users\\w.r_chen\\appdata\\roaming\\python\\python38\\site-packages (from tensorboard~=2.4->tensorflow-gpu==2.5.0rc0) (2.25.1)\n",
      "Requirement already satisfied: google-auth<2,>=1.6.3 in c:\\users\\w.r_chen\\appdata\\roaming\\python\\python38\\site-packages (from tensorboard~=2.4->tensorflow-gpu==2.5.0rc0) (1.32.0)\n",
      "Requirement already satisfied: rsa<5,>=3.1.4 in c:\\users\\w.r_chen\\appdata\\roaming\\python\\python38\\site-packages (from google-auth<2,>=1.6.3->tensorboard~=2.4->tensorflow-gpu==2.5.0rc0) (4.7.2)\n",
      "Requirement already satisfied: cachetools<5.0,>=2.0.0 in c:\\users\\w.r_chen\\appdata\\roaming\\python\\python38\\site-packages (from google-auth<2,>=1.6.3->tensorboard~=2.4->tensorflow-gpu==2.5.0rc0) (4.2.2)\n",
      "Requirement already satisfied: pyasn1-modules>=0.2.1 in c:\\users\\w.r_chen\\appdata\\roaming\\python\\python38\\site-packages (from google-auth<2,>=1.6.3->tensorboard~=2.4->tensorflow-gpu==2.5.0rc0) (0.2.8)\n",
      "Requirement already satisfied: requests-oauthlib>=0.7.0 in c:\\users\\w.r_chen\\appdata\\roaming\\python\\python38\\site-packages (from google-auth-oauthlib<0.5,>=0.4.1->tensorboard~=2.4->tensorflow-gpu==2.5.0rc0) (1.3.0)\n",
      "Requirement already satisfied: pyasn1<0.5.0,>=0.4.6 in c:\\users\\w.r_chen\\appdata\\roaming\\python\\python38\\site-packages (from pyasn1-modules>=0.2.1->google-auth<2,>=1.6.3->tensorboard~=2.4->tensorflow-gpu==2.5.0rc0) (0.4.8)\n",
      "Requirement already satisfied: certifi>=2017.4.17 in c:\\users\\w.r_chen\\appdata\\roaming\\python\\python38\\site-packages (from requests<3,>=2.21.0->tensorboard~=2.4->tensorflow-gpu==2.5.0rc0) (2021.5.30)\n",
      "Requirement already satisfied: idna<3,>=2.5 in c:\\users\\w.r_chen\\appdata\\roaming\\python\\python38\\site-packages (from requests<3,>=2.21.0->tensorboard~=2.4->tensorflow-gpu==2.5.0rc0) (2.10)\n",
      "Requirement already satisfied: chardet<5,>=3.0.2 in c:\\users\\w.r_chen\\appdata\\roaming\\python\\python38\\site-packages (from requests<3,>=2.21.0->tensorboard~=2.4->tensorflow-gpu==2.5.0rc0) (4.0.0)\n",
      "Requirement already satisfied: urllib3<1.27,>=1.21.1 in c:\\users\\w.r_chen\\appdata\\roaming\\python\\python38\\site-packages (from requests<3,>=2.21.0->tensorboard~=2.4->tensorflow-gpu==2.5.0rc0) (1.26.6)\n",
      "Requirement already satisfied: oauthlib>=3.0.0 in c:\\users\\w.r_chen\\appdata\\roaming\\python\\python38\\site-packages (from requests-oauthlib>=0.7.0->google-auth-oauthlib<0.5,>=0.4.1->tensorboard~=2.4->tensorflow-gpu==2.5.0rc0) (3.1.1)\n",
      "Installing collected packages: tensorflow-gpu\n"
     ]
    }
   ],
   "source": [
    "#!pip install tensorflow-gpu==2.5.0rc0\n",
    "!pip install tensorflow-gpu==2.5.0rc0 \n",
    "#--upgrade --force-reinstall"
   ]
  },
  {
   "cell_type": "code",
   "execution_count": 3,
   "id": "05012e3b",
   "metadata": {},
   "outputs": [
    {
     "name": "stdout",
     "output_type": "stream",
     "text": [
      "Requirement already satisfied: keras==2.4.3 in c:\\programdata\\anaconda3\\lib\\site-packages (2.4.3)\n",
      "Requirement already satisfied: scipy>=0.14 in c:\\users\\w.r_chen\\appdata\\roaming\\python\\python38\\site-packages (from keras==2.4.3) (1.6.3)\n",
      "Requirement already satisfied: numpy>=1.9.1 in c:\\users\\w.r_chen\\appdata\\roaming\\python\\python38\\site-packages (from keras==2.4.3) (1.19.5)\n",
      "Requirement already satisfied: h5py in c:\\users\\w.r_chen\\appdata\\roaming\\python\\python38\\site-packages (from keras==2.4.3) (3.1.0)\n",
      "Requirement already satisfied: pyyaml in c:\\users\\w.r_chen\\appdata\\roaming\\python\\python38\\site-packages (from keras==2.4.3) (5.4.1)\n",
      "INFO:tensorflow:Enabling eager execution\n",
      "INFO:tensorflow:Enabling v2 tensorshape\n",
      "INFO:tensorflow:Enabling resource variables\n",
      "INFO:tensorflow:Enabling tensor equality\n",
      "INFO:tensorflow:Enabling control flow v2\n",
      "2.5.0\n"
     ]
    }
   ],
   "source": [
    "#!pip install keras --user --upgrade --force-reinstall for getting right version\n",
    "!pip install keras==2.4.3\n",
    "import keras\n",
    "print(keras.__version__)"
   ]
  },
  {
   "cell_type": "code",
   "execution_count": 4,
   "id": "d96881b1",
   "metadata": {
    "scrolled": true
   },
   "outputs": [
    {
     "name": "stdout",
     "output_type": "stream",
     "text": [
      "Collecting keras==2.5.0rc0\n",
      "  Using cached keras-2.5.0rc0-py2.py3-none-any.whl (1.2 MB)\n",
      "Installing collected packages: keras\n",
      "  Attempting uninstall: keras\n",
      "    Found existing installation: Keras 2.4.3\n",
      "    Uninstalling Keras-2.4.3:\n",
      "      Successfully uninstalled Keras-2.4.3\n",
      "Successfully installed keras-2.5.0rc0\n",
      "2.5.0\n"
     ]
    }
   ],
   "source": [
    "#keep doing that\n",
    "!pip install keras==2.5.0rc0\n",
    "import keras\n",
    "print(keras.__version__)\n",
    "#stop at here"
   ]
  },
  {
   "cell_type": "code",
   "execution_count": 1,
   "id": "06730e52",
   "metadata": {},
   "outputs": [
    {
     "name": "stdout",
     "output_type": "stream",
     "text": [
      "Collecting keras==2.4.3\n",
      "  Using cached Keras-2.4.3-py2.py3-none-any.whl (36 kB)\n",
      "Requirement already satisfied: pyyaml in c:\\users\\w.r_chen\\appdata\\roaming\\python\\python38\\site-packages (from keras==2.4.3) (5.4.1)\n",
      "Requirement already satisfied: h5py in c:\\users\\w.r_chen\\appdata\\roaming\\python\\python38\\site-packages (from keras==2.4.3) (3.1.0)\n",
      "Requirement already satisfied: scipy>=0.14 in c:\\users\\w.r_chen\\appdata\\roaming\\python\\python38\\site-packages (from keras==2.4.3) (1.6.3)\n",
      "Requirement already satisfied: numpy>=1.9.1 in c:\\users\\w.r_chen\\appdata\\roaming\\python\\python38\\site-packages (from keras==2.4.3) (1.19.5)\n",
      "Installing collected packages: keras\n",
      "  Attempting uninstall: keras\n",
      "    Found existing installation: keras 2.5.0rc0\n",
      "    Uninstalling keras-2.5.0rc0:\n",
      "      Successfully uninstalled keras-2.5.0rc0\n",
      "Successfully installed keras-2.4.3\n",
      "INFO:tensorflow:Enabling eager execution\n",
      "INFO:tensorflow:Enabling v2 tensorshape\n",
      "INFO:tensorflow:Enabling resource variables\n",
      "INFO:tensorflow:Enabling tensor equality\n",
      "INFO:tensorflow:Enabling control flow v2\n",
      "keras version:  2.5.0\n"
     ]
    }
   ],
   "source": [
    "#reset and run this\n",
    "#!pip install keras --user --upgrade --force-reinstall\n",
    "!pip install keras==2.4.3\n",
    "import keras\n",
    "print(\"keras version: \", keras.__version__)"
   ]
  },
  {
   "cell_type": "code",
   "execution_count": null,
   "id": "0e65b39b",
   "metadata": {},
   "outputs": [],
   "source": [
    "!pip install keras-pos-embd \n",
    "!pip install keras-multi-head \n",
    "!pip install keras-embed-sim "
   ]
  }
 ],
 "metadata": {
  "kernelspec": {
   "display_name": "Python 3",
   "language": "python",
   "name": "python3"
  },
  "language_info": {
   "codemirror_mode": {
    "name": "ipython",
    "version": 3
   },
   "file_extension": ".py",
   "mimetype": "text/x-python",
   "name": "python",
   "nbconvert_exporter": "python",
   "pygments_lexer": "ipython3",
   "version": "3.8.8"
  }
 },
 "nbformat": 4,
 "nbformat_minor": 5
}
