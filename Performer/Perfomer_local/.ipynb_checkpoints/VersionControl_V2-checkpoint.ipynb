{
 "cells": [
  {
   "cell_type": "code",
   "execution_count": null,
   "metadata": {},
   "outputs": [],
   "source": [
    "#TF and Keras Version Control\n",
    "'''\n",
    "1.Install Visual Studio 2019 for core complier\n",
    "2.Install CUDA 11.2.0\n",
    "3.Insatll cuDnn 8.0 (still have some issue on it, try cpu frist)\n",
    "4.GPU driver require CUDA Version 11.2 rec 461.09\n",
    "'''\n",
    "#V1 can use now no need to use V2 and V3\n",
    "#Please follow the following instruction"
   ]
  },
  {
   "cell_type": "code",
   "execution_count": 1,
   "metadata": {},
   "outputs": [
    {
     "name": "stdout",
     "output_type": "stream",
     "text": [
      "Requirement already satisfied: tensorflow==2.5.0rc0 in c:\\users\\w.r_chen\\appdata\\roaming\\python\\python38\\site-packages (2.5.0rc0)\n",
      "Requirement already satisfied: google-pasta~=0.2 in c:\\users\\w.r_chen\\appdata\\roaming\\python\\python38\\site-packages (from tensorflow==2.5.0rc0) (0.2.0)\n",
      "Requirement already satisfied: keras-nightly~=2.5.0.dev in c:\\users\\w.r_chen\\appdata\\roaming\\python\\python38\\site-packages (from tensorflow==2.5.0rc0) (2.5.0.dev2021032900)\n",
      "Requirement already satisfied: termcolor~=1.1.0 in c:\\users\\w.r_chen\\appdata\\roaming\\python\\python38\\site-packages (from tensorflow==2.5.0rc0) (1.1.0)\n",
      "Requirement already satisfied: six~=1.15.0 in c:\\programdata\\anaconda3\\lib\\site-packages (from tensorflow==2.5.0rc0) (1.15.0)\n",
      "Requirement already satisfied: tensorboard~=2.4 in c:\\users\\w.r_chen\\appdata\\roaming\\python\\python38\\site-packages (from tensorflow==2.5.0rc0) (2.5.0)\n",
      "Requirement already satisfied: astunparse~=1.6.3 in c:\\users\\w.r_chen\\appdata\\roaming\\python\\python38\\site-packages (from tensorflow==2.5.0rc0) (1.6.3)\n",
      "Requirement already satisfied: flatbuffers~=1.12.0 in c:\\users\\w.r_chen\\appdata\\roaming\\python\\python38\\site-packages (from tensorflow==2.5.0rc0) (1.12)\n",
      "Requirement already satisfied: absl-py~=0.10 in c:\\users\\w.r_chen\\appdata\\roaming\\python\\python38\\site-packages (from tensorflow==2.5.0rc0) (0.13.0)\n",
      "Requirement already satisfied: gast==0.4.0 in c:\\users\\w.r_chen\\appdata\\roaming\\python\\python38\\site-packages (from tensorflow==2.5.0rc0) (0.4.0)\n",
      "Requirement already satisfied: typing-extensions~=3.7.4 in c:\\programdata\\anaconda3\\lib\\site-packages (from tensorflow==2.5.0rc0) (3.7.4.3)\n",
      "Requirement already satisfied: keras-preprocessing~=1.1.2 in c:\\users\\w.r_chen\\appdata\\roaming\\python\\python38\\site-packages (from tensorflow==2.5.0rc0) (1.1.2)\n",
      "Collecting protobuf>=3.9.2\n",
      "  Using cached protobuf-3.17.3-cp38-cp38-win_amd64.whl (909 kB)\n",
      "Requirement already satisfied: grpcio~=1.34.0 in c:\\users\\w.r_chen\\appdata\\roaming\\python\\python38\\site-packages (from tensorflow==2.5.0rc0) (1.34.1)\n",
      "Requirement already satisfied: h5py~=3.1.0 in c:\\users\\w.r_chen\\appdata\\roaming\\python\\python38\\site-packages (from tensorflow==2.5.0rc0) (3.1.0)\n",
      "Requirement already satisfied: numpy~=1.19.2 in c:\\users\\w.r_chen\\appdata\\roaming\\python\\python38\\site-packages (from tensorflow==2.5.0rc0) (1.19.5)\n",
      "Requirement already satisfied: opt-einsum~=3.3.0 in c:\\users\\w.r_chen\\appdata\\roaming\\python\\python38\\site-packages (from tensorflow==2.5.0rc0) (3.3.0)\n",
      "Requirement already satisfied: wrapt~=1.12.1 in c:\\programdata\\anaconda3\\lib\\site-packages (from tensorflow==2.5.0rc0) (1.12.1)\n",
      "Requirement already satisfied: wheel~=0.35 in c:\\programdata\\anaconda3\\lib\\site-packages (from tensorflow==2.5.0rc0) (0.36.2)\n",
      "Requirement already satisfied: tf-estimator-nightly==2.5.0.dev2021032501 in c:\\users\\w.r_chen\\appdata\\roaming\\python\\python38\\site-packages (from tensorflow==2.5.0rc0) (2.5.0.dev2021032501)\n",
      "Requirement already satisfied: werkzeug>=0.11.15 in c:\\programdata\\anaconda3\\lib\\site-packages (from tensorboard~=2.4->tensorflow==2.5.0rc0) (1.0.1)\n",
      "Requirement already satisfied: google-auth-oauthlib<0.5,>=0.4.1 in c:\\users\\w.r_chen\\appdata\\roaming\\python\\python38\\site-packages (from tensorboard~=2.4->tensorflow==2.5.0rc0) (0.4.4)\n",
      "Collecting google-auth<2,>=1.6.3\n",
      "  Using cached google_auth-1.32.1-py2.py3-none-any.whl (147 kB)\n",
      "Collecting tensorboard-plugin-wit>=1.6.0\n",
      "  Using cached tensorboard_plugin_wit-1.8.0-py3-none-any.whl (781 kB)\n",
      "Collecting tensorboard-data-server<0.7.0,>=0.6.0\n",
      "  Using cached tensorboard_data_server-0.6.1-py3-none-any.whl (2.4 kB)\n",
      "Requirement already satisfied: setuptools>=41.0.0 in c:\\programdata\\anaconda3\\lib\\site-packages (from tensorboard~=2.4->tensorflow==2.5.0rc0) (52.0.0.post20210125)\n",
      "Requirement already satisfied: markdown>=2.6.8 in c:\\users\\w.r_chen\\appdata\\roaming\\python\\python38\\site-packages (from tensorboard~=2.4->tensorflow==2.5.0rc0) (3.3.4)\n",
      "Requirement already satisfied: requests<3,>=2.21.0 in c:\\programdata\\anaconda3\\lib\\site-packages (from tensorboard~=2.4->tensorflow==2.5.0rc0) (2.25.1)\n",
      "Collecting rsa<5,>=3.1.4\n",
      "  Using cached rsa-4.7.2-py3-none-any.whl (34 kB)\n",
      "Collecting cachetools<5.0,>=2.0.0\n",
      "  Using cached cachetools-4.2.2-py3-none-any.whl (11 kB)\n",
      "Collecting pyasn1-modules>=0.2.1\n",
      "  Using cached pyasn1_modules-0.2.8-py2.py3-none-any.whl (155 kB)\n",
      "Collecting requests-oauthlib>=0.7.0\n",
      "  Using cached requests_oauthlib-1.3.0-py2.py3-none-any.whl (23 kB)\n",
      "Collecting pyasn1<0.5.0,>=0.4.6\n",
      "  Using cached pyasn1-0.4.8-py2.py3-none-any.whl (77 kB)\n",
      "Requirement already satisfied: idna<3,>=2.5 in c:\\programdata\\anaconda3\\lib\\site-packages (from requests<3,>=2.21.0->tensorboard~=2.4->tensorflow==2.5.0rc0) (2.10)\n",
      "Requirement already satisfied: urllib3<1.27,>=1.21.1 in c:\\programdata\\anaconda3\\lib\\site-packages (from requests<3,>=2.21.0->tensorboard~=2.4->tensorflow==2.5.0rc0) (1.26.4)\n",
      "Requirement already satisfied: chardet<5,>=3.0.2 in c:\\programdata\\anaconda3\\lib\\site-packages (from requests<3,>=2.21.0->tensorboard~=2.4->tensorflow==2.5.0rc0) (4.0.0)\n",
      "Requirement already satisfied: certifi>=2017.4.17 in c:\\programdata\\anaconda3\\lib\\site-packages (from requests<3,>=2.21.0->tensorboard~=2.4->tensorflow==2.5.0rc0) (2020.12.5)\n",
      "Collecting oauthlib>=3.0.0\n",
      "  Using cached oauthlib-3.1.1-py2.py3-none-any.whl (146 kB)\n",
      "Installing collected packages: pyasn1, rsa, pyasn1-modules, oauthlib, cachetools, requests-oauthlib, google-auth, tensorboard-plugin-wit, tensorboard-data-server, protobuf\n",
      "Successfully installed cachetools-4.2.2 google-auth-1.32.1 oauthlib-3.1.1 protobuf-3.17.3 pyasn1-0.4.8 pyasn1-modules-0.2.8 requests-oauthlib-1.3.0 rsa-4.7.2 tensorboard-data-server-0.6.1 tensorboard-plugin-wit-1.8.0\n"
     ]
    }
   ],
   "source": [
    "# encoding: utf-8\n",
    "#!pip install tensorflow==2.5.0rc0 --upgrade --force-reinstall #test 1 not rec\n",
    "#!pip install tensorflow==2.5.0rc0 #test work but have issue\n",
    "!pip install tensorflow==2.5.0rc0"
   ]
  },
  {
   "cell_type": "code",
   "execution_count": 2,
   "metadata": {},
   "outputs": [
    {
     "name": "stdout",
     "output_type": "stream",
     "text": [
      "Requirement already satisfied: tensorflow-gpu==2.5.0rc0 in c:\\users\\w.r_chen\\appdata\\roaming\\python\\python38\\site-packages (2.5.0rc0)\n",
      "Requirement already satisfied: h5py~=3.1.0 in c:\\users\\w.r_chen\\appdata\\roaming\\python\\python38\\site-packages (from tensorflow-gpu==2.5.0rc0) (3.1.0)\n",
      "Requirement already satisfied: tensorboard~=2.4 in c:\\users\\w.r_chen\\appdata\\roaming\\python\\python38\\site-packages (from tensorflow-gpu==2.5.0rc0) (2.5.0)\n",
      "Requirement already satisfied: wrapt~=1.12.1 in c:\\programdata\\anaconda3\\lib\\site-packages (from tensorflow-gpu==2.5.0rc0) (1.12.1)\n",
      "Requirement already satisfied: grpcio~=1.34.0 in c:\\users\\w.r_chen\\appdata\\roaming\\python\\python38\\site-packages (from tensorflow-gpu==2.5.0rc0) (1.34.1)\n",
      "Requirement already satisfied: keras-nightly~=2.5.0.dev in c:\\users\\w.r_chen\\appdata\\roaming\\python\\python38\\site-packages (from tensorflow-gpu==2.5.0rc0) (2.5.0.dev2021032900)\n",
      "Requirement already satisfied: astunparse~=1.6.3 in c:\\users\\w.r_chen\\appdata\\roaming\\python\\python38\\site-packages (from tensorflow-gpu==2.5.0rc0) (1.6.3)\n",
      "Requirement already satisfied: flatbuffers~=1.12.0 in c:\\users\\w.r_chen\\appdata\\roaming\\python\\python38\\site-packages (from tensorflow-gpu==2.5.0rc0) (1.12)\n",
      "Requirement already satisfied: termcolor~=1.1.0 in c:\\users\\w.r_chen\\appdata\\roaming\\python\\python38\\site-packages (from tensorflow-gpu==2.5.0rc0) (1.1.0)\n",
      "Requirement already satisfied: wheel~=0.35 in c:\\programdata\\anaconda3\\lib\\site-packages (from tensorflow-gpu==2.5.0rc0) (0.36.2)\n",
      "Requirement already satisfied: gast==0.4.0 in c:\\users\\w.r_chen\\appdata\\roaming\\python\\python38\\site-packages (from tensorflow-gpu==2.5.0rc0) (0.4.0)\n",
      "Requirement already satisfied: absl-py~=0.10 in c:\\users\\w.r_chen\\appdata\\roaming\\python\\python38\\site-packages (from tensorflow-gpu==2.5.0rc0) (0.13.0)\n",
      "Requirement already satisfied: protobuf>=3.9.2 in c:\\programdata\\anaconda3\\lib\\site-packages (from tensorflow-gpu==2.5.0rc0) (3.17.3)\n",
      "Requirement already satisfied: numpy~=1.19.2 in c:\\users\\w.r_chen\\appdata\\roaming\\python\\python38\\site-packages (from tensorflow-gpu==2.5.0rc0) (1.19.5)\n",
      "Requirement already satisfied: opt-einsum~=3.3.0 in c:\\users\\w.r_chen\\appdata\\roaming\\python\\python38\\site-packages (from tensorflow-gpu==2.5.0rc0) (3.3.0)\n",
      "Requirement already satisfied: keras-preprocessing~=1.1.2 in c:\\users\\w.r_chen\\appdata\\roaming\\python\\python38\\site-packages (from tensorflow-gpu==2.5.0rc0) (1.1.2)\n",
      "Requirement already satisfied: tf-estimator-nightly==2.5.0.dev2021032501 in c:\\users\\w.r_chen\\appdata\\roaming\\python\\python38\\site-packages (from tensorflow-gpu==2.5.0rc0) (2.5.0.dev2021032501)\n",
      "Requirement already satisfied: typing-extensions~=3.7.4 in c:\\programdata\\anaconda3\\lib\\site-packages (from tensorflow-gpu==2.5.0rc0) (3.7.4.3)\n",
      "Requirement already satisfied: six~=1.15.0 in c:\\programdata\\anaconda3\\lib\\site-packages (from tensorflow-gpu==2.5.0rc0) (1.15.0)\n",
      "Requirement already satisfied: google-pasta~=0.2 in c:\\users\\w.r_chen\\appdata\\roaming\\python\\python38\\site-packages (from tensorflow-gpu==2.5.0rc0) (0.2.0)\n",
      "Requirement already satisfied: setuptools>=41.0.0 in c:\\programdata\\anaconda3\\lib\\site-packages (from tensorboard~=2.4->tensorflow-gpu==2.5.0rc0) (52.0.0.post20210125)\n",
      "Requirement already satisfied: google-auth<2,>=1.6.3 in c:\\programdata\\anaconda3\\lib\\site-packages (from tensorboard~=2.4->tensorflow-gpu==2.5.0rc0) (1.32.1)\n",
      "Requirement already satisfied: requests<3,>=2.21.0 in c:\\programdata\\anaconda3\\lib\\site-packages (from tensorboard~=2.4->tensorflow-gpu==2.5.0rc0) (2.25.1)\n",
      "Requirement already satisfied: google-auth-oauthlib<0.5,>=0.4.1 in c:\\users\\w.r_chen\\appdata\\roaming\\python\\python38\\site-packages (from tensorboard~=2.4->tensorflow-gpu==2.5.0rc0) (0.4.4)\n",
      "Requirement already satisfied: tensorboard-data-server<0.7.0,>=0.6.0 in c:\\programdata\\anaconda3\\lib\\site-packages (from tensorboard~=2.4->tensorflow-gpu==2.5.0rc0) (0.6.1)\n",
      "Requirement already satisfied: markdown>=2.6.8 in c:\\users\\w.r_chen\\appdata\\roaming\\python\\python38\\site-packages (from tensorboard~=2.4->tensorflow-gpu==2.5.0rc0) (3.3.4)\n",
      "Requirement already satisfied: werkzeug>=0.11.15 in c:\\programdata\\anaconda3\\lib\\site-packages (from tensorboard~=2.4->tensorflow-gpu==2.5.0rc0) (1.0.1)\n",
      "Requirement already satisfied: tensorboard-plugin-wit>=1.6.0 in c:\\programdata\\anaconda3\\lib\\site-packages (from tensorboard~=2.4->tensorflow-gpu==2.5.0rc0) (1.8.0)\n",
      "Requirement already satisfied: cachetools<5.0,>=2.0.0 in c:\\programdata\\anaconda3\\lib\\site-packages (from google-auth<2,>=1.6.3->tensorboard~=2.4->tensorflow-gpu==2.5.0rc0) (4.2.2)\n",
      "Requirement already satisfied: rsa<5,>=3.1.4 in c:\\programdata\\anaconda3\\lib\\site-packages (from google-auth<2,>=1.6.3->tensorboard~=2.4->tensorflow-gpu==2.5.0rc0) (4.7.2)\n",
      "Requirement already satisfied: pyasn1-modules>=0.2.1 in c:\\programdata\\anaconda3\\lib\\site-packages (from google-auth<2,>=1.6.3->tensorboard~=2.4->tensorflow-gpu==2.5.0rc0) (0.2.8)\n",
      "Requirement already satisfied: requests-oauthlib>=0.7.0 in c:\\programdata\\anaconda3\\lib\\site-packages (from google-auth-oauthlib<0.5,>=0.4.1->tensorboard~=2.4->tensorflow-gpu==2.5.0rc0) (1.3.0)\n",
      "Requirement already satisfied: pyasn1<0.5.0,>=0.4.6 in c:\\programdata\\anaconda3\\lib\\site-packages (from pyasn1-modules>=0.2.1->google-auth<2,>=1.6.3->tensorboard~=2.4->tensorflow-gpu==2.5.0rc0) (0.4.8)\n",
      "Requirement already satisfied: certifi>=2017.4.17 in c:\\programdata\\anaconda3\\lib\\site-packages (from requests<3,>=2.21.0->tensorboard~=2.4->tensorflow-gpu==2.5.0rc0) (2020.12.5)\n",
      "Requirement already satisfied: idna<3,>=2.5 in c:\\programdata\\anaconda3\\lib\\site-packages (from requests<3,>=2.21.0->tensorboard~=2.4->tensorflow-gpu==2.5.0rc0) (2.10)\n",
      "Requirement already satisfied: chardet<5,>=3.0.2 in c:\\programdata\\anaconda3\\lib\\site-packages (from requests<3,>=2.21.0->tensorboard~=2.4->tensorflow-gpu==2.5.0rc0) (4.0.0)\n",
      "Requirement already satisfied: urllib3<1.27,>=1.21.1 in c:\\programdata\\anaconda3\\lib\\site-packages (from requests<3,>=2.21.0->tensorboard~=2.4->tensorflow-gpu==2.5.0rc0) (1.26.4)\n",
      "Requirement already satisfied: oauthlib>=3.0.0 in c:\\programdata\\anaconda3\\lib\\site-packages (from requests-oauthlib>=0.7.0->google-auth-oauthlib<0.5,>=0.4.1->tensorboard~=2.4->tensorflow-gpu==2.5.0rc0) (3.1.1)\n"
     ]
    }
   ],
   "source": [
    "#!pip install tensorflow-gpu==2.5.0rc0 --upgrade --force-reinstall #test 1 not rec\n",
    "#!pip install tensorflow-gpu==2.5.0rc0 #test 2 have issue\n",
    "#test 3\n",
    "!pip install tensorflow-gpu==2.5.0rc0"
   ]
  },
  {
   "cell_type": "code",
   "execution_count": 3,
   "metadata": {},
   "outputs": [
    {
     "name": "stdout",
     "output_type": "stream",
     "text": [
      "Collecting keras==2.4.3\n",
      "  Using cached Keras-2.4.3-py2.py3-none-any.whl (36 kB)\n",
      "Requirement already satisfied: pyyaml in c:\\programdata\\anaconda3\\lib\\site-packages (from keras==2.4.3) (5.4.1)\n",
      "Requirement already satisfied: h5py in c:\\users\\w.r_chen\\appdata\\roaming\\python\\python38\\site-packages (from keras==2.4.3) (3.1.0)\n",
      "Requirement already satisfied: scipy>=0.14 in c:\\programdata\\anaconda3\\lib\\site-packages (from keras==2.4.3) (1.6.2)\n",
      "Requirement already satisfied: numpy>=1.9.1 in c:\\users\\w.r_chen\\appdata\\roaming\\python\\python38\\site-packages (from keras==2.4.3) (1.19.5)\n",
      "Installing collected packages: keras\n",
      "Successfully installed keras-2.4.3\n",
      "INFO:tensorflow:Enabling eager execution\n",
      "INFO:tensorflow:Enabling v2 tensorshape\n",
      "INFO:tensorflow:Enabling resource variables\n",
      "INFO:tensorflow:Enabling tensor equality\n",
      "INFO:tensorflow:Enabling control flow v2\n",
      "2.5.0\n"
     ]
    }
   ],
   "source": [
    "#!pip install keras --user --upgrade --force-reinstall for getting right version\n",
    "#!pip install keras==2.4.3 test 1 & 2 have issue\n",
    "!pip install keras==2.4.3\n",
    "import keras as k\n",
    "print(k.__version__)"
   ]
  },
  {
   "cell_type": "code",
   "execution_count": 5,
   "metadata": {
    "scrolled": true
   },
   "outputs": [
    {
     "name": "stdout",
     "output_type": "stream",
     "text": [
      "Collecting keras==2.5.0rc0\n",
      "  Using cached keras-2.5.0rc0-py2.py3-none-any.whl (1.2 MB)\n",
      "Installing collected packages: keras\n",
      "  Attempting uninstall: keras\n",
      "    Found existing installation: Keras 2.4.3\n",
      "    Uninstalling Keras-2.4.3:\n",
      "      Successfully uninstalled Keras-2.4.3\n",
      "Successfully installed keras-2.5.0rc0\n",
      "2.5.0\n"
     ]
    }
   ],
   "source": [
    "#keep doing that\n",
    "!pip install keras==2.5.0rc0 \n",
    "#test 1 & 2 have issue\n",
    "import keras\n",
    "print(keras.__version__)\n",
    "#stop at here"
   ]
  },
  {
   "cell_type": "code",
   "execution_count": 1,
   "metadata": {},
   "outputs": [
    {
     "name": "stdout",
     "output_type": "stream",
     "text": [
      "Collecting keras==2.4.3\n",
      "  Using cached Keras-2.4.3-py2.py3-none-any.whl (36 kB)\n",
      "Requirement already satisfied: pyyaml in c:\\programdata\\anaconda3\\lib\\site-packages (from keras==2.4.3) (5.4.1)\n",
      "Requirement already satisfied: numpy>=1.9.1 in c:\\users\\w.r_chen\\appdata\\roaming\\python\\python38\\site-packages (from keras==2.4.3) (1.19.5)\n",
      "Requirement already satisfied: scipy>=0.14 in c:\\programdata\\anaconda3\\lib\\site-packages (from keras==2.4.3) (1.6.2)\n",
      "Requirement already satisfied: h5py in c:\\users\\w.r_chen\\appdata\\roaming\\python\\python38\\site-packages (from keras==2.4.3) (3.1.0)\n",
      "Installing collected packages: keras\n",
      "  Attempting uninstall: keras\n",
      "    Found existing installation: keras 2.5.0rc0\n",
      "    Uninstalling keras-2.5.0rc0:\n",
      "      Successfully uninstalled keras-2.5.0rc0\n",
      "Successfully installed keras-2.4.3\n",
      "INFO:tensorflow:Enabling eager execution\n",
      "INFO:tensorflow:Enabling v2 tensorshape\n",
      "INFO:tensorflow:Enabling resource variables\n",
      "INFO:tensorflow:Enabling tensor equality\n",
      "INFO:tensorflow:Enabling control flow v2\n",
      "keras version:  2.5.0\n"
     ]
    }
   ],
   "source": [
    "#reset and run this\n",
    "#!pip install keras --user --upgrade --force-reinstall\n",
    "!pip install keras==2.4.3\n",
    "#test 1 & 2 have issue\n",
    "import keras\n",
    "print(\"keras version: \", keras.__version__)"
   ]
  },
  {
   "cell_type": "code",
   "execution_count": 4,
   "metadata": {},
   "outputs": [
    {
     "name": "stdout",
     "output_type": "stream",
     "text": [
      "Collecting keras-pos-embd\n",
      "  Using cached keras_pos_embd-0.12.0-py3-none-any.whl\n",
      "Requirement already satisfied: Keras in c:\\programdata\\anaconda3\\lib\\site-packages (from keras-pos-embd) (2.4.3)\n",
      "Requirement already satisfied: numpy in c:\\users\\w.r_chen\\appdata\\roaming\\python\\python38\\site-packages (from keras-pos-embd) (1.19.5)\n",
      "Requirement already satisfied: pyyaml in c:\\programdata\\anaconda3\\lib\\site-packages (from Keras->keras-pos-embd) (5.4.1)\n",
      "Requirement already satisfied: h5py in c:\\users\\w.r_chen\\appdata\\roaming\\python\\python38\\site-packages (from Keras->keras-pos-embd) (3.1.0)\n",
      "Requirement already satisfied: scipy>=0.14 in c:\\programdata\\anaconda3\\lib\\site-packages (from Keras->keras-pos-embd) (1.6.2)\n",
      "Installing collected packages: keras-pos-embd\n",
      "Successfully installed keras-pos-embd-0.12.0\n",
      "Collecting keras-multi-head\n",
      "  Using cached keras_multi_head-0.28.0-py3-none-any.whl\n",
      "Collecting keras-self-attention>=0.50.0\n",
      "  Using cached keras_self_attention-0.50.0-py3-none-any.whl\n",
      "Requirement already satisfied: numpy in c:\\users\\w.r_chen\\appdata\\roaming\\python\\python38\\site-packages (from keras-multi-head) (1.19.5)\n",
      "Requirement already satisfied: Keras in c:\\programdata\\anaconda3\\lib\\site-packages (from keras-multi-head) (2.4.3)\n",
      "Requirement already satisfied: pyyaml in c:\\programdata\\anaconda3\\lib\\site-packages (from Keras->keras-multi-head) (5.4.1)\n",
      "Requirement already satisfied: scipy>=0.14 in c:\\programdata\\anaconda3\\lib\\site-packages (from Keras->keras-multi-head) (1.6.2)\n",
      "Requirement already satisfied: h5py in c:\\users\\w.r_chen\\appdata\\roaming\\python\\python38\\site-packages (from Keras->keras-multi-head) (3.1.0)\n",
      "Installing collected packages: keras-self-attention, keras-multi-head\n",
      "Successfully installed keras-multi-head-0.28.0 keras-self-attention-0.50.0\n",
      "Collecting keras-embed-sim\n",
      "  Using cached keras_embed_sim-0.9.0-py3-none-any.whl\n",
      "Requirement already satisfied: numpy in c:\\users\\w.r_chen\\appdata\\roaming\\python\\python38\\site-packages (from keras-embed-sim) (1.19.5)\n",
      "Requirement already satisfied: Keras in c:\\programdata\\anaconda3\\lib\\site-packages (from keras-embed-sim) (2.4.3)\n",
      "Requirement already satisfied: scipy>=0.14 in c:\\programdata\\anaconda3\\lib\\site-packages (from Keras->keras-embed-sim) (1.6.2)\n",
      "Requirement already satisfied: pyyaml in c:\\programdata\\anaconda3\\lib\\site-packages (from Keras->keras-embed-sim) (5.4.1)\n",
      "Requirement already satisfied: h5py in c:\\users\\w.r_chen\\appdata\\roaming\\python\\python38\\site-packages (from Keras->keras-embed-sim) (3.1.0)\n",
      "Installing collected packages: keras-embed-sim\n",
      "Successfully installed keras-embed-sim-0.9.0\n"
     ]
    }
   ],
   "source": [
    "!pip install keras-pos-embd \n",
    "!pip install keras-multi-head \n",
    "!pip install keras-embed-sim "
   ]
  }
 ],
 "metadata": {
  "kernelspec": {
   "display_name": "Python 3",
   "language": "python",
   "name": "python3"
  },
  "language_info": {
   "codemirror_mode": {
    "name": "ipython",
    "version": 3
   },
   "file_extension": ".py",
   "mimetype": "text/x-python",
   "name": "python",
   "nbconvert_exporter": "python",
   "pygments_lexer": "ipython3",
   "version": "3.8.3"
  }
 },
 "nbformat": 4,
 "nbformat_minor": 5
}
