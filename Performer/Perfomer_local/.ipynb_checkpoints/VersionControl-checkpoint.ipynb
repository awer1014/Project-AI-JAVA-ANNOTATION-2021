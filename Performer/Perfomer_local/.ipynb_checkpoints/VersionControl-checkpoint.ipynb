{
 "cells": [
  {
   "cell_type": "code",
   "execution_count": null,
   "metadata": {},
   "outputs": [],
   "source": [
    "#TF and Keras Version Control\n",
    "'''\n",
    "1.Install Visual Studio 2019 for core complier\n",
    "2.Install CUDA 11.2.0\n",
    "3.Insatll cuDnn 8.0 (still have some issue on it, try cpu frist)\n",
    "4.GPU driver require CUDA Version 11.2 rec 461.09\n",
    "'''\n",
    "#\n",
    "#Please follow the following instruction"
   ]
  },
  {
   "cell_type": "code",
   "execution_count": null,
   "metadata": {},
   "outputs": [],
   "source": [
    "# encoding: utf-8\n",
    "!pip install tensorflow==2.5.0rc0 --upgrade --force-reinstall\n",
    "#!pip install tensorflow"
   ]
  },
  {
   "cell_type": "code",
   "execution_count": null,
   "metadata": {},
   "outputs": [],
   "source": [
    "!pip install tensorflow-gpu==2.5.0rc0"
   ]
  },
  {
   "cell_type": "code",
   "execution_count": null,
   "metadata": {},
   "outputs": [],
   "source": [
    "#!pip install keras --user --upgrade --force-reinstall for getting right version\n",
    "!pip install keras==2.4.3\n",
    "import keras\n",
    "print(keras.__version__)"
   ]
  },
  {
   "cell_type": "code",
   "execution_count": null,
   "metadata": {},
   "outputs": [],
   "source": [
    "#keep doing that\n",
    "!pip install keras==2.5.0rc0\n",
    "import keras\n",
    "print(keras.__version__)\n",
    "#stop at here"
   ]
  },
  {
   "cell_type": "code",
   "execution_count": 1,
   "metadata": {},
   "outputs": [
    {
     "name": "stdout",
     "output_type": "stream",
     "text": [
      "Collecting keras==2.4.3\n",
      "  Using cached Keras-2.4.3-py2.py3-none-any.whl (36 kB)\n",
      "Requirement already satisfied: h5py in c:\\users\\w.r_chen\\anaconda3\\lib\\site-packages (from keras==2.4.3) (3.1.0)\n",
      "Requirement already satisfied: pyyaml in c:\\users\\w.r_chen\\anaconda3\\lib\\site-packages (from keras==2.4.3) (5.3.1)\n",
      "Requirement already satisfied: scipy>=0.14 in c:\\users\\w.r_chen\\anaconda3\\lib\\site-packages (from keras==2.4.3) (1.5.0)\n",
      "Requirement already satisfied: numpy>=1.9.1 in c:\\users\\w.r_chen\\anaconda3\\lib\\site-packages (from keras==2.4.3) (1.19.5)\n",
      "Installing collected packages: keras\n",
      "  Attempting uninstall: keras\n",
      "    Found existing installation: keras 2.5.0rc0\n",
      "    Uninstalling keras-2.5.0rc0:\n",
      "      Successfully uninstalled keras-2.5.0rc0\n",
      "Successfully installed keras-2.4.3\n",
      "INFO:tensorflow:Enabling eager execution\n",
      "INFO:tensorflow:Enabling v2 tensorshape\n",
      "INFO:tensorflow:Enabling resource variables\n",
      "INFO:tensorflow:Enabling tensor equality\n",
      "INFO:tensorflow:Enabling control flow v2\n",
      "2.4.3\n"
     ]
    }
   ],
   "source": [
    "#reset and run this\n",
    "#!pip install keras --user --upgrade --force-reinstall\n",
    "!pip install keras==2.4.3\n",
    "import keras\n",
    "print(\"Keras ver: \"keras.__version__)"
   ]
  },
  {
   "cell_type": "code",
   "execution_count": 2,
   "metadata": {},
   "outputs": [
    {
     "name": "stdout",
     "output_type": "stream",
     "text": [
      "Collecting keras-pos-embd\n",
      "  Downloading keras-pos-embd-0.12.0.tar.gz (6.0 kB)\n",
      "Requirement already satisfied: numpy in c:\\users\\w.r_chen\\anaconda3\\lib\\site-packages (from keras-pos-embd) (1.19.5)\n",
      "Requirement already satisfied: Keras in c:\\users\\w.r_chen\\anaconda3\\lib\\site-packages (from keras-pos-embd) (2.4.3)\n",
      "Requirement already satisfied: h5py in c:\\users\\w.r_chen\\anaconda3\\lib\\site-packages (from Keras->keras-pos-embd) (3.1.0)\n",
      "Requirement already satisfied: pyyaml in c:\\users\\w.r_chen\\anaconda3\\lib\\site-packages (from Keras->keras-pos-embd) (5.3.1)\n",
      "Requirement already satisfied: scipy>=0.14 in c:\\users\\w.r_chen\\anaconda3\\lib\\site-packages (from Keras->keras-pos-embd) (1.5.0)\n",
      "Building wheels for collected packages: keras-pos-embd\n",
      "  Building wheel for keras-pos-embd (setup.py): started\n",
      "  Building wheel for keras-pos-embd (setup.py): finished with status 'done'\n",
      "  Created wheel for keras-pos-embd: filename=keras_pos_embd-0.12.0-py3-none-any.whl size=7470 sha256=b87449dd43c3dd1aca3225c89ec9b2eca5842d88a32cddd79774f359ebcec9f6\n",
      "  Stored in directory: c:\\users\\w.r_chen\\appdata\\local\\pip\\cache\\wheels\\c0\\b7\\8f\\ef4ba34a4f7e8154c0837151d60744a5521bbd2545282a6f08\n",
      "Successfully built keras-pos-embd\n",
      "Installing collected packages: keras-pos-embd\n",
      "Successfully installed keras-pos-embd-0.12.0\n",
      "Collecting keras-multi-head\n",
      "  Downloading keras-multi-head-0.28.0.tar.gz (14 kB)\n",
      "Requirement already satisfied: numpy in c:\\users\\w.r_chen\\anaconda3\\lib\\site-packages (from keras-multi-head) (1.19.5)\n",
      "Requirement already satisfied: Keras in c:\\users\\w.r_chen\\anaconda3\\lib\\site-packages (from keras-multi-head) (2.4.3)\n",
      "Collecting keras-self-attention>=0.50.0\n",
      "  Downloading keras-self-attention-0.50.0.tar.gz (12 kB)\n",
      "Requirement already satisfied: h5py in c:\\users\\w.r_chen\\anaconda3\\lib\\site-packages (from Keras->keras-multi-head) (3.1.0)\n",
      "Requirement already satisfied: scipy>=0.14 in c:\\users\\w.r_chen\\anaconda3\\lib\\site-packages (from Keras->keras-multi-head) (1.5.0)\n",
      "Requirement already satisfied: pyyaml in c:\\users\\w.r_chen\\anaconda3\\lib\\site-packages (from Keras->keras-multi-head) (5.3.1)\n",
      "Building wheels for collected packages: keras-multi-head, keras-self-attention\n",
      "  Building wheel for keras-multi-head (setup.py): started\n",
      "  Building wheel for keras-multi-head (setup.py): finished with status 'done'\n",
      "  Created wheel for keras-multi-head: filename=keras_multi_head-0.28.0-py3-none-any.whl size=15560 sha256=0c1f9e326a4a889951ceffc46586dedce2766a1580b63a69537fbcc30a4be8b6\n",
      "  Stored in directory: c:\\users\\w.r_chen\\appdata\\local\\pip\\cache\\wheels\\eb\\cd\\c0\\b5cc0768484f702e7a5a9a54854821159947043217990cc025\n",
      "  Building wheel for keras-self-attention (setup.py): started\n",
      "  Building wheel for keras-self-attention (setup.py): finished with status 'done'\n",
      "  Created wheel for keras-self-attention: filename=keras_self_attention-0.50.0-py3-none-any.whl size=19415 sha256=3a8fe8eda8e6f5bbe38f19e3708d64842fcf3cfc38a04916ae747d40717d5574\n",
      "  Stored in directory: c:\\users\\w.r_chen\\appdata\\local\\pip\\cache\\wheels\\dc\\33\\4c\\0429815c6d822ce17fc32b0809659e4a083b7e05fc26699450\n",
      "Successfully built keras-multi-head keras-self-attention\n",
      "Installing collected packages: keras-self-attention, keras-multi-head\n",
      "Successfully installed keras-multi-head-0.28.0 keras-self-attention-0.50.0\n",
      "Collecting keras-embed-sim\n",
      "  Downloading keras-embed-sim-0.9.0.tar.gz (4.1 kB)\n",
      "Requirement already satisfied: numpy in c:\\users\\w.r_chen\\anaconda3\\lib\\site-packages (from keras-embed-sim) (1.19.5)\n",
      "Requirement already satisfied: Keras in c:\\users\\w.r_chen\\anaconda3\\lib\\site-packages (from keras-embed-sim) (2.4.3)\n",
      "Requirement already satisfied: scipy>=0.14 in c:\\users\\w.r_chen\\anaconda3\\lib\\site-packages (from Keras->keras-embed-sim) (1.5.0)\n",
      "Requirement already satisfied: pyyaml in c:\\users\\w.r_chen\\anaconda3\\lib\\site-packages (from Keras->keras-embed-sim) (5.3.1)\n",
      "Requirement already satisfied: h5py in c:\\users\\w.r_chen\\anaconda3\\lib\\site-packages (from Keras->keras-embed-sim) (3.1.0)\n",
      "Building wheels for collected packages: keras-embed-sim\n",
      "  Building wheel for keras-embed-sim (setup.py): started\n",
      "  Building wheel for keras-embed-sim (setup.py): finished with status 'done'\n",
      "  Created wheel for keras-embed-sim: filename=keras_embed_sim-0.9.0-py3-none-any.whl size=4506 sha256=46f7a138613b4a43865f30bd582a5c49016f157e9a631268c6336323105329c0\n",
      "  Stored in directory: c:\\users\\w.r_chen\\appdata\\local\\pip\\cache\\wheels\\27\\20\\08\\4d24796fdf8219bdd7c108bd7aa94b83bbe2500bd695a9f710\n",
      "Successfully built keras-embed-sim\n",
      "Installing collected packages: keras-embed-sim\n",
      "Successfully installed keras-embed-sim-0.9.0\n"
     ]
    }
   ],
   "source": [
    "!pip install keras-pos-embd \n",
    "!pip install keras-multi-head \n",
    "!pip install keras-embed-sim "
   ]
  }
 ],
 "metadata": {
  "kernelspec": {
   "display_name": "Python 3",
   "language": "python",
   "name": "python3"
  },
  "language_info": {
   "codemirror_mode": {
    "name": "ipython",
    "version": 3
   },
   "file_extension": ".py",
   "mimetype": "text/x-python",
   "name": "python",
   "nbconvert_exporter": "python",
   "pygments_lexer": "ipython3",
   "version": "3.8.3"
  }
 },
 "nbformat": 4,
 "nbformat_minor": 5
}
