{
 "cells": [
  {
   "cell_type": "code",
   "execution_count": null,
   "id": "89c18746",
   "metadata": {},
   "outputs": [],
   "source": [
    "#TF and Keras Version Control\n",
    "'''\n",
    "1.Install Visual Studio 2019 for core complier\n",
    "2.Install CUDA 11.2.0\n",
    "3.Insatll cuDnn 8.0 (still have some issue on it, try cpu frist)\n",
    "4.GPU driver require CUDA Version 11.2 rec 461.09\n",
    "'''\n",
    "#\n",
    "#Please follow the following instruction"
   ]
  },
  {
   "cell_type": "code",
   "execution_count": null,
   "id": "80209137",
   "metadata": {},
   "outputs": [],
   "source": [
    "# encoding: utf-8\n",
    "#!pip install tensorflow==2.5.0rc0 --upgrade --force-reinstall #test 1 not rec\n",
    "#!pip install tensorflow==2.5.0rc0 #test work but have issue\n",
    "!pip install tensorflow"
   ]
  },
  {
   "cell_type": "code",
   "execution_count": null,
   "id": "5de61a98",
   "metadata": {},
   "outputs": [],
   "source": [
    "#!pip install tensorflow-gpu==2.5.0rc0 --upgrade --force-reinstall #test 1 not rec\n",
    "#!pip install tensorflow-gpu==2.5.0rc0 #test 2 have issue\n",
    "#test 3\n",
    "!pip install tensorflow-gpu "
   ]
  },
  {
   "cell_type": "code",
   "execution_count": null,
   "id": "05012e3b",
   "metadata": {},
   "outputs": [],
   "source": [
    "#!pip install keras --user --upgrade --force-reinstall for getting right version\n",
    "#!pip install keras==2.4.3 test 1 & 2 have issue\n",
    "#!pip install keras\n",
    "import keras as k\n",
    "print(k.__version__)"
   ]
  },
  {
   "cell_type": "code",
   "execution_count": null,
   "id": "d96881b1",
   "metadata": {
    "scrolled": true
   },
   "outputs": [],
   "source": [
    "#keep doing that\n",
    "#!pip install keras==2.5.0rc0 #test 1 & 2 have issue\n",
    "#import keras\n",
    "#print(keras.__version__)\n",
    "#stop at here"
   ]
  },
  {
   "cell_type": "code",
   "execution_count": null,
   "id": "06730e52",
   "metadata": {},
   "outputs": [],
   "source": [
    "#reset and run this\n",
    "#!pip install keras --user --upgrade --force-reinstall\n",
    "#!pip install keras==2.4.3 #test 1 & 2 have issue\n",
    "#import keras\n",
    "#print(\"keras version: \", keras.__version__)"
   ]
  },
  {
   "cell_type": "code",
   "execution_count": null,
   "id": "0e65b39b",
   "metadata": {},
   "outputs": [],
   "source": [
    "!pip install keras-pos-embd \n",
    "!pip install keras-multi-head \n",
    "!pip install keras-embed-sim "
   ]
  }
 ],
 "metadata": {
  "kernelspec": {
   "display_name": "Python 3",
   "language": "python",
   "name": "python3"
  },
  "language_info": {
   "codemirror_mode": {
    "name": "ipython",
    "version": 3
   },
   "file_extension": ".py",
   "mimetype": "text/x-python",
   "name": "python",
   "nbconvert_exporter": "python",
   "pygments_lexer": "ipython3",
   "version": "3.8.8"
  }
 },
 "nbformat": 4,
 "nbformat_minor": 5
}
