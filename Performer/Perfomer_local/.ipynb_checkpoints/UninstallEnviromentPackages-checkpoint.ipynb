{
 "cells": [
  {
   "cell_type": "code",
   "execution_count": null,
   "id": "151fd022",
   "metadata": {},
   "outputs": [],
   "source": [
    "#Uninstall enviroment packages\n",
    "#please follow the following instruction"
   ]
  },
  {
   "cell_type": "code",
   "execution_count": null,
   "id": "974a0e48",
   "metadata": {
    "scrolled": true
   },
   "outputs": [],
   "source": [
    "#uninstall wrong version packages\n",
    "#Caution it might be dangerouse\n",
    "!pip uninstall -y tensorflow"
   ]
  },
  {
   "cell_type": "code",
   "execution_count": null,
   "id": "ae61d0bf",
   "metadata": {
    "scrolled": true
   },
   "outputs": [],
   "source": [
    "!pip uninstall -y tensorflow-gpu "
   ]
  },
  {
   "cell_type": "code",
   "execution_count": null,
   "id": "c5cc7552",
   "metadata": {},
   "outputs": [],
   "source": [
    "!pip uninstall -y keras"
   ]
  },
  {
   "cell_type": "code",
   "execution_count": null,
   "id": "45b73571",
   "metadata": {},
   "outputs": [],
   "source": [
    "!pip uninstall -y keras-pos-embd "
   ]
  },
  {
   "cell_type": "code",
   "execution_count": null,
   "id": "9ae21725",
   "metadata": {},
   "outputs": [],
   "source": [
    "!pip uninstall -y keras-multi-head"
   ]
  },
  {
   "cell_type": "code",
   "execution_count": null,
   "id": "1b3e410a",
   "metadata": {},
   "outputs": [],
   "source": [
    " !pip uninstall -y keras-embed-sim "
   ]
  },
  {
   "cell_type": "code",
   "execution_count": null,
   "id": "a9dc8db6",
   "metadata": {},
   "outputs": [],
   "source": []
  }
 ],
 "metadata": {
  "kernelspec": {
   "display_name": "Python 3",
   "language": "python",
   "name": "python3"
  },
  "language_info": {
   "codemirror_mode": {
    "name": "ipython",
    "version": 3
   },
   "file_extension": ".py",
   "mimetype": "text/x-python",
   "name": "python",
   "nbconvert_exporter": "python",
   "pygments_lexer": "ipython3",
   "version": "3.8.8"
  }
 },
 "nbformat": 4,
 "nbformat_minor": 5
}
