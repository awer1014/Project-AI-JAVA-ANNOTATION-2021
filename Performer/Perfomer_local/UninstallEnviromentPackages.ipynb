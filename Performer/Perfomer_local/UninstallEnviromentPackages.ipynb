{
 "cells": [
  {
   "cell_type": "code",
   "execution_count": null,
   "id": "151fd022",
   "metadata": {},
   "outputs": [],
   "source": [
    "#Uninstall enviroment packages\n",
    "#please follow the following instruction"
   ]
  },
  {
   "cell_type": "code",
   "execution_count": 1,
   "id": "974a0e48",
   "metadata": {},
   "outputs": [
    {
     "name": "stdout",
     "output_type": "stream",
     "text": [
      "Found existing installation: tensorflow 2.5.0rc0"
     ]
    },
    {
     "name": "stderr",
     "output_type": "stream",
     "text": [
      "ERROR: Exception:\n",
      "Traceback (most recent call last):\n",
      "  File \"C:\\Users\\W.R_Chen\\anaconda3\\lib\\site-packages\\pip\\_internal\\cli\\base_command.py\", line 189, in _main\n",
      "    status = self.run(options, args)\n",
      "  File \"C:\\Users\\W.R_Chen\\anaconda3\\lib\\site-packages\\pip\\_internal\\commands\\uninstall.py\", line 91, in run\n",
      "    uninstall_pathset.commit()\n",
      "  File \"C:\\Users\\W.R_Chen\\anaconda3\\lib\\site-packages\\pip\\_internal\\req\\req_uninstall.py\", line 456, in commit\n",
      "    self._moved_paths.commit()\n",
      "  File \"C:\\Users\\W.R_Chen\\anaconda3\\lib\\site-packages\\pip\\_internal\\req\\req_uninstall.py\", line 296, in commit\n",
      "    save_dir.cleanup()\n",
      "  File \"C:\\Users\\W.R_Chen\\anaconda3\\lib\\site-packages\\pip\\_internal\\utils\\temp_dir.py\", line 205, in cleanup\n",
      "    rmtree(ensure_text(self._path))"
     ]
    },
    {
     "name": "stdout",
     "output_type": "stream",
     "text": [
      "\n",
      "Uninstalling tensorflow-2.5.0rc0:\n",
      "  Successfully uninstalled tensorflow-2.5.0rc0\n"
     ]
    },
    {
     "name": "stderr",
     "output_type": "stream",
     "text": [
      "\n",
      "  File \"C:\\Users\\W.R_Chen\\anaconda3\\lib\\site-packages\\pip\\_vendor\\retrying.py\", line 49, in wrapped_f\n",
      "    return Retrying(*dargs, **dkw).call(f, *args, **kw)\n",
      "  File \"C:\\Users\\W.R_Chen\\anaconda3\\lib\\site-packages\\pip\\_vendor\\retrying.py\", line 212, in call\n",
      "    raise attempt.get()\n",
      "  File \"C:\\Users\\W.R_Chen\\anaconda3\\lib\\site-packages\\pip\\_vendor\\retrying.py\", line 247, in get\n",
      "    six.reraise(self.value[0], self.value[1], self.value[2])\n",
      "  File \"C:\\Users\\W.R_Chen\\anaconda3\\lib\\site-packages\\pip\\_vendor\\six.py\", line 703, in reraise\n",
      "    raise value\n",
      "  File \"C:\\Users\\W.R_Chen\\anaconda3\\lib\\site-packages\\pip\\_vendor\\retrying.py\", line 200, in call\n",
      "    attempt = Attempt(fn(*args, **kwargs), attempt_number, False)\n",
      "  File \"C:\\Users\\W.R_Chen\\anaconda3\\lib\\site-packages\\pip\\_internal\\utils\\misc.py\", line 129, in rmtree\n",
      "    shutil.rmtree(dir, ignore_errors=ignore_errors,\n",
      "  File \"C:\\Users\\W.R_Chen\\anaconda3\\lib\\shutil.py\", line 740, in rmtree\n",
      "    return _rmtree_unsafe(path, onerror)\n",
      "  File \"C:\\Users\\W.R_Chen\\anaconda3\\lib\\shutil.py\", line 613, in _rmtree_unsafe\n",
      "    _rmtree_unsafe(fullname, onerror)\n",
      "  File \"C:\\Users\\W.R_Chen\\anaconda3\\lib\\shutil.py\", line 613, in _rmtree_unsafe\n",
      "    _rmtree_unsafe(fullname, onerror)\n",
      "  File \"C:\\Users\\W.R_Chen\\anaconda3\\lib\\shutil.py\", line 613, in _rmtree_unsafe\n",
      "    _rmtree_unsafe(fullname, onerror)\n",
      "  [Previous line repeated 2 more times]\n",
      "  File \"C:\\Users\\W.R_Chen\\anaconda3\\lib\\shutil.py\", line 618, in _rmtree_unsafe\n",
      "    onerror(os.unlink, fullname, sys.exc_info())\n",
      "  File \"C:\\Users\\W.R_Chen\\anaconda3\\lib\\shutil.py\", line 616, in _rmtree_unsafe\n",
      "    os.unlink(fullname)\n",
      "PermissionError: [WinError 5] Access is denied: 'C:\\\\Users\\\\W.R_Chen\\\\anaconda3\\\\Lib\\\\site-packages\\\\~2nsorflow\\\\lite\\\\experimental\\\\microfrontend\\\\python\\\\ops\\\\_audio_microfrontend_op.so'\n"
     ]
    }
   ],
   "source": [
    "#uninstall wrong version packages\n",
    "#Caution it might be dangerouse\n",
    "!pip uninstall -y tensorflow"
   ]
  },
  {
   "cell_type": "code",
   "execution_count": 2,
   "id": "ae61d0bf",
   "metadata": {},
   "outputs": [
    {
     "name": "stdout",
     "output_type": "stream",
     "text": [
      "Found existing installation: tensorflow-gpu 2.5.0rc0\n",
      "Uninstalling tensorflow-gpu-2.5.0rc0:\n",
      "  Successfully uninstalled tensorflow-gpu-2.5.0rc0\n"
     ]
    }
   ],
   "source": [
    "!pip uninstall -y tensorflow-gpu "
   ]
  },
  {
   "cell_type": "code",
   "execution_count": null,
   "id": "c5cc7552",
   "metadata": {},
   "outputs": [],
   "source": [
    "!pip uninstall -y keras"
   ]
  },
  {
   "cell_type": "code",
   "execution_count": null,
   "id": "45b73571",
   "metadata": {},
   "outputs": [],
   "source": [
    "!pip uninstall -y keras-pos-embd "
   ]
  },
  {
   "cell_type": "code",
   "execution_count": null,
   "id": "9ae21725",
   "metadata": {},
   "outputs": [],
   "source": [
    "!pip uninstall -y keras-multi-head"
   ]
  },
  {
   "cell_type": "code",
   "execution_count": null,
   "id": "1b3e410a",
   "metadata": {},
   "outputs": [],
   "source": [
    " !pip uninstall -y keras-embed-sim "
   ]
  },
  {
   "cell_type": "code",
   "execution_count": null,
   "id": "a9dc8db6",
   "metadata": {},
   "outputs": [],
   "source": []
  }
 ],
 "metadata": {
  "kernelspec": {
   "display_name": "Python 3",
   "language": "python",
   "name": "python3"
  },
  "language_info": {
   "codemirror_mode": {
    "name": "ipython",
    "version": 3
   },
   "file_extension": ".py",
   "mimetype": "text/x-python",
   "name": "python",
   "nbconvert_exporter": "python",
   "pygments_lexer": "ipython3",
   "version": "3.8.8"
  }
 },
 "nbformat": 4,
 "nbformat_minor": 5
}
