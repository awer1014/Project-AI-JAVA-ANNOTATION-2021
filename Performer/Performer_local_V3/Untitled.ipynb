{
 "cells": [
  {
   "cell_type": "code",
   "execution_count": 1,
   "metadata": {},
   "outputs": [
    {
     "data": {
      "text/plain": [
       "'\\n8/23 issue:\\n    file name:\\n        main:\\n            prob: \\n                both loop file dir cahnge to \"case[i]\" org is \"case[loop+i]\" \\n        data generator:\\n            prob:\\n                when getting data4 data, data_id will out of range\\n                error message : \"list index out of range\" in databuffer line: 65 return data_block[self.__get_data_idx(dataID)]\\n'"
      ]
     },
     "execution_count": 1,
     "metadata": {},
     "output_type": "execute_result"
    }
   ],
   "source": [
    "'''\n",
    "8/23 issue:\n",
    "    file name:\n",
    "        main:\n",
    "            prob: \n",
    "                both loop file dir cahnge to \"case[i]\" org is \"case[loop+i]\" \n",
    "        data generator:\n",
    "            prob:\n",
    "                when getting data4 data, data_id will out of range\n",
    "                error message : \"list index out of range\" in databuffer line: 65 return data_block[self.__get_data_idx(dataID)]\n",
    "'''"
   ]
  },
  {
   "cell_type": "code",
   "execution_count": 9,
   "metadata": {},
   "outputs": [],
   "source": [
    "def fbeta_score(pre_score, rec_score, beta):\n",
    "    fscore = (((beta**2 + 1) * (pre_score * rec_score)) / ((beta**2 * pre_score) + rec_score))\n",
    "    print(\"f\", beta, \"score: \", fscore)"
   ]
  },
  {
   "cell_type": "code",
   "execution_count": 12,
   "metadata": {},
   "outputs": [
    {
     "name": "stdout",
     "output_type": "stream",
     "text": [
      "f 0.5 score:  1.0\n",
      "f 1 score:  1.0\n",
      "f 2 score:  1.0\n"
     ]
    }
   ],
   "source": [
    "fbeta_score(pre_score = 1, rec_score = 1, beta = 0.5)\n",
    "fbeta_score(pre_score = 1, rec_score = 1, beta = 1)\n",
    "fbeta_score(pre_score = 1, rec_score = 1, beta = 2)"
   ]
  },
  {
   "cell_type": "code",
   "execution_count": null,
   "metadata": {},
   "outputs": [],
   "source": []
  }
 ],
 "metadata": {
  "kernelspec": {
   "display_name": "Python 3",
   "language": "python",
   "name": "python3"
  },
  "language_info": {
   "codemirror_mode": {
    "name": "ipython",
    "version": 3
   },
   "file_extension": ".py",
   "mimetype": "text/x-python",
   "name": "python",
   "nbconvert_exporter": "python",
   "pygments_lexer": "ipython3",
   "version": "3.8.3"
  }
 },
 "nbformat": 4,
 "nbformat_minor": 4
}
