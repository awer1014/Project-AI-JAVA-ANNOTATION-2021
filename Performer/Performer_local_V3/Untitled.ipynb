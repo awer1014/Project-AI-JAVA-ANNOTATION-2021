{
 "cells": [
  {
   "cell_type": "code",
   "execution_count": null,
   "metadata": {},
   "outputs": [],
   "source": [
    "'''\n",
    "8/23 issue:\n",
    "    file name:\n",
    "        main:\n",
    "            prob: \n",
    "                both loop file dir cahnge to \"case[i]\" org is \"case[loop+i]\" \n",
    "        data generator:\n",
    "            prob:\n",
    "                when getting data4 data, data_id will out of range\n",
    "                error message : \"list index out of range\" in databuffer line: 65 return data_block[self.__get_data_idx(dataID)]\n",
    "'''"
   ]
  },
  {
   "cell_type": "code",
   "execution_count": 4,
   "metadata": {},
   "outputs": [
    {
     "data": {
      "text/plain": [
       "8"
      ]
     },
     "execution_count": 4,
     "metadata": {},
     "output_type": "execute_result"
    }
   ],
   "source": [
    "import numpy as np \n",
    "a = [1, 2, 3]\n",
    "b = [5, 6, 7]\n",
    "ans = np.asarray(a[1]) + np.asarray(b[1])\n",
    "ans"
   ]
  },
  {
   "cell_type": "code",
   "execution_count": null,
   "metadata": {},
   "outputs": [],
   "source": []
  }
 ],
 "metadata": {
  "kernelspec": {
   "display_name": "Python 3",
   "language": "python",
   "name": "python3"
  },
  "language_info": {
   "codemirror_mode": {
    "name": "ipython",
    "version": 3
   },
   "file_extension": ".py",
   "mimetype": "text/x-python",
   "name": "python",
   "nbconvert_exporter": "python",
   "pygments_lexer": "ipython3",
   "version": "3.8.3"
  }
 },
 "nbformat": 4,
 "nbformat_minor": 4
}
