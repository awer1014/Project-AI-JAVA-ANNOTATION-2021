{
 "cells": [
  {
   "cell_type": "code",
   "execution_count": 1,
   "metadata": {},
   "outputs": [
    {
     "data": {
      "text/plain": [
       "'\\n8/23 issue:\\n    file name:\\n        main:\\n            prob: \\n                both loop file dir cahnge to \"case[i]\" org is \"case[loop+i]\" \\n        data generator:\\n            prob:\\n                when getting data4 data, data_id will out of range\\n                error message : \"list index out of range\" in databuffer line: 65 return data_block[self.__get_data_idx(dataID)]\\n'"
      ]
     },
     "execution_count": 1,
     "metadata": {},
     "output_type": "execute_result"
    }
   ],
   "source": [
    "'''\n",
    "8/23 issue:\n",
    "    file name:\n",
    "        main:\n",
    "            prob: \n",
    "                both loop file dir cahnge to \"case[i]\" org is \"case[loop+i]\" \n",
    "        data generator:\n",
    "            prob:\n",
    "                when getting data4 data, data_id will out of range\n",
    "                error message : \"list index out of range\" in databuffer line: 65 return data_block[self.__get_data_idx(dataID)]\n",
    "'''"
   ]
  },
  {
   "cell_type": "code",
   "execution_count": 2,
   "metadata": {},
   "outputs": [
    {
     "name": "stdout",
     "output_type": "stream",
     "text": [
      "pre:  1.0\n",
      "rec:  1.0\n",
      "f0.5:  1.0\n",
      "f1:  1.0\n",
      "f2:  1.0\n"
     ]
    }
   ],
   "source": [
    "from sklearn import metrics as metrics\n",
    "pre = [1, 1, 1]\n",
    "ans = [1, 1, 1]\n",
    "pre_score = metrics.precision_score(pre, ans)\n",
    "rec_score = metrics.recall_score(pre, ans)\n",
    "print(\"pre: \", pre_score)\n",
    "print(\"rec: \", rec_score)\n",
    "f05_score = metrics.fbeta_score(pre, ans, beta = 0.5)\n",
    "print(\"f0.5: \", f05_score)\n",
    "f1_score = metrics.f1_score(pre, ans)\n",
    "print(\"f1: \", f1_score)\n",
    "f2_score = metrics.fbeta_score(pre, ans, beta = 2.0)\n",
    "print(\"f2: \", f2_score)"
   ]
  },
  {
   "cell_type": "code",
   "execution_count": null,
   "metadata": {},
   "outputs": [],
   "source": []
  }
 ],
 "metadata": {
  "kernelspec": {
   "display_name": "Python 3",
   "language": "python",
   "name": "python3"
  },
  "language_info": {
   "codemirror_mode": {
    "name": "ipython",
    "version": 3
   },
   "file_extension": ".py",
   "mimetype": "text/x-python",
   "name": "python",
   "nbconvert_exporter": "python",
   "pygments_lexer": "ipython3",
   "version": "3.8.3"
  }
 },
 "nbformat": 4,
 "nbformat_minor": 4
}
