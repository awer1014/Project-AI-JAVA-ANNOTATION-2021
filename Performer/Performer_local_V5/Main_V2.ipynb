{
 "cells": [
  {
   "cell_type": "code",
   "execution_count": null,
   "metadata": {},
   "outputs": [],
   "source": [
    "from Performer_Main import TestTranslate as tf"
   ]
  },
  {
   "cell_type": "code",
   "execution_count": null,
   "metadata": {},
   "outputs": [],
   "source": [
    "#set file path \n",
    "Output_Path = \"Trianing\\InputCSV\\Split-500-reduce-binary-accuracy\"\n",
    "Input_Path = \"Trianing\\InputTxt\\Split-500-reduce-binary-accuracy\"\n",
    "model_for_training_org_path = \"Model-for-training\\Default\\Split-500-reduce-binary-accuracy\\Max-len-300\"\n",
    "model_for_training_path = \"Model-for-training-org\\Default\\Split-500-reduce-binary-accuracy\\Max-len-300\"\n",
    "Trained_model_Path = \"Trained_models\\Default\\Split-500-reduce-binary-accuracy\\Max-len-300\\Learning-rate-3x0\\weight-1vs1\"\n",
    "source_max_len_name = \"source_max_len\"\n",
    "#set performer para\n",
    "all_sample_num = 16644 #all sample number\n",
    "block_num = 16644 #sample num e.g 10000 sample have 10*1000\n",
    "training_source_max_len = 300\n",
    "learning_rate_value = 0.0001\n",
    "type_weight = 1\n",
    "line_weight = 1\n"
   ]
  },
  {
   "cell_type": "code",
   "execution_count": null,
   "metadata": {},
   "outputs": [],
   "source": [
    "tf.translate(Output_Path, \n",
    "             Input_Path, \n",
    "             model_for_training_org_path, \n",
    "             model_for_training_path, \n",
    "             Trained_model_Path, \n",
    "             source_max_len_name,\n",
    "             all_sample_num,\n",
    "             block_num,\n",
    "             training_source_max_len,\n",
    "             learning_rate_value,\n",
    "             \n",
    "            )"
   ]
  },
  {
   "cell_type": "code",
   "execution_count": null,
   "metadata": {},
   "outputs": [],
   "source": []
  }
 ],
 "metadata": {
  "kernelspec": {
   "display_name": "Python 3",
   "language": "python",
   "name": "python3"
  },
  "language_info": {
   "codemirror_mode": {
    "name": "ipython",
    "version": 3
   },
   "file_extension": ".py",
   "mimetype": "text/x-python",
   "name": "python",
   "nbconvert_exporter": "python",
   "pygments_lexer": "ipython3",
   "version": "3.8.3"
  }
 },
 "nbformat": 4,
 "nbformat_minor": 4
}
