{
 "cells": [
  {
   "cell_type": "code",
   "execution_count": null,
   "metadata": {},
   "outputs": [],
   "source": [
    "'''\n",
    "8/23 issue:\n",
    "    file name:\n",
    "        main:\n",
    "            prob: \n",
    "                both loop file dir cahnge to \"case[i]\" org is \"case[loop+i]\" \n",
    "        data generator:\n",
    "            prob:\n",
    "                when getting data4 data, data_id will out of range\n",
    "                error message : \"list index out of range\" in databuffer line: 65 return data_block[self.__get_data_idx(dataID)]\n",
    "'''"
   ]
  },
  {
   "cell_type": "code",
   "execution_count": null,
   "metadata": {},
   "outputs": [],
   "source": [
    "        model_checkpoint_callback=tf.keras.callbacks.ModelCheckpoint(\n",
    "            filepath=drive_path+'checkpoint_2.h5',\n",
    "            monitor='val_loss',\n",
    "            mode='min',\n",
    "            save_best_only=True)\n",
    "            \n",
    "        history = model.fit_generator( \n",
    "            generator=training_generator,        \n",
    "            epochs=2,    \n",
    "            verbose=2,\n",
    "            validation_data=validation_generator,\n",
    "            callbacks=[model_checkpoint_callback],\n",
    "        )\n",
    "        saveDictionary(history.history, drive_path + \"history_2\")"
   ]
  }
 ],
 "metadata": {
  "kernelspec": {
   "display_name": "Python 3",
   "language": "python",
   "name": "python3"
  },
  "language_info": {
   "codemirror_mode": {
    "name": "ipython",
    "version": 3
   },
   "file_extension": ".py",
   "mimetype": "text/x-python",
   "name": "python",
   "nbconvert_exporter": "python",
   "pygments_lexer": "ipython3",
   "version": "3.8.3"
  }
 },
 "nbformat": 4,
 "nbformat_minor": 4
}
