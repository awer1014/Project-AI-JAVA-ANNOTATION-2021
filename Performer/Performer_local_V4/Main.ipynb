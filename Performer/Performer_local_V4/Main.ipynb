{
 "cells": [
  {
   "cell_type": "code",
   "execution_count": 1,
   "metadata": {
    "colab": {
     "base_uri": "https://localhost:8080/"
    },
    "id": "d94ffe56",
    "outputId": "1249cd6b-bff9-44bc-f32e-212835586c4d"
   },
   "outputs": [
    {
     "name": "stdout",
     "output_type": "stream",
     "text": [
      "INFO:tensorflow:Enabling eager execution\n",
      "INFO:tensorflow:Enabling v2 tensorshape\n",
      "INFO:tensorflow:Enabling resource variables\n",
      "INFO:tensorflow:Enabling tensor equality\n",
      "INFO:tensorflow:Enabling control flow v2\n"
     ]
    },
    {
     "name": "stderr",
     "output_type": "stream",
     "text": [
      "[nltk_data] Downloading package punkt to\n",
      "[nltk_data]     C:\\Users\\W.R_Chen\\AppData\\Roaming\\nltk_data...\n",
      "[nltk_data]   Package punkt is already up-to-date!\n"
     ]
    }
   ],
   "source": [
    "from sklearn.model_selection import train_test_split\n",
    "import unittest\n",
    "import numpy as np\n",
    "from keras_performer import performer as tfr\n",
    "import nltk\n",
    "\n",
    "from os import listdir\n",
    "from os.path import isfile, isdir, join\n",
    "from nltk.tokenize import wordpunct_tokenize\n",
    "\n",
    "nltk.download('punkt')\n",
    "from nltk.tokenize import RegexpTokenizer\n",
    "from tensorflow.keras.optimizers import Adam\n",
    "from keras.utils import to_categorical\n",
    "import tensorflow as tf\n",
    "import glob"
   ]
  },
  {
   "cell_type": "code",
   "execution_count": 2,
   "metadata": {
    "colab": {
     "base_uri": "https://localhost:8080/",
     "height": 105
    },
    "id": "9b54d338",
    "outputId": "805aecc7-247e-4761-a0f1-f2ac4bb1e054"
   },
   "outputs": [
    {
     "data": {
      "text/plain": [
       "'\\ndef solve_cudnn_error():\\n    import tensorflow as tf\\n    gpus = tf.config.experimental.list_physical_devices(\\'GPU\\')\\n    if gpus:\\n        try:\\n            # Currently, memory growth needs to be the same across GPUs\\n            for gpu in gpus:\\n                tf.config.experimental.set_memory_growth(gpu, True)\\n            logical_gpus = tf.config.experimental.list_logical_devices(\\'GPU\\')\\n            print(len(gpus), \"Physical GPUs,\", len(logical_gpus), \"Logical GPUs\")\\n        except RuntimeError as e:\\n            # Memory growth must be set before GPUs have been initialized\\n            print(e)\\n            \\nsolve_cudnn_error()\\n'"
      ]
     },
     "execution_count": 2,
     "metadata": {},
     "output_type": "execute_result"
    }
   ],
   "source": [
    "'''\n",
    "def solve_cudnn_error():\n",
    "    import tensorflow as tf\n",
    "    gpus = tf.config.experimental.list_physical_devices('GPU')\n",
    "    if gpus:\n",
    "        try:\n",
    "            # Currently, memory growth needs to be the same across GPUs\n",
    "            for gpu in gpus:\n",
    "                tf.config.experimental.set_memory_growth(gpu, True)\n",
    "            logical_gpus = tf.config.experimental.list_logical_devices('GPU')\n",
    "            print(len(gpus), \"Physical GPUs,\", len(logical_gpus), \"Logical GPUs\")\n",
    "        except RuntimeError as e:\n",
    "            # Memory growth must be set before GPUs have been initialized\n",
    "            print(e)\n",
    "            \n",
    "solve_cudnn_error()\n",
    "'''"
   ]
  },
  {
   "cell_type": "code",
   "execution_count": 3,
   "metadata": {
    "id": "22361e8f"
   },
   "outputs": [],
   "source": [
    "import csv\n",
    "def readCSV(file_name):\n",
    "    errlist=[]\n",
    "    LBlist=[]\n",
    "    with open(file_name, newline='') as csvfile:\n",
    "    #讀取 CSV 檔內容，將每一列轉成一個 dictionary\n",
    "\n",
    "        rows = csv.DictReader(csvfile)\n",
    "        for row in rows: \n",
    "            RL=list(row.values())\n",
    "            #print(\"RL[0]: \", type(RL[0]), \"RL[1]: \", type(RL[1]))\n",
    "            RL[1:] = list(map(int, RL[1:]))\n",
    "            errs=RL[1:37]\n",
    "            LB=RL[37:]\n",
    "            errlist.append(errs)\n",
    "            LBlist.append(LB)\n",
    "    return errlist,LBlist\n"
   ]
  },
  {
   "cell_type": "code",
   "execution_count": 4,
   "metadata": {
    "id": "b92cf71a"
   },
   "outputs": [],
   "source": [
    "def find_first_sublist(seq, sublist, start=0):\n",
    "    length = len(sublist)\n",
    "    for index in range(start, len(seq)):\n",
    "        if seq[index:index+length] == sublist:\n",
    "            return index, index+length"
   ]
  },
  {
   "cell_type": "code",
   "execution_count": 5,
   "metadata": {
    "id": "1b88909b"
   },
   "outputs": [],
   "source": [
    "def replace_sublist(seq, sublist, replacement):\n",
    "    length = len(replacement)\n",
    "    index = 0\n",
    "    for start, end in iter(lambda: find_first_sublist(seq, sublist, index), None):\n",
    "        seq[start:end] = replacement\n",
    "        index = start + length"
   ]
  },
  {
   "cell_type": "code",
   "execution_count": 6,
   "metadata": {
    "id": "abb41dde"
   },
   "outputs": [],
   "source": [
    "def replaceTAGS(x):\n",
    "    replace_sublist(x, ['<', 'NUM_INT', '>'], [\"<NUM_INT>\"])\n",
    "    replace_sublist(x, ['<', 'NUM_FLOAT', '>'], [\"<NUM_FLOAT>\"])\n",
    "    replace_sublist(x, ['<', 'STRING', '>'], [\"<STRING>\"])\n",
    "    replace_sublist(x, ['<', 'BOC', '>'], [\"<BOC>\"])\n",
    "    replace_sublist(x, ['<', 'EOC', '>'], [\"<EOC>\"])\n",
    "    replace_sublist(x, ['<', 'BOTM', '>'], [\"<BOTM>\"])\n",
    "    replace_sublist(x, ['<', 'BOT', '>'], [\"<BOT>\"])\n",
    "    replace_sublist(x, ['<', 'EOT', '>'], [\"<EOT>\"])\n",
    "    replace_sublist(x, ['<', 'BOM', '>'], [\"<BOM>\"])\n",
    "    replace_sublist(x, ['<', 'EOM', '>'], [\"<EOM>\"])\n",
    "    replace_sublist(x, ['<', 'EOTM', '>'], [\"<EOTM>\"])\n",
    "    replace_sublist(x, ['<', 'CR', '>'], [\"<CR>\"])\n",
    "    return x"
   ]
  },
  {
   "cell_type": "code",
   "execution_count": 7,
   "metadata": {
    "id": "0db5e0b1"
   },
   "outputs": [],
   "source": [
    "def parseSentence(x):\t\n",
    "    tokenizer = RegexpTokenizer(r\"[\\w']+|[].,:!?;=+-\\\\*/@#$%^&_(){}~|\\\"[]\")\n",
    "    tokens=[]\n",
    "    state=\"START\"\n",
    "    chrs=\"\"\n",
    "    for i in range(len(x)):\n",
    "        #print(ord(x[i]))\n",
    "        if (ord(x[i])>255):\n",
    "            inp=\"U\"\n",
    "        else:\n",
    "            inp=\"E\"\n",
    "\n",
    "        if state==\"START\":\n",
    "            if inp==\"E\":\n",
    "                state=\"ASCII\"\n",
    "                chrs=x[i]\n",
    "            else:\n",
    "                state=\"UNICODE\"\n",
    "                tokens.append(x[i])\n",
    "\n",
    "        elif state==\"ASCII\":\n",
    "            if inp==\"E\":\n",
    "                chrs += x[i]\n",
    "            else:#U\n",
    "                state=\"UNICODE\"\n",
    "                tokens += tokenizer.tokenize(chrs) #wordpunct_tokenize(chrs)  #nltk.word_tokenize(chrs)\n",
    "                chrs=\"\"\n",
    "                tokens.append(x[i])\n",
    "\n",
    "        elif state==\"UNICODE\":\n",
    "            if inp==\"E\":\n",
    "                state=\"ASCII\"\n",
    "                chrs=x[i]\n",
    "            else:\n",
    "                state=\"UNICODE\"\n",
    "                tokens.append(x[i])\n",
    "    if len(chrs)>0:\n",
    "        tokens += tokenizer.tokenize(chrs) #wordpunct_tokenize(chrs)  # nltk.word_tokenize(chrs) \n",
    "    return tokens"
   ]
  },
  {
   "cell_type": "code",
   "execution_count": 8,
   "metadata": {
    "id": "e88de533"
   },
   "outputs": [],
   "source": [
    "def readcode(fname):\n",
    "    with open(fname,encoding = 'utf-8') as f:\n",
    "        data = f.read()\n",
    "        return data"
   ]
  },
  {
   "cell_type": "code",
   "execution_count": 35,
   "metadata": {
    "id": "f1JYt9ELGe5Z"
   },
   "outputs": [],
   "source": [
    "from matplotlib import pyplot as plt\n",
    "#draw model total losses\n",
    "def plotTrainingLoss(history):\n",
    "    plt.plot(history['loss'])\n",
    "    plt.plot(history['val_loss'])\n",
    "    plt.title('model loss')\n",
    "    plt.ylabel('loss')\n",
    "    plt.xlabel('epoch')\n",
    "    plt.show()"
   ]
  },
  {
   "cell_type": "code",
   "execution_count": 36,
   "metadata": {},
   "outputs": [],
   "source": [
    "#draw output2 acc\n",
    "def plotTrainingErrorLineAcc(history):\n",
    "    #======================accuracy======================\n",
    "    acc = []\n",
    "    #get all sample name\n",
    "    names = []\n",
    "    for sample in range(360):\n",
    "        #get NN name\n",
    "        name = \"LNout\" + str(sample) + \"_categorical_accuracy\"\n",
    "        names.append(name)\n",
    "    #get each epoch avg value\n",
    "    for epoch in range(len(history[names[0]])): #get sample length\n",
    "        one_epoch_sum = 0.0\n",
    "        #print(\"epoch loop: \", epoch)\n",
    "        for name in (names):\n",
    "            one_epoch_sum += history[name][epoch]\n",
    "        one_epoch_avg = one_epoch_sum / len(names) #get one epoch avg\n",
    "        acc.append(one_epoch_avg) #return to acc\n",
    "    plt.plot(acc)\n",
    "    \n",
    "    #======================validation accuary======================\n",
    "    val_acc = []\n",
    "    #get all sample name\n",
    "    val_names = []\n",
    "    for val_sample in range(360):\n",
    "        #get NN name\n",
    "        val_name = \"val_LNout\" + str(val_sample) +\"_categorical_accuracy\"\n",
    "        val_names.append(val_name)\n",
    "        \n",
    "    #get each epoch avg value\n",
    "    for epoch in range(len(history[names[0]])): #get sample length\n",
    "        val_one_epoch_sum = 0.0\n",
    "        for name in (val_names):\n",
    "            val_one_epoch_sum += history[name][epoch]\n",
    "        val_one_epoch_avg = val_one_epoch_sum / len(val_names) #get one epoch avg\n",
    "        val_acc.append(val_one_epoch_avg) #return to acc\n",
    "    plt.plot(val_acc)\n",
    "    \n",
    "    plt.ylabel('output2_acc')\n",
    "    plt.xlabel('epoch')\n",
    "    plt.show()"
   ]
  },
  {
   "cell_type": "code",
   "execution_count": 37,
   "metadata": {},
   "outputs": [],
   "source": [
    "#draw output2 loss\n",
    "def plotTrainingErrorLineLoss(history):\n",
    "    #======================accuracy======================\n",
    "    acc = []\n",
    "    #get all sample name\n",
    "    names = []\n",
    "    for sample in range(360):\n",
    "        #get NN name\n",
    "        name = \"LNout\" + str(sample) + \"_loss\"\n",
    "        names.append(name)\n",
    "    #get each epoch avg value\n",
    "    for epoch in range(len(history[names[0]])): #get sample length\n",
    "        one_epoch_sum = 0.0\n",
    "        #print(\"epoch loop: \", epoch)\n",
    "        for name in (names):\n",
    "            one_epoch_sum += history[name][epoch]\n",
    "        one_epoch_avg = one_epoch_sum / len(names) #get one epoch avg\n",
    "        acc.append(one_epoch_avg) #return to acc\n",
    "    plt.plot(acc)\n",
    "    \n",
    "    #======================validation accuary======================\n",
    "    val_acc = []\n",
    "    #get all sample name\n",
    "    val_names = []\n",
    "    for val_sample in range(360):\n",
    "        #get NN name\n",
    "        val_name = \"val_LNout\" + str(val_sample) +\"_loss\"\n",
    "        val_names.append(val_name)\n",
    "        \n",
    "    #get each epoch avg value\n",
    "    for epoch in range(len(history[names[0]])): #get sample length\n",
    "        val_one_epoch_sum = 0.0\n",
    "        for name in (val_names):\n",
    "            val_one_epoch_sum += history[name][epoch]\n",
    "        val_one_epoch_avg = val_one_epoch_sum / len(val_names) #get one epoch avg\n",
    "        val_acc.append(val_one_epoch_avg) #return to acc\n",
    "    plt.plot(val_acc)\n",
    "    \n",
    "    plt.ylabel('output2_loss')\n",
    "    plt.xlabel('epoch')\n",
    "    plt.show()"
   ]
  },
  {
   "cell_type": "code",
   "execution_count": 38,
   "metadata": {},
   "outputs": [],
   "source": [
    "#draw output1 binary acc\n",
    "def plotTrainingErrorTypeAcc(history):\n",
    "    plt.plot(history['error_feed_forward_output1_binary_accuracy']) \n",
    "    plt.plot(history['val_error_feed_forward_output1_binary_accuracy'])\n",
    "    plt.title('model error_feed_forward_output1_binary_accuracy')\n",
    "    plt.ylabel('error_feed_forward_output1_binary_accuracy')\n",
    "    plt.xlabel('epoch')\n",
    "    plt.show()"
   ]
  },
  {
   "cell_type": "code",
   "execution_count": 39,
   "metadata": {},
   "outputs": [],
   "source": [
    "#draw output1 binary loss\n",
    "def plotTrainingErrorTypeLoss(history):\n",
    "    plt.plot(history['error_feed_forward_output1_loss']) \n",
    "    plt.plot(history['val_error_feed_forward_output1_loss'])\n",
    "    plt.title('model error_feed_forward_output1_loss')\n",
    "    plt.ylabel('error_feed_forward_output1_loss')\n",
    "    plt.xlabel('epoch')\n",
    "    plt.show()"
   ]
  },
  {
   "cell_type": "code",
   "execution_count": 12,
   "metadata": {},
   "outputs": [],
   "source": [
    "import os\n",
    "def listdir_fullpath(d):\n",
    "    return [f for f in os.listdir(d)]"
   ]
  },
  {
   "cell_type": "code",
   "execution_count": 13,
   "metadata": {
    "id": "ec120d95"
   },
   "outputs": [],
   "source": [
    "#save model for training\n",
    "class TestTranslate(unittest.TestCase):\n",
    "        \n",
    "    def __init__(self):\n",
    "        self.source_token_dict = {\n",
    "            '<PAD>': 0,\n",
    "            '<START>': 1,\n",
    "            '<END>': 2,\n",
    "            '<BOC>': 3,\n",
    "            '<EOC>': 4,\n",
    "            '<CR>': 5,\n",
    "            '<NUM_INT>': 6,\n",
    "            '<NUM_FLOAT>': 7,\n",
    "            '<STRING>': 8,\n",
    "        }\n",
    "        \n",
    "    @staticmethod\n",
    "    def _build_token_dict(token_dict, token_list):\n",
    "        for tokens in token_list:\n",
    "            for token in tokens:\n",
    "                if token not in token_dict:\n",
    "                    token_dict[token] = len(token_dict)\n",
    "        return token_dict\n",
    "    \n",
    "    def test_translate(self):\n",
    "        #print(\"i am here: \" )\n",
    "        #source_file=[]\n",
    "        #Set Para\n",
    "        max_javaline_length = 160 #Max number of lines\n",
    "        #set path\n",
    "        Output_Path = \"Trianing\\InputCSV\\Split-500-reduce-binary-accuracy\"\n",
    "        Input_Path = \"Trianing\\InputTxt\\Split-500-reduce-binary-accuracy\"\n",
    "        model_for_training_org_path = \"Model-for-training-org\\Split-500-reduce-binary-accuracy\"\n",
    "        model_for_training_path = \"Model-for-training\\Split-500-reduce-binary-accuracy\"\n",
    "        Trained_model_Path = \"Trained_models\\Split-500-reduce-binary-accuracy\\Learning-rate-4x0\\weight-1vs2\"\n",
    "        #get all txt file in input path\n",
    "        in_path = (glob.glob(Input_Path + \"/**/*.txt\"))\n",
    "        #print(\"in_path: \", in_path)\n",
    "        #cases = listdir_fullpath(Input_Path)\n",
    "        source_max_len = 0\n",
    "        target_max_len = 0\n",
    "        token_num = 0\n",
    "        all_sample_num = 16644 #all sample number\n",
    "        block_num = 16644 #sample num e.g 10000 sample have 10*1000\n",
    "        #Set model para\n",
    "        training_source_max_len = 300 #for replace source_max_len\n",
    "        self.sl = 0\n",
    "        \n",
    "        import math\n",
    "        for loop in range(0, math.ceil(all_sample_num/block_num)): #new version \n",
    "        #for loop in range(0, round(336/block_num)): #old version\n",
    "            print(\"First loop: \", loop)\n",
    "            source_tokens = []\n",
    "            target_errors = []\n",
    "            target_LB = []\n",
    "            if(all_sample_num % block_num == 0):\n",
    "                dirs = block_num\n",
    "            else:\n",
    "                dirs = block_num if loop < all_sample_num // block_num else all_sample_num % block_num\n",
    "            Input_fullpath = []\n",
    "            Output_fullpath = []\n",
    "            #print(\"dirs: \", dirs)\n",
    "            for i in range(dirs):\n",
    "                Input_fullpath.append(in_path[loop*block_num + i])                    \n",
    "            for f in Input_fullpath:\n",
    "                if isfile(f):\n",
    "                    source_tokens.append(parseSentence(readcode(f)))\n",
    "                    #print(\"source_tokens length: \", len(source_tokens))\n",
    "                #if len(source_tokens)>max_files: break\n",
    "            #get csv file     \n",
    "            out_path = Output_Path + \"/\" + \"test\" + str(loop)+\".csv\"\n",
    "            Output_fullpath = glob.glob(out_path)\n",
    "            \n",
    "            for f in Output_fullpath:\n",
    "                if isfile(f):\n",
    "                    err,lb = readCSV(f)\n",
    "                    target_errors.append(err)\n",
    "                    target_LB.append(lb)\n",
    "                #if len(source_tokens)>max_files: break\n",
    "            dd = np.asarray(target_errors)\n",
    "            target_errors = target_errors[0]  \n",
    "            target_LB = target_LB[0]     \n",
    "            \n",
    "            #change source token length\n",
    "            source_tokens2 = []\n",
    "            target_errors2 = []\n",
    "            target_LB2 = []\n",
    "\n",
    "            THRESHOLD_FILE_LEN = training_source_max_len\n",
    "            for i in range(len(source_tokens)):\n",
    "                src = source_tokens[i]\n",
    "                target_error = target_errors[i]\n",
    "                target_LBs = target_LB[i]\n",
    "                if (len(src)<=THRESHOLD_FILE_LEN):# and  len(target)<=THRESHOLD_FILE_LEN):\n",
    "                    source_tokens2.append(src)\n",
    "                    target_errors2.append(target_error)\n",
    "                    target_LB2.append(target_LBs)\n",
    "            source_tokens = source_tokens2\n",
    "            target_errors = target_errors2 #list of intgers, error types\n",
    "            target_LB = target_LB2\n",
    "            \n",
    "            # Generate dictionaries\n",
    "            self._build_token_dict(self.source_token_dict, source_tokens)\n",
    "            \n",
    "            # Add special tokens\n",
    "            encode_tokens = [['<START>'] + tokens + ['<END>'] for tokens in source_tokens]\n",
    "            \n",
    "            #output_tokens = [tokens + ['<END>', '<PAD>'] for tokens in target_tokens] \n",
    "            \n",
    "            self.sl = max(list(map(len, encode_tokens))+[self.sl])\n",
    "            source_max_len = self.sl\n",
    "\n",
    "        #padding here\n",
    "        print(\"source_max_len:\", source_max_len)\n",
    "        for loop in range(0, math.ceil(all_sample_num/block_num)): #new version\n",
    "        #for loop in range(0, round(336/block_num)): #old version\n",
    "            print(\"Second loop: \", loop)\n",
    "            source_tokens = []\n",
    "            target_errors = []\n",
    "            target_LB = []\n",
    "            if(all_sample_num % block_num == 0):\n",
    "                dirs = block_num\n",
    "            else:\n",
    "                dirs = block_num if loop < all_sample_num // block_num else all_sample_num % block_num\n",
    "            Input_fullpath = []\n",
    "            Output_fullpath = []\n",
    "            for i in range(dirs):\n",
    "                Input_fullpath.append(in_path[loop*block_num + i])\n",
    "            for f in Input_fullpath:\n",
    "                if isfile(f):\n",
    "                    source_tokens.append(parseSentence(readcode(f)))\n",
    "\n",
    "            out_path = Output_Path + \"/\" + \"test\"+ str(loop)+ \".csv\"\n",
    "            Output_fullpath = glob.glob(out_path)\n",
    "            for f in Output_fullpath:\n",
    "                if isfile(f):\n",
    "                    err, lb = readCSV(f)\n",
    "                    target_errors.append(err)\n",
    "                    target_LB.append(lb)\n",
    "            #if len(source_tokens)>max_files: break\n",
    "            dd = np.asarray(target_errors)\n",
    "            #print(\"AAAA: \", dd.shape)\n",
    "            #print(\"aaaa: \" , type(target_errors[0][0]))\n",
    "            target_errors = target_errors[0]  \n",
    "            target_LB = target_LB[0]\n",
    "            #print(\"source_token legth: \" , len(source_tokens))\n",
    "            #print(\"YYYY: \" , type(target_errors[0][0]))\n",
    "            #print(\"ZZZZ: \" , len(target_LB))\n",
    "            #print(\"ZZZZ len(target_LB[0]): \" , len(target_LB[0]))\n",
    "            #print(\"XXXX2: \" , len(source_tokens))\n",
    "            \n",
    "            #change source token length\n",
    "            source_tokens2 = []\n",
    "            target_errors2 = []\n",
    "            target_LB2 = []\n",
    "\n",
    "            THRESHOLD_FILE_LEN = training_source_max_len\n",
    "            for i in range(len(source_tokens)):\n",
    "                src = source_tokens[i]\n",
    "                target_error = target_errors[i]\n",
    "                target_LBs = target_LB[i]\n",
    "                if (len(src)<=THRESHOLD_FILE_LEN):# and  len(target)<=THRESHOLD_FILE_LEN):\n",
    "                    source_tokens2.append(src)\n",
    "                    target_errors2.append(target_error)\n",
    "                    target_LB2.append(target_LBs)\n",
    "            source_tokens = source_tokens2\n",
    "            target_errors = target_errors2 #list of intgers, error types\n",
    "            target_LB = target_LB2\n",
    "            \n",
    "            # Generate dictionaries\n",
    "            self._build_token_dict(self.source_token_dict, source_tokens)\n",
    "\n",
    "            # Add special tokens\n",
    "            #encode_tokens = [['<START>'] + tokens + ['<END>'] for tokens in source_tokens]\n",
    "            encode_tokens = [tokens for tokens in source_tokens]\n",
    "            #print(\"encode_tokens1: \", encode_tokens)\n",
    "            encode_tokens = [tokens + ['<PAD>'] * (source_max_len - len(tokens)) for tokens in encode_tokens]\n",
    "            #print(\"encode_tokens2: \", encode_tokens)\n",
    "            encode_input = [list(map(lambda x: self.source_token_dict[x], tokens)) for tokens in encode_tokens]\n",
    "            #print(\"encode_input1: \", encode_input)\n",
    "            token_num = len(self.source_token_dict)\n",
    "            #print(\"token num: \", token_num)\n",
    "            #print(token_num)\n",
    "            #print(type(token_num))\n",
    "            #define save path and save dict  \n",
    "            dict_name = \"source_token_dict.pickle\"\n",
    "            #save for org\n",
    "            saveDictionary(self.source_token_dict, model_for_training_org_path + \"/\" + dict_name)\n",
    "            #save for training\n",
    "            saveDictionary(self.source_token_dict, model_for_training_path + \"/\" + dict_name)\n",
    "            #print(\"x.shape\", np.asarray(encode_input).shape)  #x.shape (2,  9)\n",
    "            \n",
    "            #x=[np.array(encode_input * 1)]\n",
    "            #y=[np.array(target_errors * 1),np.array(target_LB * 1)]\n",
    "\n",
    "            #print(\"x.shape\", np.asarray(x).shape)  #x.shape (2, 2048, 9)\n",
    "\n",
    "            ####  Split the data set into train and test_model\n",
    "            x = np.asarray(encode_input)\n",
    "            y = list(zip(np.asarray(target_errors), np.asarray(target_LB)))\n",
    "\n",
    "            #print(\"x.shape: \", x.shape)\n",
    "            #print(\"y length: \", len(y))\n",
    "            x_train, x_test, y_train, y_test = train_test_split(x, y, test_size = 0.1, random_state=42)\n",
    "            \n",
    "            y_test = list(zip(*y_test))\n",
    "            y_test[0] = np.asarray(y_test[0])\n",
    "            y_test[1] = np.asarray(y_test[1])\n",
    "            y_test[1] = to_categorical(y_test[1], num_classes = max_javaline_length) \n",
    "            #y_test = list(zip(y_test[0], y_test[1])) \n",
    "            y_test[1] = np.split(y_test[1], indices_or_sections = len(target_LB[0]), axis = 1) \n",
    "            y_test[1] = [np.squeeze(elm, axis = 1) for elm in y_test[1]]           \n",
    "            \n",
    "            #=============================#\n",
    "            x_train, x_validation, y_train, y_validation = train_test_split(x_train, y_train, test_size = 0.1, random_state=42)\n",
    "            print(\"Split x_train shape: \", (x_train).shape)\n",
    "            print(\"Split x_validation shape: \", (x_validation).shape)\n",
    "            \n",
    "            y_train = list(zip(*y_train))  \n",
    "            y_train[0] = np.asarray(y_train[0])\n",
    "            y_train[1] = np.asarray(y_train[1])\n",
    "\n",
    "            y_train[1] = to_categorical(y_train[1], num_classes=max_javaline_length) #make error type vector to binary matrix\n",
    "            #y_train = list(zip(y_train[0], y_train[1]))\n",
    "\n",
    "            #print(\"XXXXXXXXXXXXXXXXXXXXXXXXXXXXXXXXXXXXX:\" , y_train[0].shape)\n",
    "            #print(\"y_train[1].shape\", y_train[1].shape)\n",
    "            #print(\"???????????: y_train.length \", len(y_train))\n",
    "            #print(\"???????????: y_train.[1] type \", type(y_train[1]))\n",
    "            y_train[1] = np.split(y_train[1], indices_or_sections=len(target_LB[0]), axis=1)\n",
    "            y_train[1] = [np.squeeze(elm, axis = 1) for elm in y_train[1]]\n",
    "            #print(\"after change->len(y_train[1].shape)\", len(y_train[1]) )\n",
    "\n",
    "            y_validation = list(zip(*y_validation))\n",
    "            y_validation[0] = np.asarray(y_validation[0])\n",
    "            y_validation[1] = np.asarray(y_validation[1])\n",
    "            y_validation[1] = to_categorical(y_validation[1], num_classes = max_javaline_length) \n",
    "            #y_test = list(zip(y_test[0], y_test[1])) \n",
    "            y_validation[1] = np.split(y_validation[1], indices_or_sections=len(target_LB[0]), axis=1) \n",
    "            y_validation[1] = [np.squeeze(elm, axis = 1) for elm in y_validation[1]]           \n",
    "            \n",
    "        #''' <----save switch, if you need to create npy model for traing open this\n",
    "            #save org model for training \n",
    "            saveTestTrainData(model_for_training_org_path + \"/\" + \"x_train_\" + str(loop) + \".npy\", x_train)\n",
    "            saveTestTrainData(model_for_training_org_path + \"/\" + \"y_train[0]_\" + str(loop) + \".npy\", y_train[0])\n",
    "            saveTestTrainData(model_for_training_org_path + \"/\" + \"y_train[1]_\" + str(loop) + \".npy\", y_train[1])\n",
    "            \n",
    "            saveTestTrainData(model_for_training_org_path + \"/\" + \"x_test_\" + str(loop) + \".npy\", x_test)\n",
    "            saveTestTrainData(model_for_training_org_path + \"/\" + \"y_test[0]_\" + str(loop) + \".npy\", y_test[0])\n",
    "            saveTestTrainData(model_for_training_org_path + \"/\" + \"y_test[1]_\" + str(loop) + \".npy\", y_test[1])\n",
    "            \n",
    "            #=========================================\n",
    "            saveTestTrainData(model_for_training_org_path + \"/\" + \"x_validation_\" + str(loop) + \".npy\", x_validation)\n",
    "            saveTestTrainData(model_for_training_org_path + \"/\" + \"y_validation[0]_\" + str(loop) + \".npy\", y_validation[0])\n",
    "            saveTestTrainData(model_for_training_org_path + \"/\" + \"y_validation[1]_\" + str(loop) + \".npy\", y_validation[1])\n",
    "            \n",
    "            #transform x_train\n",
    "            \n",
    "            print(\"org x_train shape: \", (x_train).shape)\n",
    "            print(\"org x_test shape: \", (x_test).shape)\n",
    "            \n",
    "            \n",
    "            #save split model for training\n",
    "            saveTestTrainData(model_for_training_path + \"/\" + \"x_train_\" + str(loop) + \".npy\", x_train)\n",
    "            saveTestTrainData(model_for_training_path + \"/\" + \"y_train[0]_\" + str(loop) + \".npy\", y_train[0])\n",
    "            saveTestTrainData(model_for_training_path + \"/\" + \"y_train[1]_\" + str(loop) + \".npy\", y_train[1])\n",
    "            \n",
    "            saveTestTrainData(model_for_training_path + \"/\" + \"x_test_\" + str(loop) + \".npy\", x_test)\n",
    "            saveTestTrainData(model_for_training_path + \"/\" + \"y_test[0]_\" + str(loop) + \".npy\", y_test[0])\n",
    "            saveTestTrainData(model_for_training_path + \"/\" + \"y_test[1]_\" + str(loop) + \".npy\", y_test[1])\n",
    "            \n",
    "            #=====================================\n",
    "            saveTestTrainData(model_for_training_path + \"/\" + \"x_validation_\" + str(loop) + \".npy\", x_validation)\n",
    "            saveTestTrainData(model_for_training_path + \"/\" + \"y_validation[0]_\" + str(loop) + \".npy\", y_validation[0])\n",
    "            saveTestTrainData(model_for_training_path + \"/\" + \"y_validation[1]_\" + str(loop) + \".npy\", y_validation[1])\n",
    "        print(\"Training model save successful...\")    \n",
    "        #'''\n",
    "        \n",
    "        \n",
    "        #start training\n",
    "        import DataGeneratorTrain as DGTrain\n",
    "        import DataGeneratorValidation as DGValidation\n",
    "        import DataBuffer as db\n",
    "        from random import randrange\n",
    "        #Set driver path\n",
    "        #source_max_len = 1200 #set max len  #default : 2889\n",
    "        line_block_num = 360 #lbNum\n",
    "        source_token_dict_name = \"source_token_dict.pickle\"\n",
    "        #load source_token_dict\n",
    "        source_token_dict = loadDictionary(model_for_training_path + \"/\" + source_token_dict_name)\n",
    "        #Set model para    \n",
    "        model = tfr.get_model(max_input_len=(source_max_len),\n",
    "                              max_javaline_length=160,\n",
    "                              errNum=36,\n",
    "                              lbNum=line_block_num, #lbNum=len(target_LB[0]), #160\n",
    "                              token_num=len(source_token_dict),\n",
    "                              embed_dim=256, #32, try 32 or 64\n",
    "                              encoder_num=6, #2 max = 6\n",
    "                              head_num=4,#4\n",
    "                              hidden_dim=128, #128\n",
    "                              dropout_rate=0.05 #0.05\n",
    "                             )\n",
    "        #Set losses\n",
    "        losses = {\"error_feed_forward_output1\": \"binary_crossentropy\"}\n",
    "        #error type weight\n",
    "        lossWeights = {\"error_feed_forward_output1\": 1.0}\n",
    "        metrics = {\"error_feed_forward_output1\": \"binary_accuracy\"}\n",
    "        #metrics = {\"error_feed_forward_output1\": tf.keras.metrics.Accuracy()}\n",
    "        \n",
    "        #error line weight\n",
    "        for i in range(line_block_num):\n",
    "            name = \"LNout\" + str(i)\n",
    "            losses[name] = \"categorical_crossentropy\"\n",
    "            lossWeights[name] = 2 #error_feed_forward_output2[] weight # 100\n",
    "            metrics[name] = tf.keras.metrics.CategoricalAccuracy()\n",
    "        \n",
    "        \n",
    "        #set complie para\n",
    "        model.compile(optimizer=Adam(learning_rate=0.00001), loss=losses, loss_weights=lossWeights, metrics=metrics)\n",
    "        \n",
    "        #for output\n",
    "        #for x\n",
    "        #data_number and block_size = data num\n",
    "        input_buffer_params = { \n",
    "            \"data_path\": model_for_training_path,\n",
    "            \"data_number\": 5037,\n",
    "            \"data_type\": int,\n",
    "            \"block_size\": 5037 \n",
    "            }\n",
    "        \n",
    "        #for input\n",
    "        #for y\n",
    "        #data_number and block_size = data num\n",
    "        output_buffer_params = {\n",
    "            \"data_path\": [model_for_training_path, model_for_training_path],\n",
    "            \"data_number\": [5037, 5037],\n",
    "            \"data_type\": [int, int],\n",
    "            \"block_size\": [5037, 5037] \n",
    "            }\n",
    "        \n",
    "        #===========================================\n",
    "        #for output\n",
    "        #for x\n",
    "        #data_number and block_size = validation data num\n",
    "        validation_input_buffer_params = { \n",
    "            \"data_path\": model_for_training_path,\n",
    "            \"data_number\": 560,\n",
    "            \"data_type\": int,\n",
    "            \"block_size\": 560 \n",
    "            }\n",
    "        \n",
    "        #for input\n",
    "        #for y\n",
    "        #data_number and block_size = validation data num\n",
    "        validation_output_buffer_params = {\n",
    "            \"data_path\": [model_for_training_path, model_for_training_path],\n",
    "            \"data_number\": [560, 560],\n",
    "            \"data_type\": [int, int],\n",
    "            \"block_size\": [560, 560] \n",
    "            }\n",
    "        \n",
    "        \n",
    "        #Create Generators\n",
    "        print(\"Creating training generator...\")\n",
    "        #give training data num\n",
    "        training_generator = DGTrain.DataGeneratorTrain(input_buffer_params,\n",
    "                                                  output_buffer_params,\n",
    "                                                  [list(range(5037)), list(range(5037))] \n",
    "                                                )\n",
    "        #Create Generators\n",
    "        print(\"Creating validation generator...\")\n",
    "        #give valitdation data num\n",
    "        validation_generator = DGValidation.DataGeneratorValidation(validation_input_buffer_params,\n",
    "                                                  validation_output_buffer_params,\n",
    "                                                  [list(range(560)), list(range(560))] \n",
    "                                                )\n",
    "        \n",
    "        \n",
    "        #''' <-----traing switch\n",
    "        #Start training\n",
    "        print(\"Strat training...\")\n",
    "        \n",
    "        model_checkpoint_callback = tf.keras.callbacks.ModelCheckpoint(filepath = Trained_model_Path + \"/\" + \"checkpoint_model.h5\",\n",
    "                                                                       monitor = \"val_loss\",\n",
    "                                                                       mode = \"min\",\n",
    "                                                                       save_best_only = True\n",
    "                                                                      )\n",
    "        \n",
    "        history = model.fit_generator(generator = training_generator,\n",
    "                                      epochs = 1000, #100 200 500 3000\n",
    "                                      verbose = 2, #set visibility\n",
    "                                      validation_data = validation_generator,\n",
    "                                      callbacks = [model_checkpoint_callback],\n",
    "                                     )\n",
    "        \n",
    "        \n",
    "        print(\"Model training completed...\")\n",
    "        #save history\n",
    "        print(\"Saving history...\")\n",
    "        saveDictionary(history.history, Trained_model_Path + \"/\" + \"model_history\")\n",
    "        print(\"History saving completed...\")\n",
    "        \n",
    "        #save model\n",
    "        print(\"Saving model...\")\n",
    "        model.save(Trained_model_Path + \"/\" + \"test_model1.h5\")\n",
    "        print(\"Model saving completed...\")\n",
    "        \n",
    "        #print(\"history.history.keys: \", history.history.keys())\n",
    "        #show loss grapgh\n",
    "        plotTrainingLoss(history)\n",
    "        plotTrainingErrorTypeAcc(history)\n",
    "        plotTrainingErrorTypeLoss(history)\n",
    "        plotTrainingErrorLineAcc(history)\n",
    "        plotTrainingErrorLineLoss(history)\n",
    "        #'''\n",
    "                \n",
    "    def getsource_max_lan(self):\n",
    "        return self.sl\n",
    "    "
   ]
  },
  {
   "cell_type": "code",
   "execution_count": 14,
   "metadata": {
    "id": "7aa3c824"
   },
   "outputs": [],
   "source": [
    "def saveDictionary(dt, file):\n",
    "        import pickle\n",
    "        a_file = open(file, \"wb\")\n",
    "        pickle.dump(dt, a_file)\n",
    "        a_file.close()"
   ]
  },
  {
   "cell_type": "code",
   "execution_count": 26,
   "metadata": {
    "id": "a6ddfb54"
   },
   "outputs": [],
   "source": [
    "def loadDictionary(file):\n",
    "        import pickle\n",
    "        a_file = open(file, \"rb\")\n",
    "        dt = pickle.load(a_file)\n",
    "        return dt"
   ]
  },
  {
   "cell_type": "code",
   "execution_count": 16,
   "metadata": {
    "id": "20063beb"
   },
   "outputs": [],
   "source": [
    "def saveTestTrainData(filename, data): # e.g., 'test.npy'\n",
    "    with open(filename, 'wb') as f:\n",
    "        np.save(f, data)"
   ]
  },
  {
   "cell_type": "code",
   "execution_count": 16,
   "metadata": {
    "id": "34dcfe7d"
   },
   "outputs": [],
   "source": [
    "def loadTestTrainData(filename): # e.g., 'test.npy'    \n",
    "    with open(filename, 'rb') as f:\n",
    "        a = np.load(f)\n",
    "        return a"
   ]
  },
  {
   "cell_type": "code",
   "execution_count": 18,
   "metadata": {
    "scrolled": true
   },
   "outputs": [
    {
     "name": "stdout",
     "output_type": "stream",
     "text": [
      "First loop:  0\n",
      "source_max_len: 302\n",
      "Second loop:  0\n",
      "Split x_train shape:  (5037, 302)\n",
      "Split x_validation shape:  (560, 302)\n",
      "Start Warpping...\n",
      "Start Warpping...\n",
      "Start Warpping...\n",
      "Start Warpping...\n",
      "Start Warpping...\n",
      "Start Warpping...\n",
      "Start Warpping...\n",
      "Start Warpping...\n",
      "Start Warpping...\n",
      "Start Warpping...\n",
      "Start Warpping...\n",
      "Start Warpping...\n",
      "Creating training generator...\n",
      "Creating validation generator...\n"
     ]
    }
   ],
   "source": [
    "x=TestTranslate()\n",
    "x.test_translate()"
   ]
  },
  {
   "cell_type": "code",
   "execution_count": 1,
   "metadata": {},
   "outputs": [],
   "source": [
    "import ModelScoreRater as msr"
   ]
  },
  {
   "cell_type": "code",
   "execution_count": 21,
   "metadata": {},
   "outputs": [
    {
     "ename": "NameError",
     "evalue": "name 'x' is not defined",
     "output_type": "error",
     "traceback": [
      "\u001b[1;31m---------------------------------------------------------------------------\u001b[0m",
      "\u001b[1;31mNameError\u001b[0m                                 Traceback (most recent call last)",
      "\u001b[1;32m<ipython-input-21-441f609fa5ab>\u001b[0m in \u001b[0;36m<module>\u001b[1;34m\u001b[0m\n\u001b[0;32m      7\u001b[0m \u001b[0my_test_mdodel2\u001b[0m \u001b[1;33m=\u001b[0m \u001b[1;34m\"y_test[1]_0.npy\"\u001b[0m\u001b[1;33m\u001b[0m\u001b[1;33m\u001b[0m\u001b[0m\n\u001b[0;32m      8\u001b[0m \u001b[0mhistory_file\u001b[0m \u001b[1;33m=\u001b[0m \u001b[1;34m\"model_history\"\u001b[0m\u001b[1;33m\u001b[0m\u001b[1;33m\u001b[0m\u001b[0m\n\u001b[1;32m----> 9\u001b[1;33m \u001b[0mmax_len\u001b[0m \u001b[1;33m=\u001b[0m \u001b[0mx\u001b[0m\u001b[1;33m.\u001b[0m\u001b[0mgetsource_max_lan\u001b[0m\u001b[1;33m(\u001b[0m\u001b[1;33m)\u001b[0m\u001b[1;33m\u001b[0m\u001b[1;33m\u001b[0m\u001b[0m\n\u001b[0m",
      "\u001b[1;31mNameError\u001b[0m: name 'x' is not defined"
     ]
    }
   ],
   "source": [
    "#set model para\n",
    "model_name = \"checkpoint_model.h5\"\n",
    "model_path = \"Trained_models\\Split-500-reduce-binary-accuracy\\Learning-rate-5x0\\weight-1vs2\"\n",
    "training_model_path = \"Model-for-training\\Split-500-reduce-binary-accuracy\"\n",
    "x_test_model = \"x_test_0.npy\" \n",
    "y_test_mdodel1 = \"y_test[0]_0.npy\" \n",
    "y_test_mdodel2 = \"y_test[1]_0.npy\" \n",
    "history_file = \"model_history\"\n",
    "max_len = x.getsource_max_lan()\n"
   ]
  },
  {
   "cell_type": "code",
   "execution_count": 21,
   "metadata": {
    "scrolled": true
   },
   "outputs": [
    {
     "name": "stdout",
     "output_type": "stream",
     "text": [
      "x_test_loaded shape:  (622, 302)\n",
      "x_test_loaded type:  <class 'numpy.ndarray'>\n",
      "x_test_loaded[0] type:  <class 'numpy.ndarray'>\n",
      "y_test_loaded_0 shape:  (622, 36)\n",
      "y_test_loaded_1 shape:  (360, 622, 160)\n",
      "out1 type:  <class 'numpy.ndarray'>\n",
      "out2 type:  <class 'list'>\n",
      "out1 shape:  (622, 36)\n",
      "out2 length:  360\n",
      "out2[0] shape:  (622, 160)\n",
      "out2[0] length:  622\n",
      "=========adjust 1=========\n",
      "=========adjust 2=========\n"
     ]
    }
   ],
   "source": [
    "#load model\n",
    "test_ep, ans_ep, test_lb, ans_lb = msr.loadmodel(model_path, \n",
    "                                                 model_name, \n",
    "                                                 training_model_path, \n",
    "                                                 x_test_model, \n",
    "                                                 y_test_mdodel1, \n",
    "                                                 y_test_mdodel2, \n",
    "                                                 max_len)"
   ]
  },
  {
   "cell_type": "code",
   "execution_count": 22,
   "metadata": {},
   "outputs": [
    {
     "name": "stdout",
     "output_type": "stream",
     "text": [
      "avg_pre:  0.9919614147909968\n",
      "avg_rec:  0.0\n",
      "avg_acc:  0.9606555912825997\n"
     ]
    }
   ],
   "source": [
    "#type total score\n",
    "avg_pre, avg_rec, avg_acc = msr.errortype_totalscore(test_ep, ans_ep)"
   ]
  },
  {
   "cell_type": "code",
   "execution_count": 23,
   "metadata": {},
   "outputs": [
    {
     "name": "stdout",
     "output_type": "stream",
     "text": [
      "F_one:  0.0\n",
      "F_two:  0.0\n",
      "F_pointfive:  0.0\n"
     ]
    }
   ],
   "source": [
    "#type f score\n",
    "msr.error_type_F_score(avg_pre, avg_rec)"
   ]
  },
  {
   "cell_type": "code",
   "execution_count": 24,
   "metadata": {
    "scrolled": true
   },
   "outputs": [
    {
     "name": "stdout",
     "output_type": "stream",
     "text": [
      "sample_size:  622\n",
      "lineblock_size type :  <class 'int'>\n",
      "lineblock_size:  360\n",
      "avg_pre:  0.9887838627174119\n",
      "avg_rec:  0.9892301885026984\n"
     ]
    }
   ],
   "source": [
    "#line total score\n",
    "avg_pre, avg_rec = msr.errorline_totalscore(test_lb, ans_lb)"
   ]
  },
  {
   "cell_type": "code",
   "execution_count": 25,
   "metadata": {
    "scrolled": true
   },
   "outputs": [
    {
     "name": "stdout",
     "output_type": "stream",
     "text": [
      "F_one:  0.9890069752548248\n",
      "F_two:  0.9890813684773646\n",
      "F_pointfive:  0.9889325932223356\n"
     ]
    }
   ],
   "source": [
    "#line f score \n",
    "msr.error_line_F_score(avg_pre, avg_rec)"
   ]
  },
  {
   "cell_type": "code",
   "execution_count": 40,
   "metadata": {},
   "outputs": [],
   "source": [
    "history = loadDictionary(model_path + \"/\" + history_file)"
   ]
  },
  {
   "cell_type": "code",
   "execution_count": 41,
   "metadata": {},
   "outputs": [
    {
     "data": {
      "image/png": "[encoded data removed]",
      "text/plain": [
       "<Figure size 432x288 with 1 Axes>"
      ]
     },
     "metadata": {
      "needs_background": "light"
     },
     "output_type": "display_data"
    },
    {
     "data": {
      "image/png": "[encoded data removed]",
      "text/plain": [
       "<Figure size 432x288 with 1 Axes>"
      ]
     },
     "metadata": {
      "needs_background": "light"
     },
     "output_type": "display_data"
    },
    {
     "data": {
      "image/png": "[encoded data removed]",
      "text/plain": [
       "<Figure size 432x288 with 1 Axes>"
      ]
     },
     "metadata": {
      "needs_background": "light"
     },
     "output_type": "display_data"
    },
    {
     "data": {
      "image/png": "[encoded data removed]",
      "text/plain": [
       "<Figure size 432x288 with 1 Axes>"
      ]
     },
     "metadata": {
      "needs_background": "light"
     },
     "output_type": "display_data"
    },
    {
     "data": {
      "image/png": "[encoded data removed]",
      "text/plain": [
       "<Figure size 432x288 with 1 Axes>"
      ]
     },
     "metadata": {
      "needs_background": "light"
     },
     "output_type": "display_data"
    }
   ],
   "source": [
    "plotTrainingLoss(history)\n",
    "plotTrainingErrorTypeAcc(history)\n",
    "plotTrainingErrorTypeLoss(history)\n",
    "plotTrainingErrorLineAcc(history)\n",
    "plotTrainingErrorLineLoss(history)"
   ]
  },
  {
   "cell_type": "code",
   "execution_count": null,
   "metadata": {},
   "outputs": [],
   "source": []
  }
 ],
 "metadata": {
  "accelerator": "GPU",
  "colab": {
   "collapsed_sections": [
    "Y-JMBpEFcJWh",
    "psq7nyP0ca_Z"
   ],
   "name": "Main_Colab擴增版.ipynb",
   "provenance": []
  },
  "kernelspec": {
   "display_name": "Python 3",
   "language": "python",
   "name": "python3"
  },
  "language_info": {
   "codemirror_mode": {
    "name": "ipython",
    "version": 3
   },
   "file_extension": ".py",
   "mimetype": "text/x-python",
   "name": "python",
   "nbconvert_exporter": "python",
   "pygments_lexer": "ipython3",
   "version": "3.8.3"
  }
 },
 "nbformat": 4,
 "nbformat_minor": 5
}
