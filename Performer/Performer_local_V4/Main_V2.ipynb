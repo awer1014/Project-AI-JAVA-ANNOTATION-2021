{
 "cells": [
  {
   "cell_type": "code",
   "execution_count": 2,
   "metadata": {},
   "outputs": [
    {
     "ename": "SyntaxError",
     "evalue": "non-default argument follows default argument (TestTranslate.py, line 155)",
     "output_type": "error",
     "traceback": [
      "Traceback \u001b[1;36m(most recent call last)\u001b[0m:\n",
      "  File \u001b[0;32m\"C:\\Users\\W.R_Chen\\Anaconda3\\lib\\site-packages\\IPython\\core\\interactiveshell.py\"\u001b[0m, line \u001b[0;32m3343\u001b[0m, in \u001b[0;35mrun_code\u001b[0m\n    exec(code_obj, self.user_global_ns, self.user_ns)\n",
      "\u001b[1;36m  File \u001b[1;32m\"<ipython-input-2-b410b67a6d0e>\"\u001b[1;36m, line \u001b[1;32m1\u001b[1;36m, in \u001b[1;35m<module>\u001b[1;36m\u001b[0m\n\u001b[1;33m    from Performer_Main import TestTranslate as tf\u001b[0m\n",
      "\u001b[1;36m  File \u001b[1;32m\"D:\\Code\\Project-AI-JAVA-ANNOTATION-2021\\Performer\\Performer_local_V4\\Performer_Main\\TestTranslate.py\"\u001b[1;36m, line \u001b[1;32m155\u001b[0m\n\u001b[1;33m    def translate(Output_Path, Input_Path, model_for_training_org_path, model_for_training_path, Trained_model_Path, all_sample_num = 16644, block_num = 16644, source_max_len_name, training_source_max_len, learning_rate_value, type_weight, line_weight):\u001b[0m\n\u001b[1;37m                  ^\u001b[0m\n\u001b[1;31mSyntaxError\u001b[0m\u001b[1;31m:\u001b[0m non-default argument follows default argument\n"
     ]
    }
   ],
   "source": [
    "from Performer_Main import TestTranslate as tf"
   ]
  },
  {
   "cell_type": "code",
   "execution_count": null,
   "metadata": {},
   "outputs": [],
   "source": [
    "#set file path \n",
    "Output_Path = \"Trianing\\InputCSV\\Split-500-reduce-binary-accuracy\"\n",
    "Input_Path = \"Trianing\\InputTxt\\Split-500-reduce-binary-accuracy\"\n",
    "model_for_training_org_path = \"Model-for-training\\Default\\Split-500-reduce-binary-accuracy\\Max-len-300\"\n",
    "model_for_training_path = \"Model-for-training-org\\Default\\Split-500-reduce-binary-accuracy\\Max-len-300\"\n",
    "Trained_model_Path = \"Trained_models\\Default\\Split-500-reduce-binary-accuracy\\Max-len-300\\Learning-rate-3x0\\weight-1vs1\"\n",
    "source_max_len_name = \"source_max_len\"\n",
    "#set performer para\n",
    "all_sample_num = 16644 #all sample number\n",
    "block_num = 16644 #sample num e.g 10000 sample have 10*1000\n",
    "training_source_max_len = 300\n",
    "learning_rate_value = 0.0001\n",
    "type_weight = 1\n",
    "line_weight = 1\n"
   ]
  },
  {
   "cell_type": "code",
   "execution_count": null,
   "metadata": {},
   "outputs": [],
   "source": [
    "tf.translate(Output_Path, \n",
    "             Input_Path, \n",
    "             model_for_training_org_path, \n",
    "             model_for_training_path, \n",
    "             Trained_model_Path, \n",
    "             source_max_len_name,\n",
    "             all_sample_num,\n",
    "             block_num,\n",
    "             training_source_max_len,\n",
    "             learning_rate_value,\n",
    "             \n",
    "            )"
   ]
  },
  {
   "cell_type": "code",
   "execution_count": null,
   "metadata": {},
   "outputs": [],
   "source": []
  }
 ],
 "metadata": {
  "kernelspec": {
   "display_name": "Python 3",
   "language": "python",
   "name": "python3"
  },
  "language_info": {
   "codemirror_mode": {
    "name": "ipython",
    "version": 3
   },
   "file_extension": ".py",
   "mimetype": "text/x-python",
   "name": "python",
   "nbconvert_exporter": "python",
   "pygments_lexer": "ipython3",
   "version": "3.8.3"
  }
 },
 "nbformat": 4,
 "nbformat_minor": 4
}
