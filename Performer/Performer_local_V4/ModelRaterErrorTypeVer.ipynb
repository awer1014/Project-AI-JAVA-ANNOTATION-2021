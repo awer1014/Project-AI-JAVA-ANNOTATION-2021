{
 "cells": [
  {
   "cell_type": "code",
   "execution_count": 1,
   "metadata": {},
   "outputs": [],
   "source": [
    "import ModelScoreRater as msr\n",
    "import Ploter as ploter\n",
    "import Training_data_debugger as debugger"
   ]
  },
  {
   "cell_type": "code",
   "execution_count": 2,
   "metadata": {},
   "outputs": [],
   "source": [
    "#set model para\n",
    "#model_name = \"checkpoint_model.h5\"\n",
    "model_name = \"test_model1.h5\"\n",
    "model_path = \"Trained_models\\ErrorType-Test\\Split-500-reduce-binary-accuracy\\Max-len-1000\\Learning-rate-3x0\\weight-1vs1\"\n",
    "training_model_path = \"Model-for-training\\ErrorType-Test\\Split-500-reduce-binary-accuracy\\Max-len-1000\"\n",
    "x_test_model = \"x_test_0.npy\"\n",
    "x_train_model = \"x_train_0.npy\"\n",
    "y_train_model0 = \"y_train[0]_0.npy\"\n",
    "y_test_model0 = \"y_test[0]_0.npy\" \n",
    "history_file = \"model_history\"\n",
    "max_len_name = \"source_max_len\""
   ]
  },
  {
   "cell_type": "code",
   "execution_count": 3,
   "metadata": {},
   "outputs": [
    {
     "name": "stdout",
     "output_type": "stream",
     "text": [
      "INFO:tensorflow:Enabling eager execution\n",
      "INFO:tensorflow:Enabling v2 tensorshape\n",
      "INFO:tensorflow:Enabling resource variables\n",
      "INFO:tensorflow:Enabling tensor equality\n",
      "INFO:tensorflow:Enabling control flow v2\n",
      "x_test_loaded shape:  (12126, 1000)\n",
      "x_test_loaded type:  <class 'numpy.ndarray'>\n",
      "x_test_loaded[0] type:  <class 'numpy.ndarray'>\n",
      "y_test_loaded_0 shape:  (12126,)\n",
      "=========type adjust 1=========\n",
      "org out type:  <class 'numpy.ndarray'>\n",
      "org out shape:  (12126, 36)\n",
      "sample_size:  12126\n",
      "errorType_size:  36\n",
      "adjusted out shape:  (12126, 36)\n",
      "=========type adjust 2=========\n",
      "org y_test_loaded_0:  <class 'numpy.ndarray'>\n",
      "adjusted y_test_loaded_0:  <class 'numpy.ndarray'>\n",
      "========adjust complete========\n",
      "\n",
      "==========ErrorType Score==========\n",
      "org ans type:  <class 'numpy.int32'>\n"
     ]
    },
    {
     "ename": "TypeError",
     "evalue": "object of type 'numpy.int32' has no len()",
     "output_type": "error",
     "traceback": [
      "\u001b[1;31m---------------------------------------------------------------------------\u001b[0m",
      "\u001b[1;31mTypeError\u001b[0m                                 Traceback (most recent call last)",
      "\u001b[1;32m<ipython-input-3-7ad56d14b891>\u001b[0m in \u001b[0;36m<module>\u001b[1;34m\u001b[0m\n\u001b[1;32m----> 1\u001b[1;33m msr.modelDebuggerErrorType(model_path, \n\u001b[0m\u001b[0;32m      2\u001b[0m                            \u001b[0mmodel_name\u001b[0m\u001b[1;33m,\u001b[0m\u001b[1;33m\u001b[0m\u001b[1;33m\u001b[0m\u001b[0m\n\u001b[0;32m      3\u001b[0m                            \u001b[0mtraining_model_path\u001b[0m\u001b[1;33m,\u001b[0m\u001b[1;33m\u001b[0m\u001b[1;33m\u001b[0m\u001b[0m\n\u001b[0;32m      4\u001b[0m                            \u001b[0mx_train_model\u001b[0m\u001b[1;33m,\u001b[0m\u001b[1;33m\u001b[0m\u001b[1;33m\u001b[0m\u001b[0m\n\u001b[0;32m      5\u001b[0m                            \u001b[0my_train_model0\u001b[0m\u001b[1;33m,\u001b[0m\u001b[1;33m\u001b[0m\u001b[1;33m\u001b[0m\u001b[0m\n",
      "\u001b[1;32mD:\\Code\\Project-AI-JAVA-ANNOTATION-2021\\Performer\\Performer_local_V4\\ModelScoreRater.py\u001b[0m in \u001b[0;36mmodelDebuggerErrorType\u001b[1;34m(model_path, model_name, x_y_path, x_model_l, y_model_0, max_len_name, debugMode)\u001b[0m\n\u001b[0;32m    658\u001b[0m     \u001b[0mprint\u001b[0m\u001b[1;33m(\u001b[0m\u001b[1;34m\"\\n\"\u001b[0m\u001b[1;33m+\u001b[0m\u001b[1;34m\"==========ErrorType Score==========\"\u001b[0m\u001b[1;33m)\u001b[0m\u001b[1;33m\u001b[0m\u001b[1;33m\u001b[0m\u001b[0m\n\u001b[0;32m    659\u001b[0m     \u001b[1;31m#type total score\u001b[0m\u001b[1;33m\u001b[0m\u001b[1;33m\u001b[0m\u001b[1;33m\u001b[0m\u001b[0m\n\u001b[1;32m--> 660\u001b[1;33m     \u001b[0mavg_pre\u001b[0m\u001b[1;33m,\u001b[0m \u001b[0mavg_rec\u001b[0m\u001b[1;33m,\u001b[0m \u001b[0mavg_acc\u001b[0m \u001b[1;33m=\u001b[0m \u001b[0merrortype_totalscore\u001b[0m\u001b[1;33m(\u001b[0m\u001b[0mtest_ep\u001b[0m\u001b[1;33m,\u001b[0m \u001b[0mans_ep\u001b[0m\u001b[1;33m)\u001b[0m\u001b[1;33m\u001b[0m\u001b[1;33m\u001b[0m\u001b[0m\n\u001b[0m\u001b[0;32m    661\u001b[0m     \u001b[0mprint\u001b[0m\u001b[1;33m(\u001b[0m\u001b[1;34m\"=========ErrorType F Score=========\"\u001b[0m\u001b[1;33m)\u001b[0m\u001b[1;33m\u001b[0m\u001b[1;33m\u001b[0m\u001b[0m\n\u001b[0;32m    662\u001b[0m     \u001b[1;31m#type f score\u001b[0m\u001b[1;33m\u001b[0m\u001b[1;33m\u001b[0m\u001b[1;33m\u001b[0m\u001b[0m\n",
      "\u001b[1;32mD:\\Code\\Project-AI-JAVA-ANNOTATION-2021\\Performer\\Performer_local_V4\\ModelScoreRater.py\u001b[0m in \u001b[0;36merrortype_totalscore\u001b[1;34m(pre_errortype, ans_errortype)\u001b[0m\n\u001b[0;32m    363\u001b[0m     \u001b[1;32mfor\u001b[0m \u001b[0mi\u001b[0m \u001b[1;32min\u001b[0m \u001b[0mrange\u001b[0m\u001b[1;33m(\u001b[0m\u001b[0mlen\u001b[0m\u001b[1;33m(\u001b[0m\u001b[0mpre_errortype\u001b[0m\u001b[1;33m)\u001b[0m\u001b[1;33m)\u001b[0m\u001b[1;33m:\u001b[0m\u001b[1;33m\u001b[0m\u001b[1;33m\u001b[0m\u001b[0m\n\u001b[0;32m    364\u001b[0m         \u001b[1;31m#print(\"Sample: \", i)\u001b[0m\u001b[1;33m\u001b[0m\u001b[1;33m\u001b[0m\u001b[1;33m\u001b[0m\u001b[0m\n\u001b[1;32m--> 365\u001b[1;33m         \u001b[0mpre\u001b[0m\u001b[1;33m,\u001b[0m \u001b[0mrec\u001b[0m\u001b[1;33m,\u001b[0m \u001b[0macc\u001b[0m \u001b[1;33m=\u001b[0m \u001b[0merrortype_score\u001b[0m\u001b[1;33m(\u001b[0m\u001b[0mpre_errortype\u001b[0m\u001b[1;33m[\u001b[0m\u001b[0mi\u001b[0m\u001b[1;33m]\u001b[0m\u001b[1;33m,\u001b[0m \u001b[0mans_errortype\u001b[0m\u001b[1;33m[\u001b[0m\u001b[0mi\u001b[0m\u001b[1;33m]\u001b[0m\u001b[1;33m)\u001b[0m\u001b[1;33m\u001b[0m\u001b[1;33m\u001b[0m\u001b[0m\n\u001b[0m\u001b[0;32m    366\u001b[0m         \u001b[0mpre_total\u001b[0m \u001b[1;33m=\u001b[0m \u001b[0mpre_total\u001b[0m \u001b[1;33m+\u001b[0m \u001b[0mpre\u001b[0m\u001b[1;33m\u001b[0m\u001b[1;33m\u001b[0m\u001b[0m\n\u001b[0;32m    367\u001b[0m         \u001b[0mrec_total\u001b[0m \u001b[1;33m=\u001b[0m \u001b[0mrec_total\u001b[0m \u001b[1;33m+\u001b[0m \u001b[0mrec\u001b[0m\u001b[1;33m\u001b[0m\u001b[1;33m\u001b[0m\u001b[0m\n",
      "\u001b[1;32mD:\\Code\\Project-AI-JAVA-ANNOTATION-2021\\Performer\\Performer_local_V4\\ModelScoreRater.py\u001b[0m in \u001b[0;36merrortype_score\u001b[1;34m(pre_errortype, ans_errortype)\u001b[0m\n\u001b[0;32m    319\u001b[0m     \u001b[0mpre_length\u001b[0m \u001b[1;33m=\u001b[0m \u001b[0mlen\u001b[0m\u001b[1;33m(\u001b[0m\u001b[0mnew_pre_errortype\u001b[0m\u001b[1;33m)\u001b[0m \u001b[1;31m#get length from ans_type\u001b[0m\u001b[1;33m\u001b[0m\u001b[1;33m\u001b[0m\u001b[0m\n\u001b[0;32m    320\u001b[0m     \u001b[1;31m#find ans length\u001b[0m\u001b[1;33m\u001b[0m\u001b[1;33m\u001b[0m\u001b[1;33m\u001b[0m\u001b[0m\n\u001b[1;32m--> 321\u001b[1;33m     \u001b[0mnew_ans_errortype\u001b[0m \u001b[1;33m=\u001b[0m \u001b[0mans_typefilter\u001b[0m\u001b[1;33m(\u001b[0m\u001b[0mans_errortype\u001b[0m\u001b[1;33m)\u001b[0m \u001b[1;31m#make new array for score\u001b[0m\u001b[1;33m\u001b[0m\u001b[1;33m\u001b[0m\u001b[0m\n\u001b[0m\u001b[0;32m    322\u001b[0m     \u001b[0mans_length\u001b[0m \u001b[1;33m=\u001b[0m \u001b[0mlen\u001b[0m\u001b[1;33m(\u001b[0m\u001b[0mnew_ans_errortype\u001b[0m\u001b[1;33m)\u001b[0m \u001b[1;31m#get length from ans_type\u001b[0m\u001b[1;33m\u001b[0m\u001b[1;33m\u001b[0m\u001b[0m\n\u001b[0;32m    323\u001b[0m     \u001b[1;31m#print(\"ans length: \", ans_length)\u001b[0m\u001b[1;33m\u001b[0m\u001b[1;33m\u001b[0m\u001b[1;33m\u001b[0m\u001b[0m\n",
      "\u001b[1;32mD:\\Code\\Project-AI-JAVA-ANNOTATION-2021\\Performer\\Performer_local_V4\\ModelScoreRater.py\u001b[0m in \u001b[0;36mans_typefilter\u001b[1;34m(ans_errortype)\u001b[0m\n\u001b[0;32m    294\u001b[0m \u001b[1;32mdef\u001b[0m \u001b[0mans_typefilter\u001b[0m\u001b[1;33m(\u001b[0m\u001b[0mans_errortype\u001b[0m\u001b[1;33m)\u001b[0m\u001b[1;33m:\u001b[0m\u001b[1;33m\u001b[0m\u001b[1;33m\u001b[0m\u001b[0m\n\u001b[0;32m    295\u001b[0m     \u001b[0mprint\u001b[0m\u001b[1;33m(\u001b[0m\u001b[1;34m\"org ans type: \"\u001b[0m\u001b[1;33m,\u001b[0m \u001b[0mtype\u001b[0m\u001b[1;33m(\u001b[0m\u001b[0mans_errortype\u001b[0m\u001b[1;33m)\u001b[0m\u001b[1;33m)\u001b[0m\u001b[1;33m\u001b[0m\u001b[1;33m\u001b[0m\u001b[0m\n\u001b[1;32m--> 296\u001b[1;33m     \u001b[0mprint\u001b[0m\u001b[1;33m(\u001b[0m\u001b[1;34m\"org ans len: \"\u001b[0m\u001b[1;33m,\u001b[0m \u001b[0mlen\u001b[0m\u001b[1;33m(\u001b[0m\u001b[0mans_errortype\u001b[0m\u001b[1;33m)\u001b[0m\u001b[1;33m)\u001b[0m\u001b[1;33m\u001b[0m\u001b[1;33m\u001b[0m\u001b[0m\n\u001b[0m\u001b[0;32m    297\u001b[0m     \u001b[0mnew_ans_errortype\u001b[0m \u001b[1;33m=\u001b[0m \u001b[1;33m[\u001b[0m\u001b[0mvalue\u001b[0m \u001b[1;32mfor\u001b[0m \u001b[0mvalue\u001b[0m \u001b[1;32min\u001b[0m \u001b[0mans_errortype\u001b[0m \u001b[1;32mif\u001b[0m \u001b[0mvalue\u001b[0m \u001b[1;33m==\u001b[0m \u001b[1;36m1\u001b[0m\u001b[1;33m]\u001b[0m\u001b[1;33m\u001b[0m\u001b[1;33m\u001b[0m\u001b[0m\n\u001b[0;32m    298\u001b[0m     \u001b[0mprint\u001b[0m\u001b[1;33m(\u001b[0m\u001b[1;34m\"new ans errortype: \"\u001b[0m\u001b[1;33m,\u001b[0m \u001b[0mnew_ans_errortype\u001b[0m\u001b[1;33m)\u001b[0m\u001b[1;33m\u001b[0m\u001b[1;33m\u001b[0m\u001b[0m\n",
      "\u001b[1;31mTypeError\u001b[0m: object of type 'numpy.int32' has no len()"
     ]
    }
   ],
   "source": [
    "msr.modelDebuggerErrorType(model_path, \n",
    "                           model_name, \n",
    "                           training_model_path, \n",
    "                           x_train_model, \n",
    "                           y_train_model0, \n",
    "                           #x_test_model, \n",
    "                           #y_test_model0, \n",
    "                           max_len_name)"
   ]
  },
  {
   "cell_type": "code",
   "execution_count": null,
   "metadata": {},
   "outputs": [],
   "source": [
    "#show all history graphic \n",
    "ploter.showAllGraphic(model_path, history_file)"
   ]
  },
  {
   "cell_type": "code",
   "execution_count": null,
   "metadata": {},
   "outputs": [],
   "source": [
    "debugger.debugAll(training_model_path, y_train_model0)"
   ]
  },
  {
   "cell_type": "code",
   "execution_count": null,
   "metadata": {},
   "outputs": [],
   "source": []
  }
 ],
 "metadata": {
  "kernelspec": {
   "display_name": "Python 3",
   "language": "python",
   "name": "python3"
  },
  "language_info": {
   "codemirror_mode": {
    "name": "ipython",
    "version": 3
   },
   "file_extension": ".py",
   "mimetype": "text/x-python",
   "name": "python",
   "nbconvert_exporter": "python",
   "pygments_lexer": "ipython3",
   "version": "3.8.3"
  }
 },
 "nbformat": 4,
 "nbformat_minor": 4
}
