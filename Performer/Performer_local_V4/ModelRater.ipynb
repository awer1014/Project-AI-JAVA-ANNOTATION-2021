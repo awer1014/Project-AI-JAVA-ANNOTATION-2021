{
 "cells": [
  {
   "cell_type": "code",
   "execution_count": 1,
   "metadata": {},
   "outputs": [],
   "source": [
    "import ModelScoreRater as msr\n",
    "import Ploter as ploter\n",
    "import Training_data_debugger as debugger"
   ]
  },
  {
   "cell_type": "code",
   "execution_count": 2,
   "metadata": {},
   "outputs": [],
   "source": [
    "#set model para\n",
    "#model_name = \"checkpoint_model.h5\"\n",
    "model_name = \"test_model1.h5\"\n",
    "model_path = \"Trained_models\\Default\\Split-500-reduce-binary-accuracy\\Max-len-9999\\Learning-rate-4x0\\weight-5vs1\"\n",
    "training_model_path = \"Model-for-training\\Default\\Split-500-reduce-binary-accuracy\\Max-len-9999\"\n",
    "x_test_model = \"x_test_0.npy\"\n",
    "x_train_model = \"x_train_0.npy\"\n",
    "y_train_model0 = \"y_train[0]_0.npy\"\n",
    "y_train_model1 = \"y_train[1]_0.npy\"\n",
    "y_test_model0 = \"y_test[0]_0.npy\" \n",
    "y_test_model1 = \"y_test[1]_0.npy\" \n",
    "history_file = \"model_history\"\n",
    "max_len_name = \"source_max_len\""
   ]
  },
  {
   "cell_type": "code",
   "execution_count": null,
   "metadata": {},
   "outputs": [
    {
     "name": "stdout",
     "output_type": "stream",
     "text": [
      "INFO:tensorflow:Enabling eager execution\n",
      "INFO:tensorflow:Enabling v2 tensorshape\n",
      "INFO:tensorflow:Enabling resource variables\n",
      "INFO:tensorflow:Enabling tensor equality\n",
      "INFO:tensorflow:Enabling control flow v2\n",
      "x_test_loaded shape:  (13474, 3372)\n",
      "x_test_loaded type:  <class 'numpy.ndarray'>\n",
      "x_test_loaded[0] type:  <class 'numpy.ndarray'>\n",
      "y_test_loaded_0 shape:  (13474, 36)\n",
      "y_test_loaded_1 shape:  (360, 13474, 160)\n",
      "=========type adjust 1=========\n",
      "org out type:  <class 'numpy.ndarray'>\n",
      "org out shape:  (13474, 36)\n",
      "adjusted out type:  <class 'numpy.ndarray'>\n",
      "adjusted out shape:  (13474, 36)\n",
      "=========type adjust 2=========\n",
      "org y_test_loaded_0 type:  <class 'numpy.ndarray'>\n",
      "adjusted y_test_loaded_0 type:  <class 'numpy.ndarray'>\n",
      "adjusted y_test_loaded_0 shape:  (13474, 36)\n",
      "=========line adjust 1=========\n"
     ]
    }
   ],
   "source": [
    "msr.showAllScore(model_path, \n",
    "                 model_name, \n",
    "                 training_model_path, \n",
    "                 x_train_model, \n",
    "                 y_train_model0, \n",
    "                 y_train_model1,\n",
    "                 #x_test_model, \n",
    "                 #y_test_model0, \n",
    "                 #y_test_model1,\n",
    "                 max_len_name)"
   ]
  },
  {
   "cell_type": "code",
   "execution_count": null,
   "metadata": {},
   "outputs": [],
   "source": [
    "#show all history graphic \n",
    "ploter.showAllGraphic(model_path, history_file)"
   ]
  },
  {
   "cell_type": "code",
   "execution_count": null,
   "metadata": {
    "scrolled": false
   },
   "outputs": [],
   "source": [
    "debugger.debugAll(training_model_path, y_train_model0)"
   ]
  },
  {
   "cell_type": "code",
   "execution_count": null,
   "metadata": {},
   "outputs": [],
   "source": [
    "#=================test area================="
   ]
  },
  {
   "cell_type": "code",
   "execution_count": null,
   "metadata": {},
   "outputs": [],
   "source": [
    "import  numpy as np\n",
    "data = np.asarray([[1,1,1,1,1], [1,0,0,0,0], [1,0,0,0,0]])\n",
    "data2 = np.sum(data, axis=0)\n",
    "data2"
   ]
  },
  {
   "cell_type": "code",
   "execution_count": null,
   "metadata": {},
   "outputs": [],
   "source": [
    "a = np.asarray([12.45, 51.55, 21.35, 11.75, 12.45])\n",
    "b = np.round(a, 1)\n",
    "b"
   ]
  }
 ],
 "metadata": {
  "kernelspec": {
   "display_name": "Python 3",
   "language": "python",
   "name": "python3"
  },
  "language_info": {
   "codemirror_mode": {
    "name": "ipython",
    "version": 3
   },
   "file_extension": ".py",
   "mimetype": "text/x-python",
   "name": "python",
   "nbconvert_exporter": "python",
   "pygments_lexer": "ipython3",
   "version": "3.8.3"
  }
 },
 "nbformat": 4,
 "nbformat_minor": 4
}
