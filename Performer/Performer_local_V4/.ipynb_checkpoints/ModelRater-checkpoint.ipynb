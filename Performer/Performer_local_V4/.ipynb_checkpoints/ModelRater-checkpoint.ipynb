{
 "cells": [
  {
   "cell_type": "code",
   "execution_count": 1,
   "metadata": {},
   "outputs": [],
   "source": [
    "def loadTestTrainData(filename): # e.g., 'test.npy'\n",
    "    import numpy as np\n",
    "    with open(filename, \"rb\") as f:\n",
    "        data = np.load(f)\n",
    "        return data"
   ]
  },
  {
   "cell_type": "code",
   "execution_count": 2,
   "metadata": {},
   "outputs": [],
   "source": [
    "x_filename = \"x_train_0.npy\"\n",
    "y0_filename = \"y_train[0]_0.npy\"\n",
    "y1_filename = \"y_train[1]_0.npy\"\n",
    "filepath = \"Model-for-training\\Default\\Split-500-reduce-binary-accuracy\\Max-len-1000\"\n",
    "token = \"source_token_dict.pickle\"\n",
    "x_file  = loadTestTrainData(filepath + \"/\" + x_filename)\n",
    "y0_file = loadTestTrainData(filepath + \"/\" + y0_filename)\n",
    "y1_file = loadTestTrainData(filepath + \"/\" + y1_filename)"
   ]
  },
  {
   "cell_type": "code",
   "execution_count": 3,
   "metadata": {},
   "outputs": [
    {
     "name": "stdout",
     "output_type": "stream",
     "text": [
      "=======================\n",
      "{'<PAD>': 0, '<START>': 1, '<END>': 2, '<BOC>': 3, '<EOC>': 4, '<CR>': 5, '<NUM_INT>': 6, '<NUM_FLOAT>': 7, '<STRING>': 8, '<': 9, 'BOC': 10, '>': 11, 'public': 12, 'class': 13, 'ChineseLetter': 14, '{': 15, 'CR': 16, 'String': 17, 'getTitle': 18, '(': 19, ')': 20, 'return': 21, 'this': 22, '.': 23, 'title': 24, ';': 25, '}': 26, 'y': 27, '1': 28, ',': 29, 'Y': 30, 'h': 31, '3': 32, 'c': 33, '4': 34, 'q': 35, '8': 36, '=': 37, 'receiver': 38, 'content': 39, 'sender': 40, 'date': 41, 'getSender': 42, 'void': 43, 'display': 44, 'System': 45, 'out': 46, 'println': 47, '+': 48, 'STRING': 49, 'getReceiver': 50, 'getDate': 51, 'EOC': 52, 'L': 53, '7': 54, 'F': 55, '6': 56, 'f': 57, '2': 58, 'A': 59, '9': 60, 'P': 61, 'm': 62, 'W': 63, 'j': 64, 's': 65, 'i': 66, '0': 67, 'Q': 68, 'K': 69, 'H': 70, 'D': 71, '5': 72, 'U': 73, 'w': 74, 'e': 75, 'J': 76, 'O': 77, 'V': 78, 'I': 79, 'B': 80, 'n': 81, 'M': 82, 'l': 83, 'static': 84, 'main': 85, '[': 86, ']': 87, 'new': 88, 'S': 89, 'd': 90, 'R': 91, 'Z': 92, 'x': 93, 'v': 94, 'G': 95, 'T': 96, 'o': 97, 'C': 98, 't': 99, 'E': 100, 'X': 101, 'z': 102, 'g': 103, 'N': 104, 'private': 105, 'test': 106, 'k': 107, 'b': 108, 'a': 109, 'p': 110, 'r': 111, 'u': 112, 'extends': 113, 'Letter': 114, 'super': 115, 'EnglishLetter': 116, 'Envelop': 117, 'senderAddr': 118, 'receiverAddr': 119, 'letter': 120, 'abstract': 121, 'protected': 122, 'Person': 123, 'int': 124, 'weight': 125, 'name': 126, 'NUM_INT': 127, 'Integer': 128, 'parseInt': 129, 'selfIntroduce': 130, 'geTtitle': 131, 'Test': 132, '-': 133, 'double': 134, 'float': 135, 'Ststem': 136, 'Math': 137, 'abs': 138, 'Cel': 139, 'ans': 140, '*': 141, 'NUM_FLOAT': 142, '/': 143, 'degree': 144, 'Double': 145, 'parseDouble': 146, 'mymath': 147, 'MyMath': 148, 'for': 149, 'country': 150, 'age': 151, 'Exchange': 152, 'changeOneHundred': 153, 'rate': 154, 'money': 155, 'if': 156, 'else': 157, 'print': 158, 'import': 159, 'java': 160, 'util': 161, 'Arrays': 162, 'Card': 163, 'list': 164, 'sort': 165, ':': 166, 'implements': 167, 'Comparable': 168, 'compareTo': 169, 'Object': 170, 'Scanner': 171, 'Exam': 172, 'getMaxScore': 173, 'num': 174, 'setExam': 175, 'testday': 176, 'testtime': 177, 'listExam': 178, 'in': 179, 'nextLine': 180, 'nextInt': 181, 'nextDouble': 182, 'score': 183, 'time': 184, 'Random': 185, 'Target': 186, 'toss': 187, 'random': 188, 'InOrOut': 189, 'Vote': 190, 'ticket': 191, 'sum': 192, 'sumofticket': 193, 'company': 194, 'address': 195, 'relatives': 196, 'phone': 197, 'Items': 198, 'iName': 199, 'discount': 200, 'price': 201, 'Order': 202, 'oders': 203, 'itemCode': 204, 'Date': 205, 'orderNum': 206, 'dollarUnit': 207, 'while': 208, 'equals': 209, 'break': 210, 'nextdouble': 211, 'randomhit': 212, 'Word': 213, 'StringTokenizer': 214, 'hasMoreTokens': 215, 'nextToken': 216, 'Customer': 217, 'id': 218, 'tel': 219, 'Item': 220, 'sc': 221, 'count': 222, 'next': 223, 'SetItem': 224, 'SetPet': 225, 'type': 226, 'order': 227, 'mon': 228, 'str': 229, 'length': 230, 'substring': 231, 'toLowerCase': 232, 'Sender': 233, 'Receiver': 234, 'Title': 235, 'sqrt': 236, 'ArrayList': 237, 'split': 238, '|': 239, 'lenght': 240, 'continue': 241, 'number': 242, 'CircleIn': 243, 'Inans': 244, 'CircleOut': 245, 'Outans': 246, 'Inana': 247, 'player': 248, 'total': 249, 'gettotal': 250, 'hasNextInt': 251, 'LT': 252, 'lt': 253, 'KKBox': 254, 'volume': 255, 'surfaceArea': 256, 'width': 257, 'height': 258, 'KKbox': 259, 'Volume': 260, 'kkbox': 261, 'leg': 262, 'hei': 263, 'wid': 264, 'season': 265, 'OK': 266, 'surf': 267, 'sur': 268, 'vol': 269, 'KKBOx': 270, 'Season': 271, 'string': 272, 'io': 273, 'math': 274, 'KKBOX': 275, 'exit': 276, 'StringToInt': 277, 'switch': 278, 'case': 279, 'default': 280, 'SetExam': 281, 'printf': 282, 'Exit': 283, 'getsurfaceArea': 284, 'getvolume': 285, 'setvolume': 286, 'setsurfaceArea': 287, 'Keeper': 288, 'Pet': 289, 'pid': 290, 'strData': 291, 'amount': 292, 'speak': 293, 'countnum': 294, 'charAt': 295, 'getLetter': 296, 'gettype': 297, 'getName': 298, 'getpid': 299, 'rest': 300, 'boolean': 301, 'wordCount': 302, 'temp': 303, 'do': 304, 'cin': 305, '!': 306, 'KeeperPet': 307, 'keyboard': 308, 'getSend': 309, 'scanner': 310, 'word': 311, 'Count': 312, 'equlas': 313, 'parent': 314, 'pay': 315, 'pet': 316, 'keeper': 317, 'getcount': 318, 'getLetterr': 319, 'TestString': 320, 'mian': 321, 'char': 322, 'settel': 323, 'copyid': 324, 'copytel': 325, 'setid': 326, 'entertel': 327, 'enterid': 328, 'copypid': 329, 'settype': 330, 'entertype': 331, 'setpid': 332, 'enterpid': 333, 'setname': 334, 'entername': 335, 'copytype': 336, 'copyname': 337, 'PET': 338, 'Id': 339, 'Tel': 340, 'shop': 341, 'cat': 342, '喵': 343, 'dog': 344, '汪': 345, 'text': 346, 'sMyMathUtil': 347, 'indexOf': 348, 'start': 349, '&': 350, 'ID': 351, 'classtest': 352, 'Evaluation': 353, 'setSID': 354, 'SID': 355, 'setName': 356, 'Sname': 357, 'Data': 358, 'Range': 359, 'Score': 360, 'setScore': 361, 'SP': 362, 'setSP': 363, 'setData': 364, 'setRange': 365, 'Text': 366, 'HomeWork': 367, 'Report': 368, 'scan': 369, 'day': 370, 'range': 371, 'eday': 372, 'msi': 373, 'xsw': 374, 'Student': 375, 'Grades': 376, 'grade': 377, 'getExam': 378, 'Homework': 379, 'data': 380, 'getHomework': 381, 'discribe': 382, 'Sudent': 383, 'getContent': 384, 'Chineseletter': 385, 'Stirng': 386, 'chineseletter': 387, 'It': 388, 'ChinseLetter': 389, 'getdata': 390, 'ChineseLetteer': 391, 'getClass': 392, 'getData': 393, 'Display': 394, 'non': 395, 'month': 396, 'monthAsString': 397, 'short': 398, 'intput': 399, 'language': 400, 'setLanguage': 401, 'getdate': 402, 'displayFull': 403, 'getsender': 404, 'getreceiver': 405, 'DisplayFull': 406, 'Main': 407, 'Test_': 408, 'sea': 409, 'List': 410, 'strList': 411, 'asList': 412, 'Collections': 413, 'shuffle': 414, 'getlength': 415, '_length': 416, '_width': 417, '_height': 418, 'getwidth': 419, 'getheight': 420, 'Cuboid': 421, 'cuboid': 422, 'Surface': 423, 'getSurfaceArea': 424, 'getTel': 425, 'getId': 426, 'getType': 427, 'getPid': 428, 'keep': 429, 'input': 430, 'getid': 431, 'getname': 432, 'system': 433, 'euqals': 434, 'Speak': 435, 'countWord': 436, 'TestScanner': 437, 'gettel': 438, 'sound': 439, 'displayid': 440, 'keeperdisplay': 441, 'sca': 442, 'petdisplay': 443, 'contWord': 444, 'setsender': 445, 'gettitle': 446, 'setreceiver': 447, 'getcontent': 448, 'settitle': 449, 'setdate': 450, 'setcontent': 451, 'speek': 452, 'randomChoosePet': 453, 'choosePet': 454, 'flag': 455, 'it': 456, 'num_i': 457, 'coin': 458, 'cnt': 459, 'discnt': 460, 'total_money': 461, 'item': 462, 'Kid': 463, 'Pid': 464, 'pt': 465, 'Name': 466, 'Type': 467, 'toString': 468, 'Tell': 469, 'kp': 470, 'York': 471, 'Game': 472, 'chooseTest': 473, 'mapTest': 474, 'setscore': 475, 'setsw': 476, 'getscore': 477, 'sw': 478, 'getsw': 479, 'sid': 480, 'gradepc': 481, 'printa': 482, 'mapEvaluation': 483, 'Evalution': 484, 'TEST': 485, 'HW': 486, 'REPORT': 487, 'sampleMethod': 488, 'Envelopdisplay': 489, 'mx': 490, 'my': 491, 'reciver': 492, 'Inter': 493, 'paraeInt': 494, 'put': 495, 'Englishletter': 496, 'setTitle': 497, 'setReceiver': 498, 'getitle': 499, 'setdata': 500, 'getsenderAddr': 501, 'getreceiverAddr': 502, 'setsenderAddr': 503, 'setreceiverAddr': 504, 'interface': 505}\n",
      "x file [0] : [  9  10  11 159 160  23 161  23 171  25   9  16  11  12  13 213  15   9\n",
      "  16  11  84  17 311  86  87  37  15   9  49  11  29   9  49  11  29   9\n",
      "  49  11  29   9  49  11  29   9  49  11  29   9  49  11  29   9  49  11\n",
      "  29   9  49  11  29   9  49  11  29   9  49  11  26  25   9  16  11  12\n",
      "  84  43  85  19  17  86  87  97  28  20  15   9  16  11  17 112  36  25\n",
      "   9  16  11 171  79  32  37  88 171  19  45  23 179  20  25   9  16  11\n",
      " 112  36  37  79  32  23 180  19  20  25   9  16  11 124  95  34  37 112\n",
      "  36  23 230  19  20  25   9  16  11  45  23  46  23 158  19   9  49  11\n",
      "  48 112  36  23 230  19  20  20  25   9  16  11  45  23  46  23 158  19\n",
      "   9  49  11  20  25   9  16  11 149  19 124  27  28  37   9 127  11  25\n",
      "  27  28   9   9 127  11  25  27  28  48  48  20  15   9  16  11 124 107\n",
      "  67  37 312  19 112  36  29 311  86  27  28  87  20  25   9  16  11  45\n",
      "  23  46  23 158  19   9  49  11  48 311  86  27  28  87  48   9  49  11\n",
      "  48 107  67  20  25   9  16  11  26   9  16  11  26   9  16  11  84 124\n",
      " 312  19  17 112  36  29  17 110  20  15   9  16  11 124 107  67  37   9\n",
      " 127  11  25   9  16  11 149  19 124 101  58  37   9 127  11  25 101  58\n",
      "   9 112  36  23 230  19  20 133 110  23 230  19  20  48   9 127  11  25\n",
      " 101  58  48  48  20  15   9  16  11  17 110  32  37 112  36  23 230  19\n",
      " 101  58  29 101  58  48 110  23 230  19  20  20  25   9  16  11 156  19\n",
      " 110  32  23 313  19 311  20  20  15   9  16  11 107  67  48  48  25   9\n",
      "  16  11  26   9  16  11  26   9  16  11  21 107  67  25   9  16  11  26\n",
      "   9  16  11  26   9  16  11   9  52  11   0   0   0   0   0   0   0   0\n",
      "   0   0   0   0   0   0   0   0   0   0   0   0   0   0   0   0   0   0\n",
      "   0   0   0   0   0   0   0   0   0   0   0   0   0   0   0   0   0   0\n",
      "   0   0   0   0   0   0   0   0   0   0   0   0   0   0   0   0   0   0\n",
      "   0   0   0   0   0   0   0   0   0   0   0   0   0   0   0   0   0   0\n",
      "   0   0   0   0   0   0   0   0   0   0   0   0   0   0   0   0   0   0\n",
      "   0   0   0   0   0   0   0   0   0   0   0   0   0   0   0   0   0   0\n",
      "   0   0   0   0   0   0   0   0   0   0   0   0   0   0   0   0   0   0\n",
      "   0   0   0   0   0   0   0   0   0   0   0   0   0   0   0   0   0   0\n",
      "   0   0   0   0   0   0   0   0   0   0   0   0   0   0   0   0   0   0\n",
      "   0   0   0   0   0   0   0   0   0   0   0   0   0   0   0   0   0   0\n",
      "   0   0   0   0   0   0   0   0   0   0   0   0   0   0   0   0   0   0\n",
      "   0   0   0   0   0   0   0   0   0   0   0   0   0   0   0   0   0   0\n",
      "   0   0   0   0   0   0   0   0   0   0   0   0   0   0   0   0   0   0\n",
      "   0   0   0   0   0   0   0   0   0   0   0   0   0   0   0   0   0   0\n",
      "   0   0   0   0   0   0   0   0   0   0   0   0   0   0   0   0   0   0\n",
      "   0   0   0   0   0   0   0   0   0   0   0   0   0   0   0   0   0   0\n",
      "   0   0   0   0   0   0   0   0   0   0   0   0   0   0   0   0   0   0\n",
      "   0   0   0   0   0   0   0   0   0   0   0   0   0   0   0   0   0   0\n",
      "   0   0   0   0   0   0   0   0   0   0   0   0   0   0   0   0   0   0\n",
      "   0   0   0   0   0   0   0   0   0   0   0   0   0   0   0   0   0   0\n",
      "   0   0   0   0   0   0   0   0   0   0   0   0   0   0   0   0   0   0\n",
      "   0   0   0   0   0   0   0   0   0   0   0   0   0   0   0   0   0   0\n",
      "   0   0   0   0   0   0   0   0   0   0   0   0   0   0   0   0   0   0\n",
      "   0   0   0   0   0   0   0   0   0   0   0   0   0   0   0   0   0   0\n",
      "   0   0   0   0   0   0   0   0   0   0   0   0   0   0   0   0   0   0\n",
      "   0   0   0   0   0   0   0   0   0   0   0   0   0   0   0   0   0   0\n",
      "   0   0   0   0   0   0   0   0   0   0   0   0   0   0   0   0   0   0\n",
      "   0   0   0   0   0   0   0   0   0   0   0   0   0   0   0   0   0   0\n",
      "   0   0   0   0   0   0   0   0   0   0   0   0   0   0   0   0   0   0\n",
      "   0   0   0   0   0   0   0   0   0   0   0   0   0   0   0   0   0   0\n",
      "   0   0   0   0   0   0   0   0   0   0   0   0   0   0   0   0   0   0\n",
      "   0   0   0   0   0   0   0   0   0   0   0   0   0   0   0   0   0   0\n",
      "   0   0   0   0   0   0   0   0   0   0   0   0   0   0   0   0   0   0\n",
      "   0   0   0   0   0   0   0   0   0   0]\n",
      "=============org_code=============\n",
      "< BOC > import java . util . Scanner ; < CR > public class Word { < CR > static String word [ ] = { < STRING > , < STRING > , < STRING > , < STRING > , < STRING > , < STRING > , < STRING > , < STRING > , < STRING > , < STRING > } ; < CR > public static void main ( String [ ] o 1 ) { < CR > String u 8 ; < CR > Scanner I 3 = new Scanner ( System . in ) ; < CR > u 8 = I 3 . nextLine ( ) ; < CR > int G 4 = u 8 . length ( ) ; < CR > System . out . print ( < STRING > + u 8 . length ( ) ) ; < CR > System . out . print ( < STRING > ) ; < CR > for ( int y 1 = < NUM_INT > ; y 1 < < NUM_INT > ; y 1 + + ) { < CR > int k 0 = Count ( u 8 , word [ y 1 ] ) ; < CR > System . out . print ( < STRING > + word [ y 1 ] + < STRING > + k 0 ) ; < CR > } < CR > } < CR > static int Count ( String u 8 , String p ) { < CR > int k 0 = < NUM_INT > ; < CR > for ( int X 2 = < NUM_INT > ; X 2 < u 8 . length ( ) - p . length ( ) + < NUM_INT > ; X 2 + + ) { < CR > String p 3 = u 8 . length ( X 2 , X 2 + p . length ( ) ) ; < CR > if ( p 3 . equlas ( word ) ) { < CR > k 0 + + ; < CR > } < CR > } < CR > return k 0 ; < CR > } < CR > } < CR > < EOC > <PAD> <PAD> <PAD> <PAD> <PAD> <PAD> <PAD> <PAD> <PAD> <PAD> <PAD> <PAD> <PAD> <PAD> <PAD> <PAD> <PAD> <PAD> <PAD> <PAD> <PAD> <PAD> <PAD> <PAD> <PAD> <PAD> <PAD> <PAD> <PAD> <PAD> <PAD> <PAD> <PAD> <PAD> <PAD> <PAD> <PAD> <PAD> <PAD> <PAD> <PAD> <PAD> <PAD> <PAD> <PAD> <PAD> <PAD> <PAD> <PAD> <PAD> <PAD> <PAD> <PAD> <PAD> <PAD> <PAD> <PAD> <PAD> <PAD> <PAD> <PAD> <PAD> <PAD> <PAD> <PAD> <PAD> <PAD> <PAD> <PAD> <PAD> <PAD> <PAD> <PAD> <PAD> <PAD> <PAD> <PAD> <PAD> <PAD> <PAD> <PAD> <PAD> <PAD> <PAD> <PAD> <PAD> <PAD> <PAD> <PAD> <PAD> <PAD> <PAD> <PAD> <PAD> <PAD> <PAD> <PAD> <PAD> <PAD> <PAD> <PAD> <PAD> <PAD> <PAD> <PAD> <PAD> <PAD> <PAD> <PAD> <PAD> <PAD> <PAD> <PAD> <PAD> <PAD> <PAD> <PAD> <PAD> <PAD> <PAD> <PAD> <PAD> <PAD> <PAD> <PAD> <PAD> <PAD> <PAD> <PAD> <PAD> <PAD> <PAD> <PAD> <PAD> <PAD> <PAD> <PAD> <PAD> <PAD> <PAD> <PAD> <PAD> <PAD> <PAD> <PAD> <PAD> <PAD> <PAD> <PAD> <PAD> <PAD> <PAD> <PAD> <PAD> <PAD> <PAD> <PAD> <PAD> <PAD> <PAD> <PAD> <PAD> <PAD> <PAD> <PAD> <PAD> <PAD> <PAD> <PAD> <PAD> <PAD> <PAD> <PAD> <PAD> <PAD> <PAD> <PAD> <PAD> <PAD> <PAD> <PAD> <PAD> <PAD> <PAD> <PAD> <PAD> <PAD> <PAD> <PAD> <PAD> <PAD> <PAD> <PAD> <PAD> <PAD> <PAD> <PAD> <PAD> <PAD> <PAD> <PAD> <PAD> <PAD> <PAD> <PAD> <PAD> <PAD> <PAD> <PAD> <PAD> <PAD> <PAD> <PAD> <PAD> <PAD> <PAD> <PAD> <PAD> <PAD> <PAD> <PAD> <PAD> <PAD> <PAD> <PAD> <PAD> <PAD> <PAD> <PAD> <PAD> <PAD> <PAD> <PAD> <PAD> <PAD> <PAD> <PAD> <PAD> <PAD> <PAD> <PAD> <PAD> <PAD> <PAD> <PAD> <PAD> <PAD> <PAD> <PAD> <PAD> <PAD> <PAD> <PAD> <PAD> <PAD> <PAD> <PAD> <PAD> <PAD> <PAD> <PAD> <PAD> <PAD> <PAD> <PAD> <PAD> <PAD> <PAD> <PAD> <PAD> <PAD> <PAD> <PAD> <PAD> <PAD> <PAD> <PAD> <PAD> <PAD> <PAD> <PAD> <PAD> <PAD> <PAD> <PAD> <PAD> <PAD> <PAD> <PAD> <PAD> <PAD> <PAD> <PAD> <PAD> <PAD> <PAD> <PAD> <PAD> <PAD> <PAD> <PAD> <PAD> <PAD> <PAD> <PAD> <PAD> <PAD> <PAD> <PAD> <PAD> <PAD> <PAD> <PAD> <PAD> <PAD> <PAD> <PAD> <PAD> <PAD> <PAD> <PAD> <PAD> <PAD> <PAD> <PAD> <PAD> <PAD> <PAD> <PAD> <PAD> <PAD> <PAD> <PAD> <PAD> <PAD> <PAD> <PAD> <PAD> <PAD> <PAD> <PAD> <PAD> <PAD> <PAD> <PAD> <PAD> <PAD> <PAD> <PAD> <PAD> <PAD> <PAD> <PAD> <PAD> <PAD> <PAD> <PAD> <PAD> <PAD> <PAD> <PAD> <PAD> <PAD> <PAD> <PAD> <PAD> <PAD> <PAD> <PAD> <PAD> <PAD> <PAD> <PAD> <PAD> <PAD> <PAD> <PAD> <PAD> <PAD> <PAD> <PAD> <PAD> <PAD> <PAD> <PAD> <PAD> <PAD> <PAD> <PAD> <PAD> <PAD> <PAD> <PAD> <PAD> <PAD> <PAD> <PAD> <PAD> <PAD> <PAD> <PAD> <PAD> <PAD> <PAD> <PAD> <PAD> <PAD> <PAD> <PAD> <PAD> <PAD> <PAD> <PAD> <PAD> <PAD> <PAD> <PAD> <PAD> <PAD> <PAD> <PAD> <PAD> <PAD> <PAD> <PAD> <PAD> <PAD> <PAD> <PAD> <PAD> <PAD> <PAD> <PAD> <PAD> <PAD> <PAD> <PAD> <PAD> <PAD> <PAD> <PAD> <PAD> <PAD> <PAD> <PAD> <PAD> <PAD> <PAD> <PAD> <PAD> <PAD> <PAD> <PAD> <PAD> <PAD> <PAD> <PAD> <PAD> <PAD> <PAD> <PAD> <PAD> <PAD> <PAD> <PAD> <PAD> <PAD> <PAD> <PAD> <PAD> <PAD> <PAD> <PAD> <PAD> <PAD> <PAD> <PAD> <PAD> <PAD> <PAD> <PAD> <PAD> <PAD> <PAD> <PAD> <PAD> <PAD> <PAD> <PAD> <PAD> <PAD> <PAD> <PAD> <PAD> <PAD> <PAD> <PAD> <PAD> <PAD> <PAD> <PAD> <PAD> <PAD> <PAD> <PAD> <PAD> <PAD> <PAD> <PAD> <PAD> <PAD> <PAD> <PAD> <PAD> <PAD> <PAD> <PAD> <PAD> <PAD> <PAD> <PAD> <PAD> <PAD> <PAD> <PAD> <PAD> <PAD> <PAD> <PAD> <PAD> <PAD> <PAD> <PAD> <PAD> <PAD> <PAD> <PAD> <PAD> <PAD> <PAD> <PAD> <PAD> <PAD> <PAD> <PAD> <PAD> <PAD> <PAD> <PAD> <PAD> <PAD> <PAD> <PAD> <PAD> <PAD> <PAD> <PAD> <PAD> <PAD> <PAD> <PAD> <PAD> <PAD> <PAD> <PAD> <PAD> <PAD> <PAD> <PAD> <PAD> <PAD> <PAD> <PAD> <PAD> <PAD> <PAD> <PAD> <PAD> <PAD> <PAD> <PAD> <PAD> <PAD> <PAD> <PAD> <PAD> <PAD> <PAD> <PAD> <PAD> <PAD> <PAD> <PAD> <PAD> <PAD> <PAD> <PAD> <PAD> <PAD> <PAD> <PAD> <PAD> <PAD> <PAD> <PAD> <PAD> <PAD> <PAD> <PAD> <PAD> <PAD> <PAD>\n",
      "y0_file[0]:  [0 0 0 0 0 0 0 0 0 1 0 0 0 0 0 0 1 0 0 0 0 0 0 0 0 0 0 0 0 0 0 0 0 0 0 0]\n",
      "y1.shape:  (360, 12126, 160)\n"
     ]
    }
   ],
   "source": [
    "from Model_score_rater import ModelScoreRater as msr\n",
    "from Model_score_rater import Ploter as ploter\n",
    "from Model_score_rater import Training_data_debugger as debugger\n",
    "\n",
    "debugger.debugXfile(filepath, x_filename, token)\n",
    "debugger.debugYfile(y0_file, y1_file, sample = 0)"
   ]
  },
  {
   "cell_type": "code",
   "execution_count": null,
   "metadata": {},
   "outputs": [],
   "source": [
    "#set model para\n",
    "#model_name = \"checkpoint_model.h5\"\n",
    "model_name = \"test_model1.h5\"\n",
    "model_path = \"Trained_models\\Default\\Split-500-reduce-binary-accuracy\\Max-len-300\\Learning-rate-3x0\\weight-1vs1\"\n",
    "training_model_path = \"Model-for-training\\Default\\Split-500-reduce-binary-accuracy\\Max-len-300\"\n",
    "x_test_model = \"x_test_0.npy\"\n",
    "x_train_model = \"x_train_0.npy\"\n",
    "x_validation_model = \"x_validation_0.npy\"\n",
    "y_train_model0 = \"y_train[0]_0.npy\"\n",
    "y_train_model1 = \"y_train[1]_0.npy\"\n",
    "y_test_model0 = \"y_test[0]_0.npy\" \n",
    "y_test_model1 = \"y_test[1]_0.npy\"\n",
    "y_validation_model0 = \"y_validation[0]_0.npy\"\n",
    "y_validation_model1 = \"y_validation[1]_0.npy\"\n",
    "history_file = \"model_history\"\n",
    "max_len_name = \"source_max_len\""
   ]
  },
  {
   "cell_type": "code",
   "execution_count": null,
   "metadata": {},
   "outputs": [],
   "source": [
    "msr.showAllScore(model_path, \n",
    "                 model_name, \n",
    "                 training_model_path, \n",
    "                 x_train_model, \n",
    "                 y_train_model0, \n",
    "                 y_train_model1,\n",
    "                 #x_test_model, \n",
    "                 #y_test_model0, \n",
    "                 #y_test_model1,\n",
    "                 #x_validation_model,\n",
    "                 #y_validation_model0,\n",
    "                 #y_validation_model1,\n",
    "                 max_len_name)"
   ]
  },
  {
   "cell_type": "code",
   "execution_count": null,
   "metadata": {},
   "outputs": [],
   "source": [
    "#show all history graphic \n",
    "ploter.showAllGraphic(model_path, history_file)"
   ]
  },
  {
   "cell_type": "code",
   "execution_count": null,
   "metadata": {
    "scrolled": false
   },
   "outputs": [],
   "source": [
    "filename = \"x_train_0.npy\"\n",
    "filepath = \"Model-for-training\\Default\\Split-500-reduce-binary-accuracy\\Max-len-1000\"\n",
    "token = \"source_token_dict.pickle\"\n",
    "debugger.debugXTrain(filepath, filename, token)\n"
   ]
  },
  {
   "cell_type": "code",
   "execution_count": null,
   "metadata": {},
   "outputs": [],
   "source": [
    "#=================test area================="
   ]
  },
  {
   "cell_type": "code",
   "execution_count": null,
   "metadata": {},
   "outputs": [],
   "source": [
    "import  numpy as np\n",
    "data = np.asarray([[1,1,1,1,1], [1,0,0,0,0], [1,0,0,0,0]])\n",
    "data2 = np.sum(data, axis=0)\n",
    "data2"
   ]
  },
  {
   "cell_type": "code",
   "execution_count": null,
   "metadata": {},
   "outputs": [],
   "source": [
    "a = np.asarray([12.45, 51.55, 21.35, 11.75, 12.45])\n",
    "b = np.round(a, 1)\n",
    "b"
   ]
  }
 ],
 "metadata": {
  "kernelspec": {
   "display_name": "Python 3",
   "language": "python",
   "name": "python3"
  },
  "language_info": {
   "codemirror_mode": {
    "name": "ipython",
    "version": 3
   },
   "file_extension": ".py",
   "mimetype": "text/x-python",
   "name": "python",
   "nbconvert_exporter": "python",
   "pygments_lexer": "ipython3",
   "version": "3.8.3"
  }
 },
 "nbformat": 4,
 "nbformat_minor": 4
}
