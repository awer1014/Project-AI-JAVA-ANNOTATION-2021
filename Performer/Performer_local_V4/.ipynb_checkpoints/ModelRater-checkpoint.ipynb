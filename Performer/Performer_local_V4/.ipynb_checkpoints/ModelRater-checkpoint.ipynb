{
 "cells": [
  {
   "cell_type": "code",
   "execution_count": 10,
   "metadata": {},
   "outputs": [],
   "source": [
    "def loadTestTrainData(filename): # e.g., 'test.npy'\n",
    "    import numpy as np\n",
    "    with open(filename, \"rb\") as f:\n",
    "        data = np.load(f, allow_pickle = True)\n",
    "        return data"
   ]
  },
  {
   "cell_type": "code",
   "execution_count": 11,
   "metadata": {},
   "outputs": [],
   "source": [
    "def loadDictionary(file):\n",
    "    import pickle\n",
    "    a_file = open(file, \"rb\")\n",
    "    dt = pickle.load(a_file) #, allow_pickle=True)\n",
    "    return dt"
   ]
  },
  {
   "cell_type": "code",
   "execution_count": 17,
   "metadata": {},
   "outputs": [],
   "source": [
    "x_filename = \"x0.npy\"\n",
    "y_filename = \"y0.npy\"\n",
    "x_splited_filename = \"x_train_0.npy\"\n",
    "y0_filename = \"y_train[0]_0.npy\"\n",
    "y1_filename = \"y_train[1]_0.npy\"\n",
    "filepath = \"Model-for-training\\Default\\Split-500-reduce-binary-accuracy\\Max-len-1000\"\n",
    "token_name = \"source_token_dict.pickle\"\n",
    "x_file  = loadTestTrainData(filepath + \"/\" + x_filename)\n",
    "y_file  = loadTestTrainData(filepath + \"/\" + y_filename)\n",
    "token   = loadDictionary(filepath + \"/\" + token_name)\n",
    "x_splited_file = loadTestTrainData(filepath + \"/\" + x_splited_filename)\n",
    "y0_file = loadTestTrainData(filepath + \"/\" + y0_filename)\n",
    "y1_file = loadTestTrainData(filepath + \"/\" + y1_filename)"
   ]
  },
  {
   "cell_type": "code",
   "execution_count": 18,
   "metadata": {},
   "outputs": [
    {
     "ename": "SyntaxError",
     "evalue": "non-default argument follows default argument (Training_data_debugger.py, line 34)",
     "output_type": "error",
     "traceback": [
      "Traceback \u001b[1;36m(most recent call last)\u001b[0m:\n",
      "  File \u001b[0;32m\"C:\\Users\\W.R_Chen\\anaconda3\\lib\\site-packages\\IPython\\core\\interactiveshell.py\"\u001b[0m, line \u001b[0;32m3343\u001b[0m, in \u001b[0;35mrun_code\u001b[0m\n    exec(code_obj, self.user_global_ns, self.user_ns)\n",
      "\u001b[1;36m  File \u001b[1;32m\"<ipython-input-18-4bc972ed0ad1>\"\u001b[1;36m, line \u001b[1;32m3\u001b[1;36m, in \u001b[1;35m<module>\u001b[1;36m\u001b[0m\n\u001b[1;33m    from Model_score_rater import Training_data_debugger as debugger\u001b[0m\n",
      "\u001b[1;36m  File \u001b[1;32m\"D:\\Code\\Project-AI-JAVA-ANNOTATION-2021\\Performer\\Performer_local_V4\\Model_score_rater\\Training_data_debugger.py\"\u001b[1;36m, line \u001b[1;32m34\u001b[0m\n\u001b[1;33m    def showYfile(yfile, sample, endPlace = 10, debugMode):\u001b[0m\n\u001b[1;37m                  ^\u001b[0m\n\u001b[1;31mSyntaxError\u001b[0m\u001b[1;31m:\u001b[0m non-default argument follows default argument\n"
     ]
    }
   ],
   "source": [
    "from Model_score_rater import ModelScoreRater as msr\n",
    "from Model_score_rater import Ploter as ploter\n",
    "from Model_score_rater import Training_data_debugger as debugger\n",
    "debugger.debugXfile(x_file, token)\n",
    "debugger.debugYfile(y_file, samples = 0, endPlace = 10)"
   ]
  },
  {
   "cell_type": "code",
   "execution_count": null,
   "metadata": {},
   "outputs": [],
   "source": [
    "for i in range(2, 30, 2):\n",
    "    print(i)"
   ]
  },
  {
   "cell_type": "code",
   "execution_count": null,
   "metadata": {},
   "outputs": [],
   "source": [
    "#set model para\n",
    "#model_name = \"checkpoint_model.h5\"\n",
    "model_name = \"test_model1.h5\"\n",
    "model_path = \"Trained_models\\Default\\Split-500-reduce-binary-accuracy\\Max-len-300\\Learning-rate-3x0\\weight-1vs1\"\n",
    "training_model_path = \"Model-for-training\\Default\\Split-500-reduce-binary-accuracy\\Max-len-300\"\n",
    "x_test_model = \"x_test_0.npy\"\n",
    "x_train_model = \"x_train_0.npy\"\n",
    "x_validation_model = \"x_validation_0.npy\"\n",
    "y_train_model0 = \"y_train[0]_0.npy\"\n",
    "y_train_model1 = \"y_train[1]_0.npy\"\n",
    "y_test_model0 = \"y_test[0]_0.npy\" \n",
    "y_test_model1 = \"y_test[1]_0.npy\"\n",
    "y_validation_model0 = \"y_validation[0]_0.npy\"\n",
    "y_validation_model1 = \"y_validation[1]_0.npy\"\n",
    "history_file = \"model_history\"\n",
    "max_len_name = \"source_max_len\""
   ]
  },
  {
   "cell_type": "code",
   "execution_count": null,
   "metadata": {},
   "outputs": [],
   "source": [
    "msr.showAllScore(model_path, \n",
    "                 model_name, \n",
    "                 training_model_path, \n",
    "                 x_train_model, \n",
    "                 y_train_model0, \n",
    "                 y_train_model1,\n",
    "                 #x_test_model, \n",
    "                 #y_test_model0, \n",
    "                 #y_test_model1,\n",
    "                 #x_validation_model,\n",
    "                 #y_validation_model0,\n",
    "                 #y_validation_model1,\n",
    "                 max_len_name)"
   ]
  },
  {
   "cell_type": "code",
   "execution_count": null,
   "metadata": {},
   "outputs": [],
   "source": [
    "#show all history graphic \n",
    "ploter.showAllGraphic(model_path, history_file)"
   ]
  },
  {
   "cell_type": "code",
   "execution_count": null,
   "metadata": {
    "scrolled": false
   },
   "outputs": [],
   "source": [
    "filename = \"x_train_0.npy\"\n",
    "filepath = \"Model-for-training\\Default\\Split-500-reduce-binary-accuracy\\Max-len-1000\"\n",
    "token = \"source_token_dict.pickle\"\n",
    "debugger.debugXTrain(filepath, filename, token)\n"
   ]
  },
  {
   "cell_type": "code",
   "execution_count": null,
   "metadata": {},
   "outputs": [],
   "source": [
    "#=================test area================="
   ]
  },
  {
   "cell_type": "code",
   "execution_count": null,
   "metadata": {},
   "outputs": [],
   "source": [
    "import  numpy as np\n",
    "data = np.asarray([[1,1,1,1,1], [1,0,0,0,0], [1,0,0,0,0]])\n",
    "data2 = np.sum(data, axis=0)\n",
    "data2"
   ]
  },
  {
   "cell_type": "code",
   "execution_count": null,
   "metadata": {},
   "outputs": [],
   "source": [
    "a = np.asarray([12.45, 51.55, 21.35, 11.75, 12.45])\n",
    "b = np.round(a, 1)\n",
    "b"
   ]
  }
 ],
 "metadata": {
  "kernelspec": {
   "display_name": "Python 3",
   "language": "python",
   "name": "python3"
  },
  "language_info": {
   "codemirror_mode": {
    "name": "ipython",
    "version": 3
   },
   "file_extension": ".py",
   "mimetype": "text/x-python",
   "name": "python",
   "nbconvert_exporter": "python",
   "pygments_lexer": "ipython3",
   "version": "3.8.3"
  }
 },
 "nbformat": 4,
 "nbformat_minor": 4
}
