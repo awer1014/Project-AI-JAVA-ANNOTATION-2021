{
 "cells": [
  {
   "cell_type": "code",
   "execution_count": 1,
   "metadata": {},
   "outputs": [],
   "source": [
    "import ModelScoreRater as msr\n",
    "import Ploter as ploter\n",
    "import Training_data_debugger as debugger"
   ]
  },
  {
   "cell_type": "code",
   "execution_count": 2,
   "metadata": {},
   "outputs": [],
   "source": [
    "#set model para\n",
    "#model_name = \"checkpoint_model.h5\"\n",
    "model_name = \"test_model1.h5\"\n",
    "model_path = \"Trained_models\\ErrorType-Test\\Split-500-reduce-binary-accuracy\\Max-len-1000\\Learning-rate-3x0\\weight-1vs1-V2\"\n",
    "training_model_path = \"Model-for-training\\ErrorType-Test\\Split-500-reduce-binary-accuracy\\Max-len-1000\"\n",
    "x_test_model = \"x_test_0.npy\"\n",
    "x_train_model = \"x_train_0.npy\"\n",
    "y_train_model0 = \"y_train[0]_0.npy\"\n",
    "y_test_model0 = \"y_test[0]_0.npy\" \n",
    "history_file = \"model_history\"\n",
    "max_len_name = \"source_max_len\""
   ]
  },
  {
   "cell_type": "code",
   "execution_count": 3,
   "metadata": {},
   "outputs": [
    {
     "name": "stdout",
     "output_type": "stream",
     "text": [
      "INFO:tensorflow:Enabling eager execution\n",
      "INFO:tensorflow:Enabling v2 tensorshape\n",
      "INFO:tensorflow:Enabling resource variables\n",
      "INFO:tensorflow:Enabling tensor equality\n",
      "INFO:tensorflow:Enabling control flow v2\n",
      "x_test_loaded shape:  (12126, 1000)\n",
      "x_test_loaded type:  <class 'numpy.ndarray'>\n",
      "x_test_loaded[0] type:  <class 'numpy.ndarray'>\n",
      "y_test_loaded_0 shape:  (12126, 36)\n",
      "=========type adjust 1=========\n",
      "org out type:  <class 'numpy.ndarray'>\n",
      "org out shape:  (12126, 36)\n",
      "adjusted out shape:  (12126, 36)\n",
      "=========type adjust 2=========\n",
      "org y_test_loaded_0:  <class 'numpy.ndarray'>\n",
      "adjusted y_test_loaded_0:  <class 'numpy.ndarray'>\n",
      "========adjust complete========\n",
      "\n",
      "==========ErrorType Score==========\n",
      "avg_pre:  0.7556969282847565\n",
      "avg_rec:  0.4698938919126939\n",
      "avg_acc:  0.9640098411128535\n",
      "=========ErrorType F Score=========\n",
      "F_one:  0.5794713290704703\n",
      "F_two:  0.537676626240009\n",
      "F_pointfive:  0.6283112461030387\n",
      "===================================\n",
      "\n",
      "===========SKLearn Score===========\n",
      "\n"
     ]
    },
    {
     "name": "stderr",
     "output_type": "stream",
     "text": [
      "C:\\Users\\W.R_Chen\\anaconda3\\lib\\site-packages\\sklearn\\metrics\\_classification.py:1221: UndefinedMetricWarning: Precision is ill-defined and being set to 0.0 due to no predicted samples. Use `zero_division` parameter to control this behavior.\n",
      "  _warn_prf(average, modifier, msg_start, len(result))\n"
     ]
    },
    {
     "name": "stdout",
     "output_type": "stream",
     "text": [
      "sklearn precision:  0.4904816883045478\n",
      "sklearn recall:  0.4698938919126939\n",
      "sklearn f_one score:  0.4701063080083406\n",
      "===================================\n",
      "\n"
     ]
    }
   ],
   "source": [
    "msr.modelDebuggerErrorType(model_path, \n",
    "                           model_name, \n",
    "                           training_model_path, \n",
    "                           x_train_model, \n",
    "                           y_train_model0, \n",
    "                           #x_test_model, \n",
    "                           #y_test_model0, \n",
    "                           max_len_name)"
   ]
  },
  {
   "cell_type": "code",
   "execution_count": 4,
   "metadata": {},
   "outputs": [
    {
     "data": {
      "image/png": "[encoded data removed]",
      "text/plain": [
       "<Figure size 432x288 with 1 Axes>"
      ]
     },
     "metadata": {
      "needs_background": "light"
     },
     "output_type": "display_data"
    },
    {
     "ename": "KeyError",
     "evalue": "'error_feed_forward_output1_loss'",
     "output_type": "error",
     "traceback": [
      "\u001b[1;31m---------------------------------------------------------------------------\u001b[0m",
      "\u001b[1;31mKeyError\u001b[0m                                  Traceback (most recent call last)",
      "\u001b[1;32m<ipython-input-4-01a6f73b8226>\u001b[0m in \u001b[0;36m<module>\u001b[1;34m\u001b[0m\n\u001b[0;32m      1\u001b[0m \u001b[1;31m#show all history graphic\u001b[0m\u001b[1;33m\u001b[0m\u001b[1;33m\u001b[0m\u001b[1;33m\u001b[0m\u001b[0m\n\u001b[1;32m----> 2\u001b[1;33m \u001b[0mploter\u001b[0m\u001b[1;33m.\u001b[0m\u001b[0mshowAllGraphic\u001b[0m\u001b[1;33m(\u001b[0m\u001b[0mmodel_path\u001b[0m\u001b[1;33m,\u001b[0m \u001b[0mhistory_file\u001b[0m\u001b[1;33m)\u001b[0m\u001b[1;33m\u001b[0m\u001b[1;33m\u001b[0m\u001b[0m\n\u001b[0m",
      "\u001b[1;32mD:\\Code\\Project-AI-JAVA-ANNOTATION-2021\\Performer\\Performer_local_V4\\Ploter.py\u001b[0m in \u001b[0;36mshowAllGraphic\u001b[1;34m(file_path, file)\u001b[0m\n\u001b[0;32m    133\u001b[0m     \u001b[0mhistory\u001b[0m \u001b[1;33m=\u001b[0m \u001b[0mloadDictionary\u001b[0m\u001b[1;33m(\u001b[0m\u001b[0mfile_path\u001b[0m \u001b[1;33m+\u001b[0m \u001b[1;34m\"/\"\u001b[0m \u001b[1;33m+\u001b[0m \u001b[0mfile\u001b[0m\u001b[1;33m)\u001b[0m\u001b[1;33m\u001b[0m\u001b[1;33m\u001b[0m\u001b[0m\n\u001b[0;32m    134\u001b[0m     \u001b[0mplotTrainingLoss\u001b[0m\u001b[1;33m(\u001b[0m\u001b[0mfile_path\u001b[0m\u001b[1;33m,\u001b[0m \u001b[0mhistory\u001b[0m\u001b[1;33m)\u001b[0m\u001b[1;33m\u001b[0m\u001b[1;33m\u001b[0m\u001b[0m\n\u001b[1;32m--> 135\u001b[1;33m     \u001b[0mplotTrainingErrorTypeLoss\u001b[0m\u001b[1;33m(\u001b[0m\u001b[0mfile_path\u001b[0m\u001b[1;33m,\u001b[0m \u001b[0mhistory\u001b[0m\u001b[1;33m)\u001b[0m\u001b[1;33m\u001b[0m\u001b[1;33m\u001b[0m\u001b[0m\n\u001b[0m\u001b[0;32m    136\u001b[0m     \u001b[0mplotTrainingErrorTypeAcc\u001b[0m\u001b[1;33m(\u001b[0m\u001b[0mfile_path\u001b[0m\u001b[1;33m,\u001b[0m \u001b[0mhistory\u001b[0m\u001b[1;33m)\u001b[0m\u001b[1;33m\u001b[0m\u001b[1;33m\u001b[0m\u001b[0m\n\u001b[0;32m    137\u001b[0m     \u001b[0mplotTrainingErrorLineLoss\u001b[0m\u001b[1;33m(\u001b[0m\u001b[0mfile_path\u001b[0m\u001b[1;33m,\u001b[0m \u001b[0mhistory\u001b[0m\u001b[1;33m)\u001b[0m\u001b[1;33m\u001b[0m\u001b[1;33m\u001b[0m\u001b[0m\n",
      "\u001b[1;32mD:\\Code\\Project-AI-JAVA-ANNOTATION-2021\\Performer\\Performer_local_V4\\Ploter.py\u001b[0m in \u001b[0;36mplotTrainingErrorTypeLoss\u001b[1;34m(file_path, history)\u001b[0m\n\u001b[0;32m     33\u001b[0m \u001b[1;31m#draw output1 binary loss\u001b[0m\u001b[1;33m\u001b[0m\u001b[1;33m\u001b[0m\u001b[1;33m\u001b[0m\u001b[0m\n\u001b[0;32m     34\u001b[0m \u001b[1;32mdef\u001b[0m \u001b[0mplotTrainingErrorTypeLoss\u001b[0m\u001b[1;33m(\u001b[0m\u001b[0mfile_path\u001b[0m\u001b[1;33m,\u001b[0m \u001b[0mhistory\u001b[0m\u001b[1;33m)\u001b[0m\u001b[1;33m:\u001b[0m\u001b[1;33m\u001b[0m\u001b[1;33m\u001b[0m\u001b[0m\n\u001b[1;32m---> 35\u001b[1;33m     \u001b[0mplt\u001b[0m\u001b[1;33m.\u001b[0m\u001b[0mplot\u001b[0m\u001b[1;33m(\u001b[0m\u001b[0mhistory\u001b[0m\u001b[1;33m[\u001b[0m\u001b[1;34m\"error_feed_forward_output1_loss\"\u001b[0m\u001b[1;33m]\u001b[0m\u001b[1;33m,\u001b[0m \u001b[0mlabel\u001b[0m \u001b[1;33m=\u001b[0m \u001b[1;34m\"error_type_loss\"\u001b[0m\u001b[1;33m)\u001b[0m\u001b[1;33m\u001b[0m\u001b[1;33m\u001b[0m\u001b[0m\n\u001b[0m\u001b[0;32m     36\u001b[0m     \u001b[0mplt\u001b[0m\u001b[1;33m.\u001b[0m\u001b[0mplot\u001b[0m\u001b[1;33m(\u001b[0m\u001b[0mhistory\u001b[0m\u001b[1;33m[\u001b[0m\u001b[1;34m\"val_error_feed_forward_output1_loss\"\u001b[0m\u001b[1;33m]\u001b[0m\u001b[1;33m,\u001b[0m \u001b[0mlabel\u001b[0m \u001b[1;33m=\u001b[0m \u001b[1;34m\"val_error_type_loss\"\u001b[0m\u001b[1;33m)\u001b[0m\u001b[1;33m\u001b[0m\u001b[1;33m\u001b[0m\u001b[0m\n\u001b[0;32m     37\u001b[0m     \u001b[0mplt\u001b[0m\u001b[1;33m.\u001b[0m\u001b[0mtitle\u001b[0m\u001b[1;33m(\u001b[0m\u001b[1;34m\"model_error_feed_forward_output1_loss\"\u001b[0m\u001b[1;33m)\u001b[0m\u001b[1;33m\u001b[0m\u001b[1;33m\u001b[0m\u001b[0m\n",
      "\u001b[1;31mKeyError\u001b[0m: 'error_feed_forward_output1_loss'"
     ]
    }
   ],
   "source": [
    "#show all history graphic \n",
    "ploter.showAllGraphic(model_path, history_file)"
   ]
  },
  {
   "cell_type": "code",
   "execution_count": null,
   "metadata": {},
   "outputs": [],
   "source": [
    "debugger.debugAll(training_model_path, y_train_model0)"
   ]
  },
  {
   "cell_type": "code",
   "execution_count": null,
   "metadata": {},
   "outputs": [],
   "source": []
  }
 ],
 "metadata": {
  "kernelspec": {
   "display_name": "Python 3",
   "language": "python",
   "name": "python3"
  },
  "language_info": {
   "codemirror_mode": {
    "name": "ipython",
    "version": 3
   },
   "file_extension": ".py",
   "mimetype": "text/x-python",
   "name": "python",
   "nbconvert_exporter": "python",
   "pygments_lexer": "ipython3",
   "version": "3.8.3"
  }
 },
 "nbformat": 4,
 "nbformat_minor": 4
}
