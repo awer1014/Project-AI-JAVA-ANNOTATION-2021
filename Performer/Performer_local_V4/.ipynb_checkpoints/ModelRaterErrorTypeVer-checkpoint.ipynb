{
 "cells": [
  {
   "cell_type": "code",
   "execution_count": 1,
   "metadata": {},
   "outputs": [
    {
     "ename": "ModuleNotFoundError",
     "evalue": "No module named 'ModelScoreRater'",
     "output_type": "error",
     "traceback": [
      "\u001b[1;31m---------------------------------------------------------------------------\u001b[0m",
      "\u001b[1;31mModuleNotFoundError\u001b[0m                       Traceback (most recent call last)",
      "\u001b[1;32m<ipython-input-1-f9b9147b00ef>\u001b[0m in \u001b[0;36m<module>\u001b[1;34m\u001b[0m\n\u001b[1;32m----> 1\u001b[1;33m \u001b[1;32mimport\u001b[0m \u001b[0mModelScoreRater\u001b[0m \u001b[1;32mas\u001b[0m \u001b[0mmsr\u001b[0m\u001b[1;33m\u001b[0m\u001b[1;33m\u001b[0m\u001b[0m\n\u001b[0m\u001b[0;32m      2\u001b[0m \u001b[1;32mimport\u001b[0m \u001b[0mPloter\u001b[0m \u001b[1;32mas\u001b[0m \u001b[0mploter\u001b[0m\u001b[1;33m\u001b[0m\u001b[1;33m\u001b[0m\u001b[0m\n\u001b[0;32m      3\u001b[0m \u001b[1;32mimport\u001b[0m \u001b[0mTraining_data_debugger\u001b[0m \u001b[1;32mas\u001b[0m \u001b[0mdebugger\u001b[0m\u001b[1;33m\u001b[0m\u001b[1;33m\u001b[0m\u001b[0m\n",
      "\u001b[1;31mModuleNotFoundError\u001b[0m: No module named 'ModelScoreRater'"
     ]
    }
   ],
   "source": [
    "from Model_score_rater import ModelScoreRater as msr\n",
    "from Model_score_rater import Ploter as ploter\n",
    "from Model_score_rater import Training_data_debugger as debugger"
   ]
  },
  {
   "cell_type": "code",
   "execution_count": null,
   "metadata": {},
   "outputs": [],
   "source": [
    "#set model para\n",
    "#model_name = \"checkpoint_model.h5\"\n",
    "model_name = \"test_model1.h5\"\n",
    "model_path = \"Trained_models\\ErrorType-Test\\Split-500-reduce-binary-accuracy\\Max-len-1000\\Learning-rate-3x0\\weight-1vs1-V2\"\n",
    "training_model_path = \"Model-for-training\\ErrorType-Test\\Split-500-reduce-binary-accuracy\\Max-len-1000\"\n",
    "x_test_model = \"x_test_0.npy\"\n",
    "x_train_model = \"x_train_0.npy\"\n",
    "y_train_model0 = \"y_train[0]_0.npy\"\n",
    "y_test_model0 = \"y_test[0]_0.npy\" \n",
    "history_file = \"model_history\"\n",
    "max_len_name = \"source_max_len\""
   ]
  },
  {
   "cell_type": "code",
   "execution_count": null,
   "metadata": {
    "scrolled": false
   },
   "outputs": [],
   "source": [
    "msr.modelDebuggerErrorType(model_path, \n",
    "                           model_name, \n",
    "                           training_model_path, \n",
    "                           x_train_model, \n",
    "                           y_train_model0, \n",
    "                           #x_test_model, \n",
    "                           #y_test_model0, \n",
    "                           max_len_name)"
   ]
  },
  {
   "cell_type": "code",
   "execution_count": null,
   "metadata": {},
   "outputs": [],
   "source": [
    "#show all history graphic \n",
    "ploter.showAllGraphicErrorTypeVer(model_path, history_file, debugMode = True)"
   ]
  },
  {
   "cell_type": "code",
   "execution_count": null,
   "metadata": {},
   "outputs": [],
   "source": [
    "debugger.debugAll(training_model_path, y_train_model0)"
   ]
  },
  {
   "cell_type": "code",
   "execution_count": null,
   "metadata": {},
   "outputs": [],
   "source": []
  }
 ],
 "metadata": {
  "kernelspec": {
   "display_name": "Python 3",
   "language": "python",
   "name": "python3"
  },
  "language_info": {
   "codemirror_mode": {
    "name": "ipython",
    "version": 3
   },
   "file_extension": ".py",
   "mimetype": "text/x-python",
   "name": "python",
   "nbconvert_exporter": "python",
   "pygments_lexer": "ipython3",
   "version": "3.8.3"
  }
 },
 "nbformat": 4,
 "nbformat_minor": 4
}
