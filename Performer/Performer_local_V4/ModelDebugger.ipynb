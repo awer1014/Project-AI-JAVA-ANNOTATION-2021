{
 "cells": [
  {
   "cell_type": "code",
   "execution_count": null,
   "metadata": {},
   "outputs": [],
   "source": [
    "from Model_score_rater import Training_data_debugger as debugger"
   ]
  },
  {
   "cell_type": "code",
   "execution_count": null,
   "metadata": {},
   "outputs": [],
   "source": [
    "def loadTestTrainData(filename): # e.g., 'test.npy'\n",
    "    import numpy as np\n",
    "    with open(filename, \"rb\") as f:\n",
    "        data = np.load(f, allow_pickle = True)\n",
    "        return data"
   ]
  },
  {
   "cell_type": "code",
   "execution_count": null,
   "metadata": {},
   "outputs": [],
   "source": [
    "def loadDictionary(file):\n",
    "    import pickle\n",
    "    a_file = open(file, \"rb\")\n",
    "    dt = pickle.load(a_file) #, allow_pickle=True)\n",
    "    return dt"
   ]
  },
  {
   "cell_type": "code",
   "execution_count": null,
   "metadata": {},
   "outputs": [],
   "source": [
    "x_filename = \"x0.npy\"\n",
    "y_filename = \"y0.npy\"\n",
    "x_splited_filename = \"x_train_0.npy\"\n",
    "y0_filename = \"y_train[0]_0.npy\"\n",
    "y1_filename = \"y_train[1]_0.npy\"\n",
    "filepath = \"Model-for-training\\Default\\Split-500-reduce-binary-accuracy\\Max-len-1000\"\n",
    "token_name = \"source_token_dict.pickle\"\n",
    "x_file  = loadTestTrainData(filepath + \"/\" + x_filename)\n",
    "y_file  = loadTestTrainData(filepath + \"/\" + y_filename)\n",
    "token   = loadDictionary(filepath + \"/\" + token_name)\n",
    "x_splited_file = loadTestTrainData(filepath + \"/\" + x_splited_filename)\n",
    "y0_file = loadTestTrainData(filepath + \"/\" + y0_filename)\n",
    "y1_file = loadTestTrainData(filepath + \"/\" + y1_filename)"
   ]
  },
  {
   "cell_type": "code",
   "execution_count": null,
   "metadata": {},
   "outputs": [],
   "source": [
    "debugger.debugXfile(x_file, token)"
   ]
  },
  {
   "cell_type": "code",
   "execution_count": null,
   "metadata": {},
   "outputs": [],
   "source": [
    "debugger.debugYfile(y_file, samples = 0, endPlace = 10)"
   ]
  },
  {
   "cell_type": "code",
   "execution_count": null,
   "metadata": {},
   "outputs": [],
   "source": [
    "debugger.debugY_zero_Y_onefile(y0_file, y1_file, samples = 10, lines = 10)"
   ]
  },
  {
   "cell_type": "code",
   "execution_count": null,
   "metadata": {},
   "outputs": [],
   "source": []
  }
 ],
 "metadata": {
  "kernelspec": {
   "display_name": "Python 3",
   "language": "python",
   "name": "python3"
  },
  "language_info": {
   "codemirror_mode": {
    "name": "ipython",
    "version": 3
   },
   "file_extension": ".py",
   "mimetype": "text/x-python",
   "name": "python",
   "nbconvert_exporter": "python",
   "pygments_lexer": "ipython3",
   "version": "3.8.3"
  }
 },
 "nbformat": 4,
 "nbformat_minor": 4
}
