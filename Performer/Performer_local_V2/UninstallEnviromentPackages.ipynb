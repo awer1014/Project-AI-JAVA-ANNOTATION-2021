{
 "cells": [
  {
   "cell_type": "code",
   "execution_count": 1,
   "id": "1bf89e45",
   "metadata": {},
   "outputs": [],
   "source": [
    "#Uninstall enviroment packages\n",
    "#please follow the following instruction"
   ]
  },
  {
   "cell_type": "code",
   "execution_count": null,
   "id": "8f134771",
   "metadata": {
    "scrolled": true
   },
   "outputs": [],
   "source": [
    "#uninstall wrong version packages\n",
    "#Caution it might be dangerouse\n",
    "!pip uninstall tensorflow"
   ]
  },
  {
   "cell_type": "code",
   "execution_count": null,
   "id": "518b1f72",
   "metadata": {
    "scrolled": true
   },
   "outputs": [],
   "source": [
    "!pip uninstall tensorflow-gpu "
   ]
  },
  {
   "cell_type": "code",
   "execution_count": null,
   "id": "4b9acdb4",
   "metadata": {},
   "outputs": [],
   "source": [
    "!pip uninstall keras"
   ]
  },
  {
   "cell_type": "code",
   "execution_count": null,
   "id": "1e9f5f83",
   "metadata": {},
   "outputs": [],
   "source": [
    "!pip uninstall -y keras-pos-embd \n",
    "!pip uninstall -y keras-multi-head\n",
    "!pip uninstall -y keras-embed-sim "
   ]
  }
 ],
 "metadata": {
  "kernelspec": {
   "display_name": "Python 3",
   "language": "python",
   "name": "python3"
  },
  "language_info": {
   "codemirror_mode": {
    "name": "ipython",
    "version": 3
   },
   "file_extension": ".py",
   "mimetype": "text/x-python",
   "name": "python",
   "nbconvert_exporter": "python",
   "pygments_lexer": "ipython3",
   "version": "3.8.8"
  }
 },
 "nbformat": 4,
 "nbformat_minor": 5
}
