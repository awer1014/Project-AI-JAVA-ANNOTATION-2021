{
 "cells": [
  {
   "cell_type": "code",
   "execution_count": null,
   "id": "85469442",
   "metadata": {},
   "outputs": [],
   "source": [
    "#TF and Keras Version Control\n",
    "'''\n",
    "1.Install Anaconda3 ver 2020.7\n",
    "2.Install Visual Studio 2019 for c++ complier\n",
    "3.Install CUDA 11.2.2\n",
    "4.Download cuDnn 8.1.1\n",
    "5.Copy CuDnn file to CUDA folder\n",
    "6.Add CUDA bin, incude, x64 folder path to User Variables\n",
    "'''\n",
    "#\n",
    "#Please follow the following instruction"
   ]
  },
  {
   "cell_type": "code",
   "execution_count": null,
   "id": "3d951635",
   "metadata": {},
   "outputs": [],
   "source": [
    "# encoding: utf-8\n",
    "!pip install tensorflow==2.5.0rc0 --upgrade --force-reinstall\n",
    "#!pip install tensorflow"
   ]
  },
  {
   "cell_type": "code",
   "execution_count": null,
   "id": "3aea8f48",
   "metadata": {},
   "outputs": [],
   "source": [
    "!pip install tensorflow-gpu==2.5.0rc0"
   ]
  },
  {
   "cell_type": "code",
   "execution_count": null,
   "id": "f57f928f",
   "metadata": {},
   "outputs": [],
   "source": [
    "#!pip install keras --user --upgrade --force-reinstall for getting right version\n",
    "!pip install keras==2.4.3\n",
    "import keras\n",
    "print(keras.__version__)"
   ]
  },
  {
   "cell_type": "code",
   "execution_count": null,
   "id": "53b1a6fa",
   "metadata": {},
   "outputs": [],
   "source": [
    "#keep doing that\n",
    "!pip install keras==2.5.0rc0\n",
    "import keras\n",
    "print(keras.__version__)\n",
    "#stop at here"
   ]
  },
  {
   "cell_type": "code",
   "execution_count": null,
   "id": "3a556026",
   "metadata": {},
   "outputs": [],
   "source": [
    "#reset and run this\n",
    "#!pip install keras==2.4.3 --user --upgrade --force-reinstall\n",
    "#!pip install keras==2.4.3\n",
    "import keras\n",
    "print(\"Keras ver: \", keras.__version__)"
   ]
  },
  {
   "cell_type": "code",
   "execution_count": null,
   "id": "de9eee07",
   "metadata": {},
   "outputs": [],
   "source": [
    "#requir packages\n",
    "!pip install keras-pos-embd \n",
    "!pip install keras-multi-head \n",
    "!pip install keras-embed-sim \n",
    "import nltk\n",
    "nltk.download('punkt')"
   ]
  },
  {
   "cell_type": "code",
   "execution_count": null,
   "id": "f45cae12",
   "metadata": {},
   "outputs": [],
   "source": [
    "!pip install tensorflow\n",
    "!pip install keras"
   ]
  },
  {
   "cell_type": "code",
   "execution_count": null,
   "id": "102af7a0",
   "metadata": {},
   "outputs": [],
   "source": []
  }
 ],
 "metadata": {
  "kernelspec": {
   "display_name": "Python 3 (ipykernel)",
   "language": "python",
   "name": "python3"
  },
  "language_info": {
   "codemirror_mode": {
    "name": "ipython",
    "version": 3
   },
   "file_extension": ".py",
   "mimetype": "text/x-python",
   "name": "python",
   "nbconvert_exporter": "python",
   "pygments_lexer": "ipython3",
   "version": "3.9.12"
  }
 },
 "nbformat": 4,
 "nbformat_minor": 5
}
