{
 "cells": [
  {
   "cell_type": "code",
   "execution_count": 1,
   "metadata": {},
   "outputs": [
    {
     "name": "stdout",
     "output_type": "stream",
     "text": [
      "SourceCODES\\63\\ChineseLetter.java\n",
      "SourceCODES\\63\\EnglishLetter.java\n",
      "SourceCODES\\63\\Letter.java\n",
      "SourceCODES\\63\\Main.java\n"
     ]
    }
   ],
   "source": [
    "import os\n",
    "import python_debugger as pyd\n",
    "import javalang\n",
    "\n",
    "\n",
    "def listdir_fullpath(d):\n",
    "    return [f for f in os.listdir(d)]\n",
    "\n",
    "def normalizeCode(sourcefileX):\n",
    "    data=pyd.readJavaFile(sourcefileX)\n",
    "    tree = javalang.parse.parse(data)\n",
    "    newCode,_, _ = pyd.AST(tree).getAugmentedCode(changeVariable=False, permuStatement=False)\n",
    "    return newCode\n",
    "\n",
    "if __name__ == '__main__' :\n",
    "    source_dir = \"SourceCODES\" #the source codes\n",
    "    dest_dir = \"NormalizedCODES\" #store the augmented files\n",
    "    cases = listdir_fullpath(source_dir)\n",
    "    for case in cases:\n",
    "        sourcefiledir = source_dir + \"\\\\\" + case\n",
    "        destfiledir = dest_dir + \"\\\\\" + case\n",
    "        if not os.path.exists(destfiledir):\n",
    "            os.mkdir(destfiledir)  #create dest case dir\n",
    "        sourcefiles = listdir_fullpath(sourcefiledir)\n",
    "        for sourcefile in sourcefiles:\n",
    "            if not sourcefile.lower().endswith(\".java\"): continue\n",
    "            destfile = destfiledir + \"\\\\\" + sourcefile\n",
    "            print(sourcefiledir+\"\\\\\"+sourcefile)\n",
    "            newCode = normalizeCode(sourcefiledir+\"\\\\\"+sourcefile)\n",
    "            pyd.write_to_file(newCode, destfile)\n",
    "\n",
    "\n",
    "        \n"
   ]
  }
 ],
 "metadata": {
  "kernelspec": {
   "display_name": "Python 3",
   "language": "python",
   "name": "python3"
  },
  "language_info": {
   "codemirror_mode": {
    "name": "ipython",
    "version": 3
   },
   "file_extension": ".py",
   "mimetype": "text/x-python",
   "name": "python",
   "nbconvert_exporter": "python",
   "pygments_lexer": "ipython3",
   "version": "3.8.3"
  }
 },
 "nbformat": 4,
 "nbformat_minor": 4
}
